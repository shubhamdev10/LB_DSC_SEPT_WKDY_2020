{
 "cells": [
  {
   "cell_type": "code",
   "execution_count": 3,
   "metadata": {
    "colab": {},
    "colab_type": "code",
    "id": "8A5Jw5NR1iEI"
   },
   "outputs": [
    {
     "name": "stdout",
     "output_type": "stream",
     "text": [
      "<class 'int'>\n",
      "4416121472\n"
     ]
    }
   ],
   "source": [
    "#Declare an int value and store it in a variable. \n",
    "\n",
    "test_variable = 10\n",
    "print(type(test_variable))\n",
    "print(id(test_variable))\n",
    "\n",
    "#Check the type and print the id of the same.\n",
    "\n"
   ]
  },
  {
   "cell_type": "code",
   "execution_count": 27,
   "metadata": {
    "colab": {},
    "colab_type": "code",
    "id": "0YU8LFTn1rAX"
   },
   "outputs": [
    {
     "name": "stdout",
     "output_type": "stream",
     "text": [
      "Id of a =  4416121024\n",
      "Id of b =  4416121024\n",
      "Id of c =  140487242966768\n",
      "Id of d =  140487242966096\n"
     ]
    }
   ],
   "source": [
    "#Take one int value between 0 - 256.\n",
    "#Assign it to two different variables.\n",
    "#Check the id of both the variables. It should come same. Check why?\n",
    "\n",
    "a = -4\n",
    "b = -4\n",
    "\n",
    "print(\"Id of a = \",id(a))\n",
    "print(\"Id of b = \",id(b))\n",
    "\n",
    "#The reason for same id is object re-usability between range -5-256\n",
    "\n",
    "#Take one int value either less than -5 or greater than 256.\n",
    "#Assign it to two different variables.\n",
    "#Check the id of both the variables. It should come different.Check why?\n",
    "\n",
    "c = 1000\n",
    "d = 1000\n",
    "\n",
    "print(\"Id of c = \",id(c))\n",
    "print(\"Id of d = \",id(d))\n",
    "\n",
    "#The reason for id is because the number is not present in range -5-256\n"
   ]
  },
  {
   "cell_type": "code",
   "execution_count": 12,
   "metadata": {
    "colab": {},
    "colab_type": "code",
    "id": "YzEIG0ZZ1tSK"
   },
   "outputs": [
    {
     "name": "stdout",
     "output_type": "stream",
     "text": [
      "Sum of value1 and value2 =  26\n",
      "Difference of value1 and value2 =  14\n",
      "Product of value1 and value2 =  120\n",
      "After dividing value1 with value2 =  3.3333333333333335\n",
      "Remainder after dividing value1 with value2 =  2\n",
      "Quotient after dividing value1 with value2 =  3\n",
      "Exponentiation of value1 and value2 =  64000000\n"
     ]
    }
   ],
   "source": [
    "#Arithmatic Operations on integers\n",
    "#Take two different intger values.\n",
    "#Store them in two different variables.\n",
    "#Do below operations on them:-\n",
    "    #Find sum of both numbers\n",
    "    #Find differce between them\n",
    "    #Find the product of both numbers.\n",
    "    #Find value after dividing first num with second number\n",
    "    #Find the remainder after dividing first number with second number\n",
    "    #Find the quotient after dividing first number with second number\n",
    "    #Find the result of first num to the power of second number.\n",
    "    \n",
    "value1 = 20\n",
    "value2 = 6\n",
    "    \n",
    "print(\"Sum of value1 and value2 = \",value1+value2)\n",
    "print(\"Difference of value1 and value2 = \",value1-value2)\n",
    "print(\"Product of value1 and value2 = \",value1*value2)\n",
    "print(\"After dividing value1 with value2 = \",value1/value2)\n",
    "print(\"Remainder after dividing value1 with value2 = \",value1%value2)\n",
    "print(\"Quotient after dividing value1 with value2 = \",value1//value2)\n",
    "print(\"Exponentiation of value1 and value2 = \",value1**value2)"
   ]
  },
  {
   "cell_type": "code",
   "execution_count": 16,
   "metadata": {
    "colab": {},
    "colab_type": "code",
    "id": "GGM7CdzA1wGn"
   },
   "outputs": [
    {
     "name": "stdout",
     "output_type": "stream",
     "text": [
      "Result of expression(a>b) is  False and type of result is  <class 'bool'>\n",
      "Result of expression(a<b) is  True and type of result is  <class 'bool'>\n",
      "Result of expression(a>=b) is  False and type of result is  <class 'bool'>\n",
      "Result of expression(a<=b) is  True and type of result is  <class 'bool'>\n"
     ]
    }
   ],
   "source": [
    "#Comparison Operators on integers\n",
    "#Take two different intger values.\n",
    "#Store them in two different variables.\n",
    "#Do below operations on them:-\n",
    "    #Compare se two numbers with below operator:-\n",
    "        #Greater than, '>'\n",
    "        #Smaller than, '<'\n",
    "        #Greater than or equal to, '>='\n",
    "        #Less than or equal to, '<='\n",
    "#Observe their output(return type should be boolean)\n",
    "\n",
    "a = 10\n",
    "b = 20\n",
    "\n",
    "print(\"Result of expression(a>b) is \",a>b,\"and type of result is \",type(a>b))\n",
    "print(\"Result of expression(a<b) is \",a<b,\"and type of result is \",type(a<b))\n",
    "print(\"Result of expression(a>=b) is \",a>=b,\"and type of result is \",type(a>=b))\n",
    "print(\"Result of expression(a<=b) is \",a<=b,\"and type of result is \",type(a<=b))"
   ]
  },
  {
   "cell_type": "code",
   "execution_count": 17,
   "metadata": {
    "colab": {},
    "colab_type": "code",
    "id": "9x904sUE1y9t"
   },
   "outputs": [
    {
     "name": "stdout",
     "output_type": "stream",
     "text": [
      "Result of expression(a==b) is  False and type of result is  <class 'bool'>\n",
      "Result of expression(a!=b) is  True and type of result is  <class 'bool'>\n"
     ]
    }
   ],
   "source": [
    "#Equality Operator\n",
    "#Take two different intger values.\n",
    "#Store them in two different variables.\n",
    "#Equuate them using equality operator (==, !=)\n",
    "#Observe the output(return type should be boolean)\n",
    "\n",
    "a = 30\n",
    "b = 100\n",
    "\n",
    "print(\"Result of expression(a==b) is \",a==b,\"and type of result is \",type(a==b))\n",
    "print(\"Result of expression(a!=b) is \",a!=b,\"and type of result is \",type(a!=b))"
   ]
  },
  {
   "cell_type": "code",
   "execution_count": 18,
   "metadata": {
    "colab": {},
    "colab_type": "code",
    "id": "JmQFHUwc11S-"
   },
   "outputs": [
    {
     "name": "stdout",
     "output_type": "stream",
     "text": [
      "20\n",
      "0\n",
      "0\n",
      "0\n",
      "10\n",
      "20\n",
      "20\n",
      "0\n",
      "False\n",
      "True\n"
     ]
    }
   ],
   "source": [
    "#Logical operators\n",
    "#Observe the output of below code\n",
    "#Cross check the output manually\n",
    "\n",
    "print(10 and 20)       #----------------------------------------->Output is 20\n",
    "print(0 and 20)        #----------------------------------------->Output is 0\n",
    "print(20 and 0)        #----------------------------------------->Output is 0\n",
    "print(0 and 0)         #----------------------------------------->Output is 0\n",
    "\n",
    "print(10 or 20)        #----------------------------------------->Output is 10\n",
    "print(0 or 20)         #----------------------------------------->Output is 20\n",
    "print(20 or 0)         #----------------------------------------->Output is 20\n",
    "print(0 or 0)          #----------------------------------------->Output is 0\n",
    "\n",
    "print(not 10)          #----------------------------------------->Output is False\n",
    "print(not 0)           #----------------------------------------->Output is True"
   ]
  },
  {
   "cell_type": "code",
   "execution_count": 20,
   "metadata": {
    "colab": {},
    "colab_type": "code",
    "id": "-0tvoulX14Hi"
   },
   "outputs": [
    {
     "name": "stdout",
     "output_type": "stream",
     "text": [
      "Bitwise and of 10,20 is  0\n",
      "Bitwise or of 10,20 is  30\n",
      "Bitwise xor of 10,20 is  30\n",
      "Bitwise negation of 10 is  -11\n",
      "Bitwise left shift of 10,2 is  40\n",
      "Bitwise right shift of 10,2 is  2\n"
     ]
    }
   ],
   "source": [
    "#Bitwise Operators\n",
    "#Do below operations on the values provided below:-\n",
    "    #Bitwise and(&) -----------------------------------------> 10, 20   -------> Output is 0\n",
    "    #Bitwise or(|)  -----------------------------------------> 10, 20   -------> Output is 30\n",
    "    #Bitwise(^)     -----------------------------------------> 10, 20   -------> Output is 30\n",
    "    #Bitwise negation(~) ------------------------------------> 10       -------> Output is -11\n",
    "    #Bitwise left shift  ------------------------------------> 10,2     -------> Output is 40\n",
    "    #Bitwise right shift ------------------------------------> 10,2     -------> Output is 2\n",
    "#Cross check the output manually\n",
    "\n",
    "print(\"Bitwise and of 10,20 is \",10&20)\n",
    "print(\"Bitwise or of 10,20 is \",10|20)\n",
    "print(\"Bitwise xor of 10,20 is \",10^20)\n",
    "print(\"Bitwise negation of 10 is \",~10)\n",
    "print(\"Bitwise left shift of 10,2 is \",10<<2)\n",
    "print(\"Bitwise right shift of 10,2 is \",10>>2)"
   ]
  },
  {
   "cell_type": "code",
   "execution_count": 21,
   "metadata": {
    "colab": {},
    "colab_type": "code",
    "id": "YCcx-Qx016hg"
   },
   "outputs": [
    {
     "name": "stdout",
     "output_type": "stream",
     "text": [
      "True\n",
      "False\n",
      "False\n",
      "True\n"
     ]
    }
   ],
   "source": [
    "#What is the output of expression inside print statement. Cross check before running the program.\n",
    "a = 10\n",
    "b = 10\n",
    "print(a is b)          #True or False? #True\n",
    "print(a is not b)      #True or False? #False\n",
    "\n",
    "a = 1000\n",
    "b = 1000\n",
    "print(a is b)          #True or False? #False\n",
    "print(a is not b)      #True or False? #True"
   ]
  },
  {
   "cell_type": "code",
   "execution_count": 22,
   "metadata": {
    "colab": {},
    "colab_type": "code",
    "id": "Un2To3XN1_Il"
   },
   "outputs": [
    {
     "name": "stdout",
     "output_type": "stream",
     "text": [
      "20\n"
     ]
    }
   ],
   "source": [
    "#What is the output of expression inside print statement. Cross check before running the program.\n",
    "print(10+(10*32)//2**5&20+(~(-10))<<2)\n",
    "# Answer is 20"
   ]
  },
  {
   "cell_type": "code",
   "execution_count": 23,
   "metadata": {
    "colab": {},
    "colab_type": "code",
    "id": "kGRb5RMd1_1I"
   },
   "outputs": [
    {
     "name": "stdout",
     "output_type": "stream",
     "text": [
      "True\n",
      "True\n",
      "True\n",
      "True\n",
      "True\n",
      "True\n"
     ]
    }
   ],
   "source": [
    "#Membership operation\n",
    "#in, not in are two membership operators and it returns boolean value\n",
    "\n",
    "print('2' in 'Python2.7.8')              #True\n",
    "print(10 in [10,10.20,10+20j,'Python'])  #True\n",
    "print(10 in (10,10.20,10+20j,'Python'))  #True\n",
    "print(2 in {1,2,3})                      #True\n",
    "print(3 in {1:100, 2:200, 3:300})        #True\n",
    "print(10 in range(20))                   #True"
   ]
  },
  {
   "cell_type": "code",
   "execution_count": 26,
   "metadata": {
    "colab": {},
    "colab_type": "code",
    "id": "Es7iSvL92B9W"
   },
   "outputs": [
    {
     "name": "stdout",
     "output_type": "stream",
     "text": [
      "Binary value of 9876 is  0b10011010010100\n",
      "Octal value of 9876 is  0o23224\n",
      "Hexadecimal value of 9876 is  0x2694\n"
     ]
    }
   ],
   "source": [
    "#An integer can be represented in binary, octal or hexadecimal form.\n",
    "#Declare one binary, one octal and one hexadecimal value and store them in three different variables.\n",
    "\n",
    "a = 0b110010\n",
    "b = 0o4567\n",
    "c = 0x783f\n",
    "\n",
    "#Convert 9876 to its binary, octal and hexadecimal equivalent and print their corresponding value.\n",
    "\n",
    "print(\"Binary value of 9876 is \",bin(9876))\n",
    "print(\"Octal value of 9876 is \",oct(9876))\n",
    "print(\"Hexadecimal value of 9876 is \",hex(9876))"
   ]
  },
  {
   "cell_type": "code",
   "execution_count": 24,
   "metadata": {
    "colab": {},
    "colab_type": "code",
    "id": "Hm0r03lH2E0i"
   },
   "outputs": [
    {
     "name": "stdout",
     "output_type": "stream",
     "text": [
      "80\n",
      "3870\n",
      "64222\n",
      "0b1010000\n",
      "0o7436\n",
      "0xfade\n",
      "0b1010000\n",
      "0b1111101011011110\n",
      "0o175336\n",
      "0o7436\n",
      "0x50\n",
      "0xfade\n"
     ]
    }
   ],
   "source": [
    "#What will be the outut of following:-\n",
    "a = 0b1010000\n",
    "print(a)\n",
    "#80\n",
    "\n",
    "b = 0o7436\n",
    "print(b)\n",
    "#3870\n",
    "\n",
    "c = 0xfade\n",
    "print(c)\n",
    "#64222\n",
    "\n",
    "print(bin(80))\n",
    "#0b1010000\n",
    "\n",
    "print(oct(3870))\n",
    "#0o7436\n",
    "\n",
    "print(hex(64222))\n",
    "#0xfade\n",
    "\n",
    "print(bin(0b1010000))\n",
    "#0b1010000\n",
    "\n",
    "print(bin(0xfade))\n",
    "#0b1111101011011110\n",
    "\n",
    "print(oct(0xfade))\n",
    "#0o175336\n",
    "\n",
    "print(oct(0o7436))\n",
    "#0o7436\n",
    "\n",
    "print(hex(0b1010000))\n",
    "#0x50\n",
    "\n",
    "print(hex(0xfade))\n",
    "#0xfade"
   ]
  }
 ],
 "metadata": {
  "colab": {
   "name": "int_assignment.ipynb",
   "provenance": []
  },
  "kernelspec": {
   "display_name": "Python 3",
   "language": "python",
   "name": "python3"
  },
  "language_info": {
   "codemirror_mode": {
    "name": "ipython",
    "version": 3
   },
   "file_extension": ".py",
   "mimetype": "text/x-python",
   "name": "python",
   "nbconvert_exporter": "python",
   "pygments_lexer": "ipython3",
   "version": "3.8.3"
  }
 },
 "nbformat": 4,
 "nbformat_minor": 1
}
