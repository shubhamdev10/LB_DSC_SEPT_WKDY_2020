{
  "nbformat": 4,
  "nbformat_minor": 0,
  "metadata": {
    "colab": {
      "name": "Complex_Assignement.ipynb",
      "provenance": []
    },
    "kernelspec": {
      "name": "python3",
      "display_name": "Python 3"
    }
  },
  "cells": [
    {
      "cell_type": "code",
      "metadata": {
        "id": "JoMbQLjK3uHZ",
        "colab_type": "code",
        "colab": {
          "base_uri": "https://localhost:8080/",
          "height": 34
        },
        "outputId": "c17e05a1-5111-403a-e04e-99a679bff1bd"
      },
      "source": [
        "#Declare a complex number and store it in a variable. \n",
        "\n",
        "a = 10+3j\n",
        "\n",
        "#Check the type a = 10+3j\n",
        "print(type(a),id(a))\n",
        "\n"
      ],
      "execution_count": 1,
      "outputs": [
        {
          "output_type": "stream",
          "text": [
            "<class 'complex'> 139922674308304\n"
          ],
          "name": "stdout"
        }
      ]
    },
    {
      "cell_type": "code",
      "metadata": {
        "id": "6N6Ee4BU33jk",
        "colab_type": "code",
        "colab": {
          "base_uri": "https://localhost:8080/",
          "height": 102
        },
        "outputId": "011df479-c9be-4715-babb-11db98b6fb8a"
      },
      "source": [
        "#Arithmatic Operations on complex number\n",
        "#Take two different complex number.\n",
        "#Store them in two different variables.\n",
        "#Do below operations on them:-\n",
        "    #Find sum of both numbers\n",
        "    #Find differce between them\n",
        "    #Find the product of both numbers.\n",
        "    #Find value after dividing first num with second number\n",
        "    #Find the result of first num to the power of second number.\n",
        "\n",
        "a = 2+3j\n",
        "b = 1+4j\n",
        "c = a+b\n",
        "d = a-b\n",
        "e = a*b\n",
        "f = a/b\n",
        "i = a**b\n",
        "print('Sum of {} and {} is {}'.format(a,b,c))\n",
        "print('Difference of {} and {} is {}'.format(a,b,d))\n",
        "print('Product of {} and {} is {}'.format(a,b,e))\n",
        "print('Dividing of {} with {} is {}'.format(a,b,f))\n",
        "print('Result of {} to the power of {} is {}'.format(a,b,i))"
      ],
      "execution_count": 2,
      "outputs": [
        {
          "output_type": "stream",
          "text": [
            "Sum of (2+3j) and (1+4j) is (3+7j)\n",
            "Difference of (2+3j) and (1+4j) is (1-1j)\n",
            "Product of (2+3j) and (1+4j) is (-10+11j)\n",
            "Dividing of (2+3j) with (1+4j) is (0.8235294117647058-0.29411764705882354j)\n",
            "Result of (2+3j) to the power of (1+4j) is (0.06971741850609822-0.012002847561359668j)\n"
          ],
          "name": "stdout"
        }
      ]
    },
    {
      "cell_type": "code",
      "metadata": {
        "id": "xhkdg7LD352y",
        "colab_type": "code",
        "colab": {}
      },
      "source": [
        "#Comparison Operation not applicable between instance of complex values\n",
        "#Object reusability concept is not applicable on complex numebr\n",
        "\n"
      ],
      "execution_count": null,
      "outputs": []
    },
    {
      "cell_type": "code",
      "metadata": {
        "id": "4lzPH2sb38KM",
        "colab_type": "code",
        "colab": {
          "base_uri": "https://localhost:8080/",
          "height": 51
        },
        "outputId": "08d19989-34f4-4196-8e26-ff63b9dce221"
      },
      "source": [
        "#Equality Operator\n",
        "#Take two different complex numbers.\n",
        "#Store them in two different variables.\n",
        "#Equuate them using equality operator (==, !=)\n",
        "#Observe the output(return type should be boolean)\n",
        "\n",
        "a = 2+3j\n",
        "b = 1+4j\n",
        "print (a==b)\n",
        "print (a!=b)\n"
      ],
      "execution_count": 3,
      "outputs": [
        {
          "output_type": "stream",
          "text": [
            "False\n",
            "True\n"
          ],
          "name": "stdout"
        }
      ]
    },
    {
      "cell_type": "code",
      "metadata": {
        "id": "EDEl19UD3_tr",
        "colab_type": "code",
        "colab": {
          "base_uri": "https://localhost:8080/",
          "height": 187
        },
        "outputId": "0e1e7fed-c89b-41ea-c081-fc75ec287b91"
      },
      "source": [
        "#Logical operators\n",
        "#Observe the output of below code\n",
        "#Cross check the output manually\n",
        "\n",
        "print(10+20j and 20+30j)    #20+30j    #----------------------------------------->Output is 20+30j\n",
        "print(0+0j and 20+30j)      #0+0j    #----------------------------------------->Output is 0j\n",
        "print(20+30j and 0+0j)      #0+0j   #----------------------------------------->Output is 0j\n",
        "print(0+0j and 0+0j)        #0+0j   #----------------------------------------->Output is 0j\n",
        "\n",
        "print(10+20j or 20+30j)     #10+20j   #----------------------------------------->Output is 10+20j\n",
        "print(0+0j or 20+30j)       #20+30j   #----------------------------------------->Output is 20+30j\n",
        "print(20+30j or 0+0j)       #20+30j  #----------------------------------------->Output is 20+30j\n",
        "print(0+0j or 0+0j)         #0+0j   #----------------------------------------->Output is 0j\n",
        "\n",
        "print(not 10+20j)           #False   #----------------------------------------->Output is False\n",
        "print(not 0+0j)             #True   #----------------------------------------->Output is True"
      ],
      "execution_count": 4,
      "outputs": [
        {
          "output_type": "stream",
          "text": [
            "(20+30j)\n",
            "0j\n",
            "0j\n",
            "0j\n",
            "(10+20j)\n",
            "(20+30j)\n",
            "(20+30j)\n",
            "0j\n",
            "False\n",
            "True\n"
          ],
          "name": "stdout"
        }
      ]
    },
    {
      "cell_type": "code",
      "metadata": {
        "id": "4ifueKbP4Br1",
        "colab_type": "code",
        "colab": {
          "base_uri": "https://localhost:8080/",
          "height": 51
        },
        "outputId": "9c3999e0-fbe0-4c4e-82e4-f8939e48c212"
      },
      "source": [
        "#What is the output of expression inside print statement. Cross check before running the program.\n",
        "a = 10+20j\n",
        "b = 10+20j\n",
        "print(a is b)       #False   #True or False? False\n",
        "print(a is not b)   #True   #True or False?  True\n"
      ],
      "execution_count": 6,
      "outputs": [
        {
          "output_type": "stream",
          "text": [
            "False\n",
            "True\n"
          ],
          "name": "stdout"
        }
      ]
    },
    {
      "cell_type": "code",
      "metadata": {
        "id": "TxMbr5jQ4Dwl",
        "colab_type": "code",
        "colab": {
          "base_uri": "https://localhost:8080/",
          "height": 119
        },
        "outputId": "68a9b5c8-60d3-4564-9d89-412b582b296b"
      },
      "source": [
        "#Membership operation\n",
        "#in, not in are two membership operators and it returns boolean value\n",
        "\n",
        "print('2.7' in 'Python2.7.8')                      #True\n",
        "print(10+20j in [10,10.20,10+20j,'Python'])        #True\n",
        "print(10+20j in (10,10.20,10+20j,'Python'))        #True\n",
        "print(30+40j in {1,20.30,30+40j})                  #True\n",
        "print(30+40j in {1:100, 2.3:200, 30+40j:300})      #True\n",
        "print(10 in range(20))                             #True"
      ],
      "execution_count": 7,
      "outputs": [
        {
          "output_type": "stream",
          "text": [
            "True\n",
            "True\n",
            "True\n",
            "True\n",
            "True\n",
            "True\n"
          ],
          "name": "stdout"
        }
      ]
    }
  ]
}