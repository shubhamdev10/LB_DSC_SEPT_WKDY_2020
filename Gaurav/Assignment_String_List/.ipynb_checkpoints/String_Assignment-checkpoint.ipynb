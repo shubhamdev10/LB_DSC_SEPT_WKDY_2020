{
 "cells": [
  {
   "cell_type": "code",
   "execution_count": 2,
   "metadata": {
    "colab": {},
    "colab_type": "code",
    "id": "OG2JlAXx3VoJ"
   },
   "outputs": [
    {
     "name": "stdout",
     "output_type": "stream",
     "text": [
      "<class 'str'> 2325647985712\n"
     ]
    }
   ],
   "source": [
    "#Declare a string and store it in a variable. \n",
    "\n",
    "myString = 'This is my first String assignment'\n",
    "\n",
    "#Check the type and print the id of the same.\n",
    "\n",
    "print(type(myString), id(myString))\n"
   ]
  },
  {
   "cell_type": "code",
   "execution_count": null,
   "metadata": {
    "colab": {},
    "colab_type": "code",
    "id": "wPxm3G8W3dqN"
   },
   "outputs": [],
   "source": [
    "#Which are valid/invalid strings\n",
    "1. 'This is Python class'\n",
    "# valid\n",
    "\n",
    "2. \"This is Python class\"\n",
    "# valid\n",
    "\n",
    "3. '''This is Python class'''\n",
    "# valid\n",
    "\n",
    "4. \"\"\"This is Python class\"\"\"\n",
    "# valid\n",
    "\n",
    "5. 'This is Python's class'\n",
    "# invalid\n",
    "\n",
    "6. \"Learnbay provides \"Java\", \"Python\" classes\"\n",
    "# invalid\n",
    "\n",
    "7. \"Learnbay provides 'Java', 'Python' classes\"\n",
    "# valid\n",
    "\n",
    "8. \"This is Python's class\"\n",
    "# valid\n",
    "\n",
    "9. \"\"\"Learnbay provides \"Java\", \"Python\" classes\"\"\"\n",
    "# valid\n",
    "\n",
    "10. '''Learnbay provides \"Java\", \"Python\" classes'''\n",
    "# valid\n",
    "\n",
    "11. '''Learnbay provides\n",
    "\"Java\", \"Python\" \n",
    "classes'''\n",
    "# valid\n",
    "\n",
    "12. 'This is\n",
    "Python \n",
    "class'\n",
    "# invalid\n"
   ]
  },
  {
   "cell_type": "code",
   "execution_count": 11,
   "metadata": {
    "colab": {},
    "colab_type": "code",
    "id": "Drx8fhT23g7a"
   },
   "outputs": [
    {
     "name": "stdout",
     "output_type": "stream",
     "text": [
      "The length of my_str is 66\n",
      "id of my_str and my_str1 is same? - False\n",
      "Type of my_str is: <class 'str'>\n"
     ]
    }
   ],
   "source": [
    "#Write the code to get the output mentioned below print statement\n",
    "my_str = \"Although that way may not be obvious at first unless you're Dutch.\"\n",
    "my_str1 = \"Although that way may not be obvious at first unless you're Dutch.\"\n",
    "\n",
    "print('The length of my_str is {}'.format(len(my_str)))\n",
    "#output:- The length of my_str is 66\n",
    "\n",
    "print('id of my_str and my_str1 is same? - {}'.format(id(my_str)==id(my_str1)) )\n",
    "#output:- id of my_str and my_str1 is same? - True\n",
    "\n",
    "print('Type of my_str is: {}'.format(type(my_str)))\n",
    "#output:- Type of my_str is: str"
   ]
  },
  {
   "cell_type": "code",
   "execution_count": 21,
   "metadata": {
    "colab": {},
    "colab_type": "code",
    "id": "403e-I3A3lCO"
   },
   "outputs": [
    {
     "name": "stdout",
     "output_type": "stream",
     "text": [
      "The first character in my_str is: A\n",
      "The last character in my_str is: h\n",
      "The character at index 10 in my_str is:  \n",
      "The character at index -2 in my_str is: c\n",
      "The last character in my_str is: h\n",
      "The last character in my_str is: h\n",
      "The character in my_str is: 8\n"
     ]
    }
   ],
   "source": [
    "#Indexing\n",
    "my_str = \"Although 8 that way may not be obvious at first unless you're Dutch\"\n",
    "#Write the code to get the output,instructions are mentioned below print statement. use indexing\n",
    "\n",
    "print(f'The first character in my_str is: {my_str[0]}' )\n",
    "#output:- The first character in my_str is: A\n",
    "#Note:- Use positive indexing\n",
    "\n",
    "print(f'The last character in my_str is: {my_str[len(my_str) - 1]}')\n",
    "#output:- The first character in my_str is: h\n",
    "#Note:- Use len() function.\n",
    "\n",
    "print(f'The character at index 10 in my_str is: {my_str[10]}') # There is no 'c' character at index 10 but at -2\n",
    "print(f'The character at index -2 in my_str is: {my_str[-2]}')\n",
    "#output:- The character at index 10 in my_str is: c\n",
    "#Note:- Use positive indexing\n",
    "\n",
    "print(f'The last character in my_str is: {my_str[-1]}')\n",
    "#output:- The last character in my_str is: h\n",
    "#Note:- Use negative indexing.\n",
    "\n",
    "print(f'The last character in my_str is: {my_str[len(my_str) - 1]}')\n",
    "#output:- The last character in my_str is: h\n",
    "#Note:- Use len() function.\n",
    "\n",
    "print(f'The character in my_str is: {my_str[9]}')\n",
    "#output:- The character in my_str is: 8\n",
    "#Note:- Use positive index"
   ]
  },
  {
   "cell_type": "code",
   "execution_count": 142,
   "metadata": {
    "colab": {},
    "colab_type": "code",
    "id": "NK_QdtsM3luu"
   },
   "outputs": [
    {
     "name": "stdout",
     "output_type": "stream",
     "text": [
      "You have sliced: Although that way may not be obvious at first unless you're Dutch.Without begin, end and step\n",
      "You have sliced: Although that way may not be obvious at first unless you're Dutch.with begin as 0 end using len and without step\n",
      "You have sliced: Although that way may not be obvious at first unless you're Dutch.without begin and end but using step\n",
      "You have sliced: Although that way may not be obvious at first unless you're Dutch.With begin, end and step\n",
      "You have sliced: with using begin and end using postive values and step as negative values.\n",
      "You have sliced: Atog htwymyntb biu tfrtuls o'eDth\n",
      "You have sliced: Ahgttam tebo  r lsorDc\n",
      "You have sliced: .hctuD er'uoy sselnu tsrif ta suoivbo eb ton yam yaw taht hguohtlA. Use only step\n",
      "You have sliced: .hctuD er'uoy sselnu tsrif ta suoivbo eb ton yam yaw taht hguohtlA. Use begin end and step.\n",
      "You have sliced: .cu ruysen si asovoe o a a athuhl. use only step\n",
      "You have sliced: .cu ruysen si asovoe o a a athuhl. use begin, end and step.\n",
      "\n",
      "You have sliced:  yaw ta, Using begin, end and step.\n",
      "You have sliced: ess you. Using begin, end and step.\n"
     ]
    }
   ],
   "source": [
    "\n",
    "#Slicing\n",
    "my_str = \"Although that way may not be obvious at first unless you're Dutch.\"\n",
    "#Write the code to get the output,instructions are mentioned below print statement. use slicing\n",
    "print(f\"You have sliced: {my_str[::]}Without begin, end and step\")\n",
    "#output:- You have sliced: Although that way may not be obvious at first unless you're Dutch.Without begin, end and step\n",
    "\n",
    "\n",
    "print(f\"You have sliced: {my_str[0:len(my_str)]}with begin as 0 end using len and without step\")\n",
    "#output:- You have sliced: Although that way may not be obvious at first unless you're Dutch.with begin as 0 end using len and without step\n",
    "\n",
    "\n",
    "print(f\"You have sliced: {my_str[::1]}without begin and end but using step\")\n",
    "#output:- You have sliced: Although that way may not be obvious at first unless you're Dutch.without begin and end but using step\n",
    "\n",
    "\n",
    "print(f\"You have sliced: {my_str[0:len(my_str):1]}With begin, end and step\")\n",
    "#output:- You have sliced: Although that way may not be obvious at first unless you're Dutch.With begin, end and step\n",
    "\n",
    "\n",
    "print(f\"You have sliced: {my_str[0:len(my_str):-1]}with using begin and end using postive values and step as negative values.\")\n",
    "#output:- You have sliced:   .with using begin and end using postive values and step as negative values.\n",
    "#Slicing command should print empty string.\n",
    "\n",
    "\n",
    "print(f\"You have sliced: {my_str[0:len(my_str):2]}\")\n",
    "#output:- You have sliced: Atog htwymyntb biu tfrtuls o'eDth\n",
    "\n",
    "\n",
    "print(f\"You have sliced: {my_str[0:len(my_str):3]}\")\n",
    "#output:- You have sliced: Ahgttam tebo  r lsorDc\n",
    "\n",
    "\n",
    "print(f\"You have sliced: {my_str[::-1]}. Use only step\")\n",
    "#output:- You have sliced: .hctuD er'uoy sselnu tsrif ta suoivbo eb ton yam yaw taht hguohtlA. Use only step\n",
    "\n",
    "\n",
    "print(f\"You have sliced: {my_str[-1:-(len(my_str)+1):-1]}. Use begin end and step.\")\n",
    "#output:- You have sliced: .hctuD er'uoy sselnu tsrif ta suoivbo eb ton yam yaw taht hguohtlA. Use begin end and step.\n",
    "\n",
    "\n",
    "print(f\"You have sliced: {my_str[::-2]}. use only step\")\n",
    "#output:- You have sliced: .cu ruysen si asovoe o a a athuhl. use only step\n",
    "\n",
    "\n",
    "print(f\"You have sliced: {my_str[-1:-(len(my_str)+1):-2]}. use begin, end and step.\")\n",
    "#output:- You have sliced: .cu ruysen si asovoe o a a athuhl. use begin, end and step.\n",
    "\n",
    "\n",
    "print(my_str[10:17:-1])\n",
    "#What will be the output?\n",
    "# The output is empty string\n",
    "\n",
    "print(f\"You have sliced: {my_str[17:10:-1]}, Using begin, end and step.\")\n",
    "#output:- You have sliced: yaw ta, Using begin, end and step.\n",
    "\n",
    "print(f\"You have sliced: {my_str[49:56:1]}. Using begin, end and step.\")\n",
    "#output:- You have sliced: ess you. Using begin, end and step.\n"
   ]
  },
  {
   "cell_type": "code",
   "execution_count": 68,
   "metadata": {
    "colab": {},
    "colab_type": "code",
    "id": "qUSYa5x-3n5j"
   },
   "outputs": [
    {
     "name": "stdout",
     "output_type": "stream",
     "text": [
      "Learnbay Python\n",
      "Learnbay Python\n",
      "LearnbayLearnbayLearnbay\n"
     ]
    }
   ],
   "source": [
    "#Basic operation on string\n",
    "str1 = 'Learnbay'\n",
    "str2 = 'Python'\n",
    "\n",
    "#Write the code to get the output,instructions are mentioned below.\n",
    "#Output is: Learnbay Python\n",
    "print(str1, str2)\n",
    "print(str1 + ' ' + str2)\n",
    "\n",
    "#Error: TypeError: can only concatenate str (not \"int\") to str\n",
    "# print(str1 + 1)\n",
    "\n",
    "#Error: TypeError: can only concatenate str (not \"float\") to str\n",
    "# print(str1 + 1.0)\n",
    "\n",
    "\n",
    "#Find below Output\n",
    "#Output is: LearnbayLearnbayLearnbay\n",
    "print(str1*3)\n",
    "\n",
    "#Error: TypeError: can't multiply sequence by non-int of type 'float'\n",
    "# print(str1*4.3)\n",
    "\n",
    "#Error: TypeError: can't multiply sequence by non-int of type 'str'\n",
    "# print(str1*'a')\n"
   ]
  },
  {
   "cell_type": "code",
   "execution_count": 73,
   "metadata": {
    "colab": {},
    "colab_type": "code",
    "id": "gREffmnr3s-p"
   },
   "outputs": [
    {
     "name": "stdout",
     "output_type": "stream",
     "text": [
      "True\n",
      "False\n",
      "False\n",
      "True\n",
      "True\n",
      "False\n"
     ]
    }
   ],
   "source": [
    "#Find below Output\n",
    "str1 = 'Python'\n",
    "str2 = 'Python'\n",
    "str3 = 'Python$'\n",
    "str4 = 'Python$'\n",
    "\n",
    "#print True by using identity operator between str1 and str2\n",
    "print(str1 is str2)\n",
    "\n",
    "#print False by using identity operator between str1 and str3\n",
    "print(str1 is str3)\n",
    "\n",
    "#print False by using identity operator between str4 and str3\n",
    "print(str3 is str4)\n",
    "\n",
    "#Check if P is available in str1 and print True by using membership operator\n",
    "print('P' in str1)\n",
    "\n",
    "#Check if $ is available in str3 and print True by using membership operator\n",
    "print('$' in str3)\n",
    "\n",
    "#Check if N is available in str3 and print False by using membership operator\n",
    "print('N' in str3)\n",
    "\n"
   ]
  },
  {
   "cell_type": "code",
   "execution_count": 143,
   "metadata": {
    "colab": {},
    "colab_type": "code",
    "id": "QNFjxDr73u2H"
   },
   "outputs": [],
   "source": [
    "#Complete the below code\n",
    "str1 = 'This is Python class'\n",
    "#write the code to replace 'Python' with 'Java' and you should get below error.\n",
    "#TypeError: 'str' object does not support item assignment.\n",
    "\n",
    "str1[8:14] = 'Java'\n"
   ]
  },
  {
   "cell_type": "code",
   "execution_count": 77,
   "metadata": {
    "colab": {},
    "colab_type": "code",
    "id": "-JgFbPmn3w3D"
   },
   "outputs": [
    {
     "name": "stdout",
     "output_type": "stream",
     "text": [
      "True\n",
      "True\n",
      "False\n",
      "False\n"
     ]
    }
   ],
   "source": [
    "str1 = 'A'\n",
    "str2 = 'A'\n",
    "#Compare str1 and str2 and print True using comparison operator\n",
    "print(str1 >= str2)\n",
    "\n",
    "#Compare str1 and str2 and print True using equality operator\n",
    "print(str1 == str2)\n",
    "\n",
    "#Compare str1 and str2 and print False using equality operator\n",
    "print(str1 < str2)\n",
    "\n",
    "#Compare str1 and str2 and print False using comparison operator\n",
    "print(str1 != str2)\n"
   ]
  },
  {
   "cell_type": "code",
   "execution_count": 80,
   "metadata": {
    "colab": {},
    "colab_type": "code",
    "id": "fJ46_L-53yhW"
   },
   "outputs": [
    {
     "name": "stdout",
     "output_type": "stream",
     "text": [
      "True\n",
      "True\n",
      "False\n",
      "False\n"
     ]
    }
   ],
   "source": [
    "str1 = 'A'\n",
    "str2 = 'a'\n",
    "#Compare str1 and str2 and print True using comparison operator\n",
    "print(str1 < str2)\n",
    "\n",
    "#Compare str1 and str2 and print True using equality operator\n",
    "print(str1 != str2)\n",
    "\n",
    "#Compare str1 and str2 and print False using equality operator\n",
    "print(str1 > str2)\n",
    "\n",
    "#Compare str1 and str2 and print False using comparison operator\n",
    "print(str1 == str2)\n"
   ]
  },
  {
   "cell_type": "code",
   "execution_count": 83,
   "metadata": {
    "colab": {},
    "colab_type": "code",
    "id": "e-Lr9va330gi"
   },
   "outputs": [
    {
     "name": "stdout",
     "output_type": "stream",
     "text": [
      "True\n",
      "False\n"
     ]
    }
   ],
   "source": [
    "str1 = 'A'\n",
    "str2 = '65'\n",
    "#Compare str1 and str2 using comparison operator and it should give below error.\n",
    "#Error: TypeError: '>=' not supported between instances of 'str' and 'int'\n",
    "# print(str1 >= int(str2))\n",
    "\n",
    "#Compare str1 and str2 and print True using equality operator\n",
    "\n",
    "print(str1 > str2)\n",
    "\n",
    "#Compare str1 and str2 and print False using equality operator\n",
    "print(str1 == str2)\n"
   ]
  },
  {
   "cell_type": "code",
   "execution_count": 85,
   "metadata": {
    "colab": {},
    "colab_type": "code",
    "id": "JO04jmpN32Im"
   },
   "outputs": [
    {
     "name": "stdout",
     "output_type": "stream",
     "text": [
      "True\n",
      "True\n",
      "False\n",
      "False\n"
     ]
    }
   ],
   "source": [
    "str1 = 'Python'\n",
    "str2 = 'Python'\n",
    "#Compare str1 and str2 and print True using comparison operator\n",
    "\n",
    "print(str1 >= str2)\n",
    "#Compare str1 and str2 and print True using equality operator\n",
    "print(str1 == str2)\n",
    "\n",
    "#Compare str1 and str2 and print False using equality operator\n",
    "print(str1 < str2)\n",
    "\n",
    "#Compare str1 and str2 and print False using comparison operator\n",
    "print(str1 != str2)\n"
   ]
  },
  {
   "cell_type": "code",
   "execution_count": 87,
   "metadata": {
    "colab": {},
    "colab_type": "code",
    "id": "nmVAYYC_35ip"
   },
   "outputs": [
    {
     "name": "stdout",
     "output_type": "stream",
     "text": [
      "True\n",
      "True\n",
      "False\n",
      "False\n"
     ]
    }
   ],
   "source": [
    "str1 = 'Python'\n",
    "str2 = 'python'\n",
    "#Compare str1 and str2 and print True using comparison operator\n",
    "print(str1 < str2)\n",
    "\n",
    "#Compare str1 and str2 and print True using equality operator\n",
    "print(str1 != str2)\n",
    "\n",
    "#Compare str1 and str2 and print False using equality operator\n",
    "print(str1 > str2)\n",
    "\n",
    "#Compare str1 and str2 and print False using comparison operator\n",
    "print(str1 == str2)\n"
   ]
  },
  {
   "cell_type": "code",
   "execution_count": 88,
   "metadata": {
    "colab": {},
    "colab_type": "code",
    "id": "7ulv5ith37OJ"
   },
   "outputs": [
    {
     "name": "stdout",
     "output_type": "stream",
     "text": [
      "\n",
      "Python\n",
      "False\n",
      "True\n",
      "\n"
     ]
    }
   ],
   "source": [
    "a = 'Python'\n",
    "b = ''\n",
    "\n",
    "#Apply logical opereators (and, or & not) on above string values and observe the output.\n",
    "print(a and b) # b\n",
    "print(a or b)  # a\n",
    "print(not a)   # False\n",
    "print(not b)   #True\n",
    "print()"
   ]
  },
  {
   "cell_type": "code",
   "execution_count": 89,
   "metadata": {
    "colab": {},
    "colab_type": "code",
    "id": "Yg_gsZBL383n"
   },
   "outputs": [
    {
     "name": "stdout",
     "output_type": "stream",
     "text": [
      "\n",
      "\n",
      "True\n"
     ]
    }
   ],
   "source": [
    "a = ''\n",
    "b = ''\n",
    "\n",
    "#Apply logical opereators (and, or & not) on above string values and observe the output.\n",
    "print(a and b) # a\n",
    "print(a or b)  # b\n",
    "print(not a)   # True"
   ]
  },
  {
   "cell_type": "code",
   "execution_count": 90,
   "metadata": {
    "colab": {},
    "colab_type": "code",
    "id": "cIWkP9Hf3-q5"
   },
   "outputs": [
    {
     "name": "stdout",
     "output_type": "stream",
     "text": [
      "learnbay\n",
      "Python\n",
      "False\n",
      "False\n"
     ]
    }
   ],
   "source": [
    "a = 'Python'\n",
    "b = 'learnbay'\n",
    "\n",
    "#Apply logical opereators (and, or & not) on above string values and observe the output.\n",
    "print(a and b) # b\n",
    "print(a or b)  # a\n",
    "print(not a)   # False\n",
    "print(not b)   # False"
   ]
  },
  {
   "cell_type": "code",
   "execution_count": 105,
   "metadata": {
    "colab": {},
    "colab_type": "code",
    "id": "Y0Ot_E704AX5"
   },
   "outputs": [
    {
     "name": "stdout",
     "output_type": "stream",
     "text": [
      "7\n",
      "2\n",
      "9\n",
      "9\n",
      "-1\n",
      "11\n",
      "63\n",
      "63\n"
     ]
    }
   ],
   "source": [
    "my_str = \"Although 8 that way may not be obvious at first unless you're Dutch\"\n",
    "\n",
    "#Write the code to get the total count of 't' in above string. Use find() and index() method.\n",
    "print(my_str.count('t'))\n",
    "print(my_str.find('t'))\n",
    "\n",
    "#Write the code to get the index of '8' in my_str. Use find() and index() method.\n",
    "print(my_str.index('8'))\n",
    "print(my_str.find('8'))\n",
    "\n",
    "#What will be the output of below code?\n",
    "print(my_str.find('the'))\n",
    "# -1\n",
    "\n",
    "# print(my_str.index('the')) - ValueError: substring not found \n",
    "\n",
    "\n",
    "print(my_str.find('t', 9, 15)) # 11\n",
    "\n",
    "\n",
    "print(my_str.rfind('u'))  # 63\n",
    "\n",
    "print(my_str.rindex('u')) #63\n",
    "\n"
   ]
  },
  {
   "cell_type": "code",
   "execution_count": 107,
   "metadata": {
    "colab": {},
    "colab_type": "code",
    "id": "Gommq59Q4CMi"
   },
   "outputs": [
    {
     "name": "stdout",
     "output_type": "stream",
     "text": [
      "Python\n",
      "Python\n",
      "Python\n"
     ]
    }
   ],
   "source": [
    "#W A P which applies strip() method if any string, which will be taken from user, starts and ends with space, or applies \n",
    "#rrstrip() method if that string only ends with space or applies lstrip() method if that string only starts with a space.\n",
    "\n",
    "#For example:-\n",
    "#input:- '    Python   '\n",
    "#output:- 'Python'\n",
    "print('    Python   '.strip())\n",
    "\n",
    "#input:- '    Python'\n",
    "#output:- 'Python'\n",
    "print('    Python'.lstrip())\n",
    "\n",
    "#input:- 'Python   '\n",
    "#output:- 'Python'\n",
    "print('Python   '.rstrip())"
   ]
  },
  {
   "cell_type": "code",
   "execution_count": 109,
   "metadata": {
    "colab": {},
    "colab_type": "code",
    "id": "9IUy-cpS4Dtt"
   },
   "outputs": [
    {
     "name": "stdout",
     "output_type": "stream",
     "text": [
      "ALTHOUGH 8 THAT WAY MAY NOT BE OBVIOUS AT FIRST UNLESS YOU'RE DUTCH\n",
      "although 8 that way may not be obvious at first unless you're dutch\n",
      "aLTHOUGH 8 THAT WAY MAY NOT BE OBVIOUS AT FIRST UNLESS YOU'RE dUTCH\n"
     ]
    }
   ],
   "source": [
    "my_str = \"Although 8 that way may not be obvious at first unless you're Dutch\"\n",
    "\n",
    "#Write the code to convert all alphabets in my_str into upper case.\n",
    "print(my_str.upper())\n",
    "\n",
    "#Write the code to convert all alphabets in my_str into lower case.\n",
    "print(my_str.lower())\n",
    "\n",
    "#Write the code to swap the cases of all alphabets in my_str.(lower to upper and upper to lower)\n",
    "print(my_str.swapcase())\n",
    "\n"
   ]
  },
  {
   "cell_type": "code",
   "execution_count": 114,
   "metadata": {
    "colab": {},
    "colab_type": "code",
    "id": "-BjS-z674HKW"
   },
   "outputs": [
    {
     "name": "stdout",
     "output_type": "stream",
     "text": [
      "Enter a String: Welcome to the world of python.\n",
      "Welcome To The World Of Python.\n"
     ]
    }
   ],
   "source": [
    "#Write the code which takes one string from user and if it starts with small case letter then convert it to corresponding \n",
    "#capital letter otherwise if starts with capital letters then convert first character of every word in that string into capital.\n",
    "\n",
    "myStr = input('Enter a String: ')\n",
    "if myStr[0].islower():\n",
    "    print(myStr.capitalize())\n",
    "else:\n",
    "    print(myStr.title())"
   ]
  },
  {
   "cell_type": "code",
   "execution_count": 115,
   "metadata": {
    "colab": {},
    "colab_type": "code",
    "id": "-MCuDy5J4JQS"
   },
   "outputs": [
    {
     "name": "stdout",
     "output_type": "stream",
     "text": [
      "Enter a String: Hello\n",
      "True\n",
      "True\n",
      "False\n",
      "False\n",
      "False\n",
      "True\n",
      "False\n",
      "False\n",
      "False\n"
     ]
    }
   ],
   "source": [
    "#Take a string from user and check if it is:-\n",
    "#     1. alphanumeric\n",
    "#     2. alphabets\n",
    "#     3. digit\n",
    "#     4. all letters are in lower case\n",
    "#     5. all letters are in upper case\n",
    "#     6. in title case\n",
    "#     7. a space character\n",
    "#     8. numeric\n",
    "#     9. all number elements in string are decimal\n",
    "\n",
    "myStr = input('Enter a String: ')\n",
    "\n",
    "print(myStr.isalnum())\n",
    "print(myStr.isalpha())\n",
    "print(myStr.isdigit())\n",
    "print(myStr.islower())\n",
    "print(myStr.isupper())\n",
    "print(myStr.istitle())\n",
    "print(myStr.isspace())\n",
    "print(myStr.isnumeric())\n",
    "print(myStr.isdecimal())\n"
   ]
  },
  {
   "cell_type": "code",
   "execution_count": 119,
   "metadata": {
    "colab": {},
    "colab_type": "code",
    "id": "tiTN-4ik4KAG"
   },
   "outputs": [
    {
     "name": "stdout",
     "output_type": "stream",
     "text": [
      "Enter a String: Hello\n",
      "True\n"
     ]
    }
   ],
   "source": [
    "#W A P which takes a string as an input and prints True if the string is valid identifier else returns False.\n",
    "#Sample Input:- 'abc', 'abc1', 'ab1c', '1abc', 'abc$', '_abc', 'if'\n",
    "\n",
    "myStr = input('Enter a String: ')\n",
    "print(myStr.isidentifier())\n"
   ]
  },
  {
   "cell_type": "code",
   "execution_count": 123,
   "metadata": {
    "colab": {},
    "colab_type": "code",
    "id": "tAMkSIN84MPe"
   },
   "outputs": [
    {
     "name": "stdout",
     "output_type": "stream",
     "text": [
      "True\n",
      "False\n",
      "False\n",
      "True\n"
     ]
    }
   ],
   "source": [
    "#What will be output of below code?\n",
    "s = chr(65) + chr(97)\n",
    "print(s.isprintable()) # True\n",
    "\n",
    "s = chr(27) + chr(97)\n",
    "print(s.isprintable()) # False\n",
    "\n",
    "s = '\\n'\n",
    "print(s.isprintable()) # False\n",
    "\n",
    "s = ''\n",
    "print(s.isprintable()) # True"
   ]
  },
  {
   "cell_type": "code",
   "execution_count": 124,
   "metadata": {
    "colab": {},
    "colab_type": "code",
    "id": "pU9Os0mD4Pk1"
   },
   "outputs": [
    {
     "name": "stdout",
     "output_type": "stream",
     "text": [
      "True\n",
      "True\n",
      "True\n",
      "True\n",
      "False\n",
      "False\n"
     ]
    }
   ],
   "source": [
    "#What will be output of below code?\n",
    "my_string = '  '\n",
    "print(my_string.isascii())\n",
    "# True\n",
    "\n",
    "my_string = 'Studytonight'\n",
    "print(my_string.isascii())\n",
    "# True\n",
    "\n",
    "my_string = 'Study tonight'\n",
    "print(my_string.isascii())\n",
    "# True\n",
    "\n",
    "my_string = 'Studytonight@123'\n",
    "print(my_string.isascii())\n",
    "# True\n",
    "\n",
    "my_string = '°'\n",
    "print(my_string.isascii())\n",
    "# False\n",
    "my_string = 'ö'\n",
    "print(my_string.isascii())\n",
    "#False"
   ]
  },
  {
   "cell_type": "code",
   "execution_count": 125,
   "metadata": {
    "colab": {},
    "colab_type": "code",
    "id": "VsLV8FF74QTB"
   },
   "outputs": [
    {
     "name": "stdout",
     "output_type": "stream",
     "text": [
      "The strings are equal.\n"
     ]
    }
   ],
   "source": [
    "#What will be the output of below code?\n",
    "firstString = \"der Fluß\"\n",
    "secondString = \"der Fluss\"\n",
    "\n",
    "if firstString.casefold() == secondString.casefold(): #aggressive lower methid, result is true\n",
    "    print('The strings are equal.')\n",
    "else:\n",
    "    print('The strings are not equal.')"
   ]
  },
  {
   "cell_type": "code",
   "execution_count": 187,
   "metadata": {
    "colab": {},
    "colab_type": "code",
    "id": "1m0U7jLa4Wjf"
   },
   "outputs": [
    {
     "name": "stdout",
     "output_type": "stream",
     "text": [
      "python**\n",
      "**python\n",
      "**python**\n",
      "**python**\n"
     ]
    }
   ],
   "source": [
    "#Write the code to get below output\n",
    "#O/P 1:- python** (using ljust method)\n",
    "print('python'.ljust(8,'*'))\n",
    "\n",
    "#Write the code to get below output\n",
    "#O/P 1:- **python (using rjust method)\n",
    "print('python'.rjust(8,'*'))\n",
    "\n",
    "#Write the code to get below output\n",
    "#O/P 1:- **python** (using rjust method)\n",
    "print('python'.rjust(8,'*').ljust(10,'*'))\n",
    "print('python'.center(10,'*'))"
   ]
  },
  {
   "cell_type": "code",
   "execution_count": 133,
   "metadata": {
    "colab": {},
    "colab_type": "code",
    "id": "cRVkvW6s4YKK"
   },
   "outputs": [
    {
     "name": "stdout",
     "output_type": "stream",
     "text": [
      "55\n"
     ]
    }
   ],
   "source": [
    "#Write a Python program to find the length of the my_str:-\n",
    "\n",
    "#Input:- 'Write a Python program to find the length of the my_str'\n",
    "#Output:- 55\n",
    "\n",
    "my_str = 'Write a Python program to find the length of the my_str'\n",
    "print(len(my_str))\n"
   ]
  },
  {
   "cell_type": "code",
   "execution_count": 134,
   "metadata": {
    "colab": {},
    "colab_type": "code",
    "id": "SjABWI284Zuz"
   },
   "outputs": [
    {
     "name": "stdout",
     "output_type": "stream",
     "text": [
      "9\n"
     ]
    }
   ],
   "source": [
    "#Write a Python program to find the total number of times letter 'p' is appeared in the below string:-\n",
    "    \n",
    "#Input:- 'peter piper picked a peck of pickled peppers.'\n",
    "#Output:- 9\n",
    "\n",
    "my_str = 'peter piper picked a peck of pickled peppers.'\n",
    "print(my_str.count('p'))\n"
   ]
  },
  {
   "cell_type": "code",
   "execution_count": 166,
   "metadata": {
    "colab": {},
    "colab_type": "code",
    "id": "-iZtqbEo4bQp"
   },
   "outputs": [
    {
     "name": "stdout",
     "output_type": "stream",
     "text": [
      "6\n",
      "8\n",
      "12\n",
      "21\n",
      "29\n",
      "37\n",
      "39\n",
      "40\n"
     ]
    }
   ],
   "source": [
    "#Write a Python Program, to print all the indexes of all occurences of letter 'p' appeared in the string:-\n",
    "    \n",
    "#Input:- 'peter piper picked a peck of pickled peppers.'\n",
    "#Output:- \n",
    "# 0\n",
    "# 6\n",
    "# 8\n",
    "# 12\n",
    "# 21\n",
    "# 29\n",
    "# 37\n",
    "# 39\n",
    "# 40\n",
    "\n",
    "my_str = 'peter piper picked a peck of pickled peppers.'\n",
    "\n",
    "j = 0\n",
    "i = 0\n",
    "while  j >= 0:\n",
    "    j = my_str.find('p',i)\n",
    "    if j > 0:\n",
    "            print(j)\n",
    "    i = j+1\n",
    "    \n"
   ]
  },
  {
   "cell_type": "code",
   "execution_count": 167,
   "metadata": {
    "colab": {},
    "colab_type": "code",
    "id": "_A8Eu8f84daM"
   },
   "outputs": [
    {
     "name": "stdout",
     "output_type": "stream",
     "text": [
      "['peter', 'piper', 'picked', 'a', 'peck', 'of', 'pickled', 'peppers.']\n"
     ]
    }
   ],
   "source": [
    "#Write a python program to find below output:-\n",
    "\n",
    "#Input:- 'peter piper picked a peck of pickled peppers.'\n",
    "#Output:- ['peter', 'piper', 'picked', 'a', 'peck', 'of', 'pickled', 'peppers.']\n",
    "\n",
    "my_str = 'peter piper picked a peck of pickled peppers.'\n",
    "print(my_str.split())"
   ]
  },
  {
   "cell_type": "code",
   "execution_count": 169,
   "metadata": {
    "colab": {},
    "colab_type": "code",
    "id": "juh7tQuL4fNc"
   },
   "outputs": [
    {
     "name": "stdout",
     "output_type": "stream",
     "text": [
      "peppers. pickled of peck a picked piper peter\n"
     ]
    }
   ],
   "source": [
    "#Write a python program to find below output:-\n",
    "\n",
    "#Input:- 'peter piper picked a peck of pickled peppers.'\n",
    "#Output:- 'peppers. pickled of peck a picked piper peter'\n",
    "\n",
    "my_str = 'peter piper picked a peck of pickled peppers.'\n",
    "print(' '.join(my_str.split()[::-1]))"
   ]
  },
  {
   "cell_type": "code",
   "execution_count": 170,
   "metadata": {
    "colab": {},
    "colab_type": "code",
    "id": "aaHQYz194fW7"
   },
   "outputs": [
    {
     "name": "stdout",
     "output_type": "stream",
     "text": [
      ".sreppep delkcip fo kcep a dekcip repip retep\n"
     ]
    }
   ],
   "source": [
    "#Write a python program to find below output:-\n",
    "\n",
    "#Input:- 'peter piper picked a peck of pickled peppers.'\n",
    "#Output:- '.sreppep delkcip fo kcep a dekcip repip retep'\n",
    "\n",
    "my_str = 'peter piper picked a peck of pickled peppers.'\n",
    "print(my_str[::-1])"
   ]
  },
  {
   "cell_type": "code",
   "execution_count": 173,
   "metadata": {
    "colab": {},
    "colab_type": "code",
    "id": "LSgj9glC4feI"
   },
   "outputs": [
    {
     "name": "stdout",
     "output_type": "stream",
     "text": [
      "retep repip dekcip a kcep fo delkcip .sreppep\n"
     ]
    }
   ],
   "source": [
    "#Write a python program to find below output:-\n",
    "\n",
    "#Input:- 'peter piper picked a peck of pickled peppers.'\n",
    "#Output:- 'retep repip dekcip a kcep fo delkcip .sreppep'\n",
    "\n",
    "my_str = 'peter piper picked a peck of pickled peppers.'\n",
    "print(' '.join([i[::-1] for i in my_str.split()]))\n"
   ]
  },
  {
   "cell_type": "code",
   "execution_count": 174,
   "metadata": {
    "colab": {},
    "colab_type": "code",
    "id": "WUxPAkY94foo"
   },
   "outputs": [
    {
     "name": "stdout",
     "output_type": "stream",
     "text": [
      "Peter Piper Picked A Peck Of Pickled Peppers.\n"
     ]
    }
   ],
   "source": [
    "#Write a python program to find below output:-\n",
    "\n",
    "#Input:- 'peter piper picked a peck of pickled peppers.'\n",
    "#Output:- 'Peter Piper Picked A Peck Of Pickled Peppers.'\n",
    "\n",
    "my_str = 'peter piper picked a peck of pickled peppers.'\n",
    "print(my_str.title())\n"
   ]
  },
  {
   "cell_type": "code",
   "execution_count": 176,
   "metadata": {
    "colab": {},
    "colab_type": "code",
    "id": "IT1NSPxA4mww"
   },
   "outputs": [
    {
     "name": "stdout",
     "output_type": "stream",
     "text": [
      "Peter piper picked a peck of pickled peppers.\n"
     ]
    }
   ],
   "source": [
    "#Write a python program to find below output:-\n",
    "\n",
    "#Input:- 'Peter Piper Picked A Peck Of Pickled Peppers.'\n",
    "#Output:- 'Peter piper picked a peck of pickled peppers.'\n",
    "\n",
    "my_str = 'Peter Piper Picked A Peck Of Pickled Peppers.'\n",
    "print(my_str.capitalize())"
   ]
  },
  {
   "cell_type": "code",
   "execution_count": 183,
   "metadata": {
    "colab": {},
    "colab_type": "code",
    "id": "3Gg65vSc4m3C"
   },
   "outputs": [
    {
     "data": {
      "text/plain": [
       "-1"
      ]
     },
     "execution_count": 183,
     "metadata": {},
     "output_type": "execute_result"
    }
   ],
   "source": [
    "#Write a python program to implement index method. If sub_str is found in my_str then it will print the index\n",
    "# of first occurrence of first character of matching string in my_str:-\n",
    "\n",
    "#Input:- my_str = 'Peter Piper Picked A Peck Of Pickled Peppers.', sub_str = 'Pickl'\n",
    "#Output:- 29\n",
    "\n",
    "def findIndex(inputString, searchString):\n",
    "    return inputString.find(searchString)\n",
    "\n",
    "my_str = 'Peter Piper Picked A Peck Of Pickled Peppers.'\n",
    "\n",
    "findIndex(my_str, 'Pickl')"
   ]
  },
  {
   "cell_type": "code",
   "execution_count": 180,
   "metadata": {
    "colab": {},
    "colab_type": "code",
    "id": "iFRhp_JI4m6k"
   },
   "outputs": [
    {
     "data": {
      "text/plain": [
       "'Peter Piper Picked A Pack Of Pickled Peppers.'"
      ]
     },
     "execution_count": 180,
     "metadata": {},
     "output_type": "execute_result"
    }
   ],
   "source": [
    "#Write a python program to implement replace method. If sub_str is found in my_str then it will replace the first \n",
    "#occurrence of sub_str with new_str else it will will print sub_str not found:-\n",
    "\n",
    "#Input:- my_str = 'Peter Piper Picked A Peck Of Pickled Peppers.', sub_str = 'Peck', new_str = 'Pack'\n",
    "#Output:- 'Peter Piper Picked A Pack Of Pickled Peppers.'\n",
    "\n",
    "def replaceString(inputString, sub_str, new_str):\n",
    "    if inputString.find(sub_str) >= 0:\n",
    "        return inputString.replace(sub_str, new_str)\n",
    "    else:\n",
    "        return 'sub_str not found'\n",
    "    \n",
    "my_str = 'Peter Piper Picked A Peck Of Pickled Peppers.'\n",
    "replaceString(my_str, 'Peck', 'Pack')\n",
    "#replaceString(my_str, 'Deck', 'Pack')"
   ]
  },
  {
   "cell_type": "code",
   "execution_count": 218,
   "metadata": {
    "colab": {},
    "colab_type": "code",
    "id": "dQ9YhBBc4m9V"
   },
   "outputs": [
    {
     "name": "stdout",
     "output_type": "stream",
     "text": [
      "Peter Piper Picked A Peck Of Pickled Peppers.\n"
     ]
    },
    {
     "data": {
      "text/plain": [
       "'*****************Peck************************'"
      ]
     },
     "execution_count": 218,
     "metadata": {},
     "output_type": "execute_result"
    }
   ],
   "source": [
    "#Write a python program to find below output (implements rjust and ljust):-\n",
    "\n",
    "#Input:- 'Peter Piper Picked A Peck Of Pickled Peppers.', sub_str = 'Peck', \n",
    "#Output:- '*********************Peck********************'\n",
    "\n",
    "def printFormatting(input_str, sub_str):\n",
    "    return(sub_str.rjust(input_str.find(sub_str),'*').ljust(len(input_str),'*'))\n",
    "    \n",
    "my_str = 'Peter Piper Picked A Peck Of Pickled Peppers.'\n",
    "\n",
    "print(my_str)\n",
    "printFormatting(my_str, 'Peck')"
   ]
  },
  {
   "cell_type": "code",
   "execution_count": null,
   "metadata": {
    "colab": {},
    "colab_type": "code",
    "id": "w37BRLdt4tYT"
   },
   "outputs": [],
   "source": []
  },
  {
   "cell_type": "code",
   "execution_count": null,
   "metadata": {
    "colab": {},
    "colab_type": "code",
    "id": "W64gCpeu4vaF"
   },
   "outputs": [],
   "source": []
  }
 ],
 "metadata": {
  "colab": {
   "collapsed_sections": [],
   "name": "String_Assignment.ipynb",
   "provenance": []
  },
  "kernelspec": {
   "display_name": "Python 3",
   "language": "python",
   "name": "python3"
  },
  "language_info": {
   "codemirror_mode": {
    "name": "ipython",
    "version": 3
   },
   "file_extension": ".py",
   "mimetype": "text/x-python",
   "name": "python",
   "nbconvert_exporter": "python",
   "pygments_lexer": "ipython3",
   "version": "3.8.3"
  }
 },
 "nbformat": 4,
 "nbformat_minor": 1
}
