{
  "nbformat": 4,
  "nbformat_minor": 0,
  "metadata": {
    "colab": {
      "name": "float_assignment.ipynb",
      "provenance": []
    },
    "kernelspec": {
      "name": "python3",
      "display_name": "Python 3"
    }
  },
  "cells": [
    {
      "cell_type": "code",
      "metadata": {
        "id": "dlrMB-Qy2taV",
        "colab_type": "code",
        "colab": {
          "base_uri": "https://localhost:8080/",
          "height": 35
        },
        "outputId": "7af51f96-15ab-4dce-da31-dab72c58a81a"
      },
      "source": [
        "#Declare a float value and store it in a variable. \n",
        "\n",
        "a=3.0\n",
        "\n",
        "\n",
        "\n",
        "#Check the type and print the id of the same.\n",
        "print(type(a), id(a))\n",
        "\n"
      ],
      "execution_count": 1,
      "outputs": [
        {
          "output_type": "stream",
          "text": [
            "<class 'float'> 139660561252240\n"
          ],
          "name": "stdout"
        }
      ]
    },
    {
      "cell_type": "code",
      "metadata": {
        "id": "IL4fVDHg2wbI",
        "colab_type": "code",
        "colab": {
          "base_uri": "https://localhost:8080/",
          "height": 139
        },
        "outputId": "8789d72f-f123-4679-acb8-5c875a2b7a94"
      },
      "source": [
        "#Arithmatic Operations on float\n",
        "#Take two different float values.\n",
        "a=2.0\n",
        "b=5.0\n",
        "#Store them in two different variables.\n",
        "\n",
        "#Do below operations on them:-\n",
        "    #Find sum of both numbers\n",
        "print(a+b)\n",
        "    #Find differce between them\n",
        "print(b-a)\n",
        "    #Find the product of both numbers.\n",
        "print(a*b)\n",
        "    #Find value after dividing first num with second number\n",
        "print(a/b)\n",
        "    #Find the remainder after dividing first number with second number\n",
        "print(a%b)\n",
        "    #Find the quotient after dividing first number with second number\n",
        "print(a//b)\n",
        "    #Find the result of first num to the power of second number.\n",
        "print(a**b)"
      ],
      "execution_count": 2,
      "outputs": [
        {
          "output_type": "stream",
          "text": [
            "7.0\n",
            "3.0\n",
            "10.0\n",
            "0.4\n",
            "2.0\n",
            "0.0\n",
            "32.0\n"
          ],
          "name": "stdout"
        }
      ]
    },
    {
      "cell_type": "code",
      "metadata": {
        "id": "atCFaH6c2492",
        "colab_type": "code",
        "colab": {
          "base_uri": "https://localhost:8080/",
          "height": 87
        },
        "outputId": "f45d6f07-10a5-43ff-ac81-c44f1ca6a998"
      },
      "source": [
        "#Comparison Operators on float\n",
        "#Take two different float values.\n",
        "a=3.0\n",
        "b=3.0\n",
        "#Store them in two different variables.\n",
        "\n",
        "#Do below operations on them:-\n",
        "    #Compare these two numbers with below operator:-\n",
        "        #Greater than, '>'\n",
        "print(a>b)\n",
        "        #Smaller than, '<'\n",
        "print(a<b)\n",
        "        #Greater than or equal to, '>='\n",
        "print(a>=b)\n",
        "        #Less than or equal to, '<='\n",
        "print(a<=b)\n",
        "#Observe their output(return type should be boolean)\n",
        "\n",
        "\n",
        "\n",
        "\n",
        "\n",
        "\n",
        "\n",
        "\n"
      ],
      "execution_count": 4,
      "outputs": [
        {
          "output_type": "stream",
          "text": [
            "False\n",
            "False\n",
            "True\n",
            "True\n"
          ],
          "name": "stdout"
        }
      ]
    },
    {
      "cell_type": "code",
      "metadata": {
        "id": "agi3U3863A5i",
        "colab_type": "code",
        "colab": {
          "base_uri": "https://localhost:8080/",
          "height": 52
        },
        "outputId": "ad21b7c3-7adf-40cf-af54-921d2748a2f7"
      },
      "source": [
        "#Equality Operator\n",
        "#Take two different float values.\n",
        "#Store them in two different variables.\n",
        "a=2.0\n",
        "b=10.0\n",
        "#Equuate them using equality operator (==, !=)\n",
        "print(a==b)\n",
        "print(a!=b)\n",
        "#Observe the output(return type should be boolean)\n",
        "\n",
        "\n",
        "\n",
        "\n",
        "\n",
        "\n"
      ],
      "execution_count": 5,
      "outputs": [
        {
          "output_type": "stream",
          "text": [
            "False\n",
            "True\n"
          ],
          "name": "stdout"
        }
      ]
    },
    {
      "cell_type": "code",
      "metadata": {
        "id": "3HLlgaEt3EnJ",
        "colab_type": "code",
        "colab": {
          "base_uri": "https://localhost:8080/",
          "height": 191
        },
        "outputId": "2acb5797-3c80-4f91-fb08-c69cbab3d58b"
      },
      "source": [
        "#Logical operators\n",
        "#Observe the output of below code\n",
        "#Cross check the output manually\n",
        "\n",
        "print(10.20 and 20.30)       #both are true and second value taken >Output is 20.3\n",
        "print(0.0 and 20.30)         #First is false so first value taken->Output is 0.0\n",
        "print(20.30 and 0.0)         #Goes to till second and second value is false so second is taken>Output is 0.0\n",
        "print(0.0 and 0.0)           #First is false so first value is taken->Output is 0.0\n",
        "\n",
        "print(10.20 or 20.30)        #First is True so first value is taken>Output is 10.2\n",
        "print(0.0 or 20.30)          #Goes to till second and second is true second value is taken->Output is 20.3\n",
        "print(20.30 or 0.0)          #First is True so first value is taken->Output is 20.3\n",
        "print(0.0 or 0.0)            #Goes to till second and secod is also false and second value is taken>Output is 0.0\n",
        "\n",
        "print(not 10.20)             #-Not of true is false->Output is False\n",
        "print(not 0.0)               #Not of false is True>Output is True"
      ],
      "execution_count": 6,
      "outputs": [
        {
          "output_type": "stream",
          "text": [
            "20.3\n",
            "0.0\n",
            "0.0\n",
            "0.0\n",
            "10.2\n",
            "20.3\n",
            "20.3\n",
            "0.0\n",
            "False\n",
            "True\n"
          ],
          "name": "stdout"
        }
      ]
    },
    {
      "cell_type": "code",
      "metadata": {
        "id": "7YdyRNtk3UZd",
        "colab_type": "code",
        "colab": {
          "base_uri": "https://localhost:8080/",
          "height": 69
        },
        "outputId": "358a5277-f773-42de-e029-d4323c2783ab"
      },
      "source": [
        "#What is the output of expression inside print statement. Cross check before running the program.\n",
        "a = 10.20\n",
        "b = 10.20\n",
        "print(a)\n",
        "print(a is b)          #True or False? True 10.20<256\n",
        "print(a is not b)      #True or False? False\n",
        "\n",
        "\n",
        "# Why the Id of float values are different when the same value is assigned to two different variables\n",
        "# ex: a = 10.5 b=10.5. but id will be same if I assign the variable having float i.e. a=c then both a anc c's\n",
        "# Id are same\n",
        "# Answer: Float does not follow the object reusability concept unlike int as different float values like 10.23 and 10.22 wil appear as a single value of 10.2\n"
      ],
      "execution_count": 12,
      "outputs": [
        {
          "output_type": "stream",
          "text": [
            "10.2\n",
            "False\n",
            "True\n"
          ],
          "name": "stdout"
        }
      ]
    },
    {
      "cell_type": "code",
      "metadata": {
        "id": "iTvnIMLd3VLW",
        "colab_type": "code",
        "colab": {}
      },
      "source": [
        "#Bitwise operation is not applicable between instances of float.\n",
        "## Why the Id of float values are different when the same value is assigned to two different variables\n",
        "## ex: a = 10.5 b=10.5. but id will be same if I assign the variable having float i.e. a=c then both a anc c's\n",
        "## Id are same\n",
        "#Object reusability concept is not applicable on float values."
      ],
      "execution_count": null,
      "outputs": []
    },
    {
      "cell_type": "code",
      "metadata": {
        "id": "29AVJHpx3YUo",
        "colab_type": "code",
        "colab": {
          "base_uri": "https://localhost:8080/",
          "height": 121
        },
        "outputId": "718682d2-d10b-4296-c90c-9e92d3a22bf1"
      },
      "source": [
        "#Membership operation\n",
        "#in, not in are two membership operators and it returns boolean value\n",
        "\n",
        "print('2.7' in 'Python2.7.8')              #True\n",
        "print(10.20 in [10,10.20,10+20j,'Python']) #True\n",
        "print(10.20 in (10,10.20,10+20j,'Python')) # True\n",
        "print(20.30 in {1,20.30,30+40j})           # True\n",
        "print(2.3 in {1:100, 2.3:200, 30+40j:300}) # True\n",
        "print(10 in range(20))                     # True"
      ],
      "execution_count": 13,
      "outputs": [
        {
          "output_type": "stream",
          "text": [
            "True\n",
            "True\n",
            "True\n",
            "True\n",
            "True\n",
            "True\n"
          ],
          "name": "stdout"
        }
      ]
    }
  ]
}