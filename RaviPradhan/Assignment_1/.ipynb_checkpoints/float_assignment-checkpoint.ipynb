{
 "cells": [
  {
   "cell_type": "markdown",
   "metadata": {},
   "source": [
    "# 1.2 Float Assignment"
   ]
  },
  {
   "cell_type": "markdown",
   "metadata": {},
   "source": [
    "### 1\n",
    "\n",
    "    - Declare a float value and store it in a variable. \n",
    "    - Check the type and print the id of the same."
   ]
  },
  {
   "cell_type": "code",
   "execution_count": 1,
   "metadata": {},
   "outputs": [
    {
     "name": "stdout",
     "output_type": "stream",
     "text": [
      "<class 'float'> \n",
      "\n",
      " Location Id of value 100.256 is 2958487981296\n"
     ]
    }
   ],
   "source": [
    "a = 100.256\n",
    "print (type(a), '\\n\\n', f'Location Id of value {a} is', id(a))"
   ]
  },
  {
   "cell_type": "markdown",
   "metadata": {},
   "source": [
    "### 2 - Arithmatic Operations on float\n",
    "\n",
    "    - Take two different float values.\n",
    "    - Store them in two different variables.\n",
    "\n",
    "    - Do below operations on them:-\n",
    "        Find sum of both numbers\n",
    "        Find differce between them\n",
    "        Find the product of both numbers.\n",
    "        Find value after dividing first num with second number\n",
    "        Find the remainder after dividing first number with second number\n",
    "        Find the quotient after dividing first number with second number\n",
    "        Find the result of first num to the power of second number."
   ]
  },
  {
   "cell_type": "code",
   "execution_count": 2,
   "metadata": {},
   "outputs": [
    {
     "name": "stdout",
     "output_type": "stream",
     "text": [
      "Addition of 10.256 and 20.753 is 31.009\n",
      "Difference of 10.256 and 20.753 is -10.497\n",
      "Product of 10.256 and 20.753 is 212.842768\n",
      "Division of 10.256 from 20.753 is 0.49419361056232836\n",
      "Remainder from division of 10.256 from 20.753 is 10.256\n",
      "Quotient from division of 10.256 from 20.753 is 0.0\n",
      "10.256 to the power of 20.753 is 9.56812161303202e+20\n"
     ]
    }
   ],
   "source": [
    "a = 10.256\n",
    "b = 20.753\n",
    "\n",
    "print (f'Addition of {a} and {b} is', a+b)\n",
    "print (f'Difference of {a} and {b} is', a-b)\n",
    "print (f'Product of {a} and {b} is', a*b)\n",
    "print (f'Division of {a} from {b} is', a/b)\n",
    "print (f'Remainder from division of {a} from {b} is', a%b)\n",
    "print (f'Quotient from division of {a} from {b} is', a//b)\n",
    "print (f'{a} to the power of {b} is', a**b)"
   ]
  },
  {
   "cell_type": "markdown",
   "metadata": {},
   "source": [
    "### 3 - Comparison Operators on float\n",
    "\n",
    "    - Take two different float values.\n",
    "    - Store them in two different variables.\n",
    "\n",
    "    - Do below operations on them:-\n",
    "        - Compare these two numbers with below operator:-\n",
    "            Greater than, '>'\n",
    "            Smaller than, '<'\n",
    "            Greater than or equal to, '>='\n",
    "            Less than or equal to, '<='\n",
    "\n",
    "    - Observe their output(return type should be boolean)"
   ]
  },
  {
   "cell_type": "code",
   "execution_count": 64,
   "metadata": {},
   "outputs": [
    {
     "name": "stdout",
     "output_type": "stream",
     "text": [
      "Is 10.256 greater than 20.753 ? False\n",
      "Output type = <class 'bool'> \n",
      "\n",
      "Is 10.256 smaller than 20.753 ? True\n",
      "Output type = <class 'bool'> \n",
      "\n",
      "Is 10.256 greater than or equal to 20.753 ? False\n",
      "Output type = <class 'bool'> \n",
      "\n",
      "Is 10.256 less than or equal to 20.753 ? True\n",
      "Output type = <class 'bool'> \n",
      "\n"
     ]
    }
   ],
   "source": [
    "a = 10.256\n",
    "b = 20.753\n",
    "\n",
    "p = a > b\n",
    "print (f'Is {a} greater than {b} ?', p)\n",
    "print ('Output type =', type(p), '\\n')\n",
    "\n",
    "q = a < b\n",
    "print (f'Is {a} smaller than {b} ?', q)\n",
    "print ('Output type =', type(q), '\\n')\n",
    "\n",
    "r = a >= b\n",
    "print (f'Is {a} greater than or equal to {b} ?', r)\n",
    "print ('Output type =', type(r), '\\n')\n",
    "\n",
    "s = a <= b\n",
    "print (f'Is {a} less than or equal to {b} ?', s)\n",
    "print ('Output type =', type(s), '\\n')"
   ]
  },
  {
   "cell_type": "markdown",
   "metadata": {},
   "source": [
    "### 4 - Equality Operator\n",
    "\n",
    "    - Take two different float values.\n",
    "    - Store them in two different variables.\n",
    "\n",
    "    - Equuate them using equality operator (==, !=)\n",
    "\n",
    "    - Observe the output(return type should be boolean)"
   ]
  },
  {
   "cell_type": "code",
   "execution_count": 6,
   "metadata": {},
   "outputs": [
    {
     "name": "stdout",
     "output_type": "stream",
     "text": [
      "Is 10.256 equivalent to 20.753 ? False\n",
      "Output type = <class 'bool'> \n",
      "\n",
      "Is 10.256 Not equivalent to 20.753 ? True\n",
      "Output type = <class 'bool'>\n"
     ]
    }
   ],
   "source": [
    "a = 10.256\n",
    "b = 20.753\n",
    "\n",
    "m = a == b\n",
    "print (f'Is {a} equivalent to {b} ?', m)\n",
    "print ('Output type =', type(m), '\\n')\n",
    "\n",
    "n = a != b\n",
    "print (f'Is {a} Not equivalent to {b} ?', n)\n",
    "print ('Output type =', type(n))"
   ]
  },
  {
   "cell_type": "markdown",
   "metadata": {},
   "source": [
    "### 5 - Logical operators\n",
    "\n",
    "    - Observe the output of below code\n",
    "    - Cross check the output manually\n",
    "\n",
    "    print(10.20 and 20.30)       #both are true and second value taken >Output is 20.3\n",
    "    print(0.0 and 20.30)         #First is false so first value taken->Output is 0.0\n",
    "    print(20.30 and 0.0)         #Goes to till second and second value is false so second is taken>Output is 0.0\n",
    "    print(0.0 and 0.0)           #First is false so first value is taken->Output is 0.0\n",
    "\n",
    "    print(10.20 or 20.30)        #First is True so first value is taken>Output is 10.2\n",
    "    print(0.0 or 20.30)          #Goes to till second and second is true second value is taken->Output is 20.3\n",
    "    print(20.30 or 0.0)          #First is True so first value is taken->Output is 20.3\n",
    "    print(0.0 or 0.0)            #Goes to till second and secod is also false and second value is taken>Output is 0.0\n",
    "\n",
    "    print(not 10.20)             #-Not of true is false->Output is False\n",
    "    print(not 0.0)               #Not of false is True>Output is True"
   ]
  },
  {
   "cell_type": "code",
   "execution_count": 61,
   "metadata": {},
   "outputs": [
    {
     "name": "stdout",
     "output_type": "stream",
     "text": [
      "20.3\n",
      "0.0\n",
      "0.0\n",
      "0.0\n"
     ]
    }
   ],
   "source": [
    "# Properties of logical and operator:\n",
    "#     - The output is True only if all the expressions are true\n",
    "#     - The lookout is always for the 1st False operation (Ex. if there are 2 expressions in the statement)\n",
    "#         While executing the statement, if at any instance an expression is False -> output is the the 1st false expression\n",
    "#         If there are no False expression by the end of execution -> output is the last expression\n",
    "\n",
    "# Truth table of and logical operator\n",
    "#    True and True =   True    (output is 2nd expression, which is the last expression)\n",
    "#    True and False =  False   (output is 2nd expression, which is the last expression)\n",
    "#    False and True =  False   (output is 1st expression, which is the 1st False expression)\n",
    "#    False and False = False   (output is 1st expression, which is the 1st False expression)\n",
    "\n",
    "# as in the below examples there are only 2 expressions, only 1st expression needs to be checked\n",
    "# if the 1st expression is False -> o/p = 1st expression --> else o/p = 2nd expression\n",
    "\n",
    "print(10.20 and 20.30)       # as 1st expression is True -> Output is 2nd/last expression 20.30\n",
    "print(0.0 and 20.30)        # as 1st expression is False -> Output is 1st False expression 0.0\n",
    "print(20.30 and 0.0)        # as 1st expression is True -> Output is 2nd/last expression 0.0\n",
    "print(0.0 and 0.0)         # as 1st expression is False -> Output is 1st False expression 0.0\n"
   ]
  },
  {
   "cell_type": "code",
   "execution_count": 60,
   "metadata": {},
   "outputs": [
    {
     "name": "stdout",
     "output_type": "stream",
     "text": [
      "10.2\n",
      "20.3\n",
      "20.3\n",
      "0.0\n"
     ]
    }
   ],
   "source": [
    "# Properties of logical or operator:\n",
    "#     - The output is True if any 1 or both the expressions are true\n",
    "#     - The lookout is always for the 1st True operation\n",
    "#         While executing the statement, if at any instance an expression is True -> output is the the 1st True expression\n",
    "#         If there are no True expression by the end of execution -> output is the last expression\n",
    "\n",
    "# Truth table of or logical operator\n",
    "#    True or True =    True    (output is 1st expression, which is the 1st True expression)\n",
    "#    True or False =   False   (output is 1st expression, which is the 1st True expression)\n",
    "#    False or True =   False   (output is 2nd expression, which is the last expression)\n",
    "#    False or False =  False   (output is 2nd expression, which is the last expression)\n",
    "\n",
    "# as in the below examples there are only 2 expressions, only 1st expression needs to be checked\n",
    "# if the 1st expression is True -> o/p = 1st expression --> else o/p = 2nd expression\n",
    "\n",
    "print(10.20 or 20.30)        # as 1st expressions is True -> Output is 1st True expression 10.20\n",
    "print(0.0 or 20.30)          # as 1st expressions is False -> Output is 2nd/last expression 20.30\n",
    "print(20.30 or 0.0)          # as 1st expressions is True -> Output is 1st True expression 20.30\n",
    "print(0.0 or 0.0)            # as 1st expressions is False -> Output is 2nd/last expression 0.0"
   ]
  },
  {
   "cell_type": "code",
   "execution_count": 65,
   "metadata": {},
   "outputs": [
    {
     "name": "stdout",
     "output_type": "stream",
     "text": [
      "False\n",
      "True\n"
     ]
    }
   ],
   "source": [
    "# Properties of logical not operator:\n",
    "#     - The output is True if expression is False &\n",
    "#     - The output is False if expression is True\n",
    "\n",
    "# Truth table of and logical operator\n",
    "#    True = False  (output is False, if expression is True)\n",
    "#    False = True  (output is True, if expression is False)\n",
    "\n",
    "# an expression is True if:\n",
    "#     str -> 'A-Z', 'a-z', ' ', '_', 'any special character', '0-9'\n",
    "#     number -> any positive or negative number that is divisible\n",
    "#     boolean expression -> True\n",
    "\n",
    "# an expression is False if:\n",
    "#     str -> '' (Empty)\n",
    "#     number -> 0\n",
    "#     boolean expression -> False\n",
    "#     None\n",
    "    \n",
    "\n",
    "print(not 10.20)   # 10.20 is a +ve divisible number which is a True expression -> Output of not operator is False\n",
    "print(not 0.0)     # 0.0 is a non-divisible number which is a False expression -> Output of not operator is True"
   ]
  },
  {
   "cell_type": "markdown",
   "metadata": {},
   "source": [
    "### 6 - What is the output of expression inside print statement.\n",
    "\n",
    "    a = 10.20\n",
    "    b - 10.20\n",
    "    print(a is b)          #True or False? True 10.20<256\n",
    "    print(a is not b)      #True or False? False\n",
    "\n",
    "\n",
    "    - Why the Id of float values are different when the same value is assigned to two different variables\n",
    "        ex: a = 10.5 b=10.5.\n",
    "\n",
    "    - Cross check before running the program."
   ]
  },
  {
   "cell_type": "code",
   "execution_count": 62,
   "metadata": {},
   "outputs": [
    {
     "name": "stdout",
     "output_type": "stream",
     "text": [
      "Id's of a: 2958488906416 and b: 2958488904848 are False\n",
      "Id's a: 2958488906416 and b: 2958488904848 are not True \n",
      "\n"
     ]
    }
   ],
   "source": [
    "# is, is not are the Identity operator\n",
    "# an identity operator matches the id of 2 or more operands.\n",
    "#     If the Id's of all the operands matches -> O/p is True\n",
    "#     If the Id's of all the operands does not match -> O/p is False\n",
    "\n",
    "# NOTE:\n",
    "#     Object reusability - that object should be reused in case if it is already existing in the memeory\n",
    "#         (but object reusability in Python is applicable for limited values only)\n",
    "#             int -> -5 - 256\n",
    "#             str -> A - Z, a- z, 0-9, _\n",
    "#             None\n",
    "#             True, False\n",
    "\n",
    "#     Rest all object does not follow object reusability \n",
    "\n",
    "a = 10.0\n",
    "b = 10.0\n",
    "\n",
    "print(f'Id\\'s of a: {id(a)} and b: {id(b)} are {a is b}')                 # Output is False (as object reusability is not applicable to float type)\n",
    "print(f'Id\\'s a: {id(a)} and b: {id(b)} are not {a is not b}', '\\n')      # Output is True  (as id of a != id of b)\n"
   ]
  },
  {
   "cell_type": "code",
   "execution_count": null,
   "metadata": {},
   "outputs": [],
   "source": [
    "### 7 - What is the output of expression inside print statement.\n",
    "\n",
    "    a = 10.20\n",
    "    b = 10.20\n",
    "    print(a is b)\n",
    "    \n",
    "    c = a\n",
    "    print(a is c)\n",
    "\n",
    "\n",
    "Why the Id of float values are different when the same value is assigned to two different variables\n",
    "ex: a = 10.5 b=10.5. but id will be same if I assign the variable having float i.e. a=c then both a anc c's\n",
    "Id are same\n",
    "Object reusability concept is not applicable on float values."
   ]
  },
  {
   "cell_type": "code",
   "execution_count": 54,
   "metadata": {},
   "outputs": [
    {
     "name": "stdout",
     "output_type": "stream",
     "text": [
      "Id's of a: 2958488905776 and b: 2958488904720 are False \n",
      "\n",
      "Id's of a: 2958488905776 and c: 2958488905776 are True\n"
     ]
    }
   ],
   "source": [
    "a = 10.0\n",
    "b = 10.0\n",
    "\n",
    "print(f'Id\\'s of a: {id(a)} and b: {id(b)} are {a is b} \\n')   # Output is False (as object reusability is not applicable to float type)\n",
    "\n",
    "c = a\n",
    "print(f'Id\\'s of a: {id(a)} and c: {id(c)} are {c is a}')   # Output is False (as"
   ]
  },
  {
   "cell_type": "markdown",
   "metadata": {},
   "source": [
    "### 8 - Membership operation\n",
    "\n",
    "    in, not in are two membership operators and it returns boolean value\n",
    "\n",
    "        print('2.7' in 'Python2.7.8')              #True\n",
    "        print(10.20 in [10,10.20,10+20j,'Python']) #True\n",
    "        print(10.20 in (10,10.20,10+20j,'Python')) # True\n",
    "        print(20.30 in {1,20.30,30+40j})           # True\n",
    "        print(2.3 in {1:100, 2.3:200, 30+40j:300}) # True\n",
    "        print(10 in range(20))                     # True"
   ]
  },
  {
   "cell_type": "code",
   "execution_count": 63,
   "metadata": {},
   "outputs": [
    {
     "name": "stdout",
     "output_type": "stream",
     "text": [
      "True\n",
      "True\n",
      "True\n",
      "True\n",
      "True\n"
     ]
    }
   ],
   "source": [
    "# Membership operation checks whether an element is part of the sequence or not\n",
    "# in, not in are two membership operators\n",
    "# Membership operation always returns a boolean value (True False)\n",
    "# Note: membership operation is case sensitive\n",
    "\n",
    "print('2.7' in 'Python2.7.8')                 # O/p is True as str '2.7' exists in the str 'Python2.7.8' \n",
    "print(10.20 in [10,10.20,10+20j,'Python'])    # O/p is True as float 10.20 exists in the list [10,10.20,10+20j,'Python']\n",
    "print(10.20 in (10,10.20,10+20j,'Python'))    # O/p is True as float 10.20 exists in the tuple (10,10.20,10+20j,'Python')\n",
    "print(20.30 in {1,20.30,30+40j})              # O/p is True as float 10.20 exists in the set {1,20.30,30+40j}\n",
    "print(2.3 in {1:100, 2.3:200, 30+40j:300})    # O/p is True as float 2.3 exists in the dict {1:100, 2.3:200, 30+40j:300}\n",
    "# print(10 in range(20))                   # Not a float number (Done in int assignment)"
   ]
  },
  {
   "cell_type": "code",
   "execution_count": 58,
   "metadata": {},
   "outputs": [
    {
     "name": "stdout",
     "output_type": "stream",
     "text": [
      "True\n",
      "False\n"
     ]
    }
   ],
   "source": [
    "# Membership in Range\n",
    "\n",
    "print(10.0 in range(20))\n",
    "print(10.5 in range(20))"
   ]
  },
  {
   "cell_type": "code",
   "execution_count": null,
   "metadata": {},
   "outputs": [],
   "source": []
  },
  {
   "cell_type": "code",
   "execution_count": null,
   "metadata": {},
   "outputs": [],
   "source": []
  },
  {
   "cell_type": "code",
   "execution_count": null,
   "metadata": {},
   "outputs": [],
   "source": []
  }
 ],
 "metadata": {
  "kernelspec": {
   "display_name": "Python 3",
   "language": "python",
   "name": "python3"
  },
  "language_info": {
   "codemirror_mode": {
    "name": "ipython",
    "version": 3
   },
   "file_extension": ".py",
   "mimetype": "text/x-python",
   "name": "python",
   "nbconvert_exporter": "python",
   "pygments_lexer": "ipython3",
   "version": "3.8.3"
  }
 },
 "nbformat": 4,
 "nbformat_minor": 4
}
