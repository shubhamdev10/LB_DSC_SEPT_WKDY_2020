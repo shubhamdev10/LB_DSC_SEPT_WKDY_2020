{
 "cells": [
  {
   "cell_type": "markdown",
   "metadata": {},
   "source": [
    "# 1.3 Complex Assignment"
   ]
  },
  {
   "cell_type": "markdown",
   "metadata": {},
   "source": [
    "## 1 - Declare a complex number and store it in a variable. \n",
    "\n",
    "    Check the type and print the id of the same."
   ]
  },
  {
   "cell_type": "code",
   "execution_count": 2,
   "metadata": {},
   "outputs": [
    {
     "name": "stdout",
     "output_type": "stream",
     "text": [
      "<class 'complex'> \n",
      "\n",
      " Location Id of value (10+20j) is 2201486742640\n"
     ]
    }
   ],
   "source": [
    "a = 10 + 20j\n",
    "print (type(a), '\\n\\n', f'Location Id of value {a} is', id(a))"
   ]
  },
  {
   "cell_type": "markdown",
   "metadata": {},
   "source": [
    "## 2 - Arithmatic Operations on complex number\n",
    "\n",
    "    - Take two different complex number.\n",
    "    - Store them in two different variables.\n",
    "    - Do below operations on them:-\n",
    "        Find sum of both numbers\n",
    "        Find differce between them\n",
    "        Find the product of both numbers.\n",
    "        Find value after dividing first num with second number\n",
    "        Find the result of first num to the power of second number."
   ]
  },
  {
   "cell_type": "code",
   "execution_count": 7,
   "metadata": {},
   "outputs": [
    {
     "name": "stdout",
     "output_type": "stream",
     "text": [
      "Addition of (10+20j) and (1.2+3.4j) is (11.2+23.4j)\n",
      "Difference of (10+20j) and (1.2+3.4j) is (8.8+16.6j)\n",
      "Product of (10+20j) and (1.2+3.4j) is (-56+58j)\n",
      "Division of (10+20j) from (1.2+3.4j) is (6.153846153846155-0.769230769230769j)\n",
      "(10+20j) to the power of (1.2+3.4j) is (0.7546769816020695-0.601538507444837j)\n"
     ]
    }
   ],
   "source": [
    "a = 10 + 20j\n",
    "b = 1.2 + 3.4j\n",
    "\n",
    "print (f'Addition of {a} and {b} is', a+b)\n",
    "print (f'Difference of {a} and {b} is', a-b)\n",
    "print (f'Product of {a} and {b} is', a*b)\n",
    "print (f'Division of {a} from {b} is', a/b)\n",
    "print (f'{a} to the power of {b} is', a**b)"
   ]
  },
  {
   "cell_type": "markdown",
   "metadata": {},
   "source": [
    "###    - Comparison Operation not applicable between instance of complex values\n",
    "\n",
    "###    - Object reusability concept is not applicable on complex numebr"
   ]
  },
  {
   "cell_type": "markdown",
   "metadata": {},
   "source": [
    "## 3 - Equality Operator\n",
    "\n",
    "    Take two different complex numbers.\n",
    "    Store them in two different variables.\n",
    "    Equuate them using equality operator (==, !=)\n",
    "    Observe the output(return type should be boolean)"
   ]
  },
  {
   "cell_type": "code",
   "execution_count": 8,
   "metadata": {},
   "outputs": [
    {
     "name": "stdout",
     "output_type": "stream",
     "text": [
      "Is (10+20j) equivalent to (1.2+3.4j) ? False\n",
      "Output type = <class 'bool'> \n",
      "\n",
      "Is (10+20j) Not equivalent to (1.2+3.4j) ? True\n",
      "Output type = <class 'bool'>\n"
     ]
    }
   ],
   "source": [
    "a = 10 + 20j\n",
    "b = 1.2 + 3.4j\n",
    "\n",
    "m = a == b\n",
    "print (f'Is {a} equivalent to {b} ?', m)\n",
    "print ('Output type =', type(m), '\\n')\n",
    "\n",
    "n = a != b\n",
    "print (f'Is {a} Not equivalent to {b} ?', n)\n",
    "print ('Output type =', type(n))"
   ]
  },
  {
   "cell_type": "markdown",
   "metadata": {},
   "source": [
    "## 4 - Logical operators\n",
    "\n",
    "    Observe the output of below code\n",
    "    Cross check the output manually\n",
    "\n",
    "        print(10+20j and 20+30j)    #20+30j    #----------------------------------------->Output is 20+30j\n",
    "        print(0+0j and 20+30j)      #0+0j    #----------------------------------------->Output is 0j\n",
    "        print(20+30j and 0+0j)      #0+0j   #----------------------------------------->Output is 0j\n",
    "        print(0+0j and 0+0j)        #0+0j   #----------------------------------------->Output is 0j\n",
    "\n",
    "        print(10+20j or 20+30j)     #10+20j   #----------------------------------------->Output is 10+20j\n",
    "        print(0+0j or 20+30j)       #20+30j   #----------------------------------------->Output is 20+30j\n",
    "        print(20+30j or 0+0j)       #20+30j  #----------------------------------------->Output is 20+30j\n",
    "        print(0+0j or 0+0j)         #0+0j   #----------------------------------------->Output is 0j\n",
    "\n",
    "        print(not 10+20j)           #False   #----------------------------------------->Output is False\n",
    "        print(not 0+0j)             #True   #----------------------------------------->Output is True"
   ]
  },
  {
   "cell_type": "code",
   "execution_count": 9,
   "metadata": {},
   "outputs": [
    {
     "name": "stdout",
     "output_type": "stream",
     "text": [
      "(20+30j)\n",
      "0j\n",
      "0j\n",
      "0j\n"
     ]
    }
   ],
   "source": [
    "# Properties of logical and operator:\n",
    "#     - The output is True only if all the expressions are true\n",
    "#     - The lookout is always for the 1st False operation (Ex. if there are 2 expressions in the statement)\n",
    "#         While executing the statement, if at any instance an expression is False -> output is the the 1st false expression\n",
    "#         If there are no False expression by the end of execution -> output is the last expression\n",
    "\n",
    "# Truth table of and logical operator\n",
    "#    True and True =   True    (output is 2nd expression, which is the last expression)\n",
    "#    True and False =  False   (output is 2nd expression, which is the last expression)\n",
    "#    False and True =  False   (output is 1st expression, which is the 1st False expression)\n",
    "#    False and False = False   (output is 1st expression, which is the 1st False expression)\n",
    "\n",
    "# as in the below examples there are only 2 expressions, only 1st expression needs to be checked\n",
    "# if the 1st expression is False -> o/p = 1st expression --> else o/p = 2nd expression\n",
    "\n",
    "print(10+20j and 20+30j)       # as 1st expression is True -> Output is 2nd/last expression 20+30j\n",
    "print(0+0j and 20+30j)         # as 1st expression is False -> Output is 1st False expression 0+0j\n",
    "print(20+30j and 0+0j)         # as 1st expression is True -> Output is 2nd/last expression 0+0j\n",
    "print(0+0j and 0+0j)           # as 1st expression is False -> Output is 1st False expression 0+0j\n"
   ]
  },
  {
   "cell_type": "code",
   "execution_count": 10,
   "metadata": {},
   "outputs": [
    {
     "name": "stdout",
     "output_type": "stream",
     "text": [
      "(10+20j)\n",
      "(20+30j)\n",
      "(20+30j)\n",
      "0j\n"
     ]
    }
   ],
   "source": [
    "# Properties of logical or operator:\n",
    "#     - The output is True if any 1 or both the expressions are true\n",
    "#     - The lookout is always for the 1st True operation\n",
    "#         While executing the statement, if at any instance an expression is True -> output is the the 1st True expression\n",
    "#         If there are no True expression by the end of execution -> output is the last expression\n",
    "\n",
    "# Truth table of or logical operator\n",
    "#    True or True =    True    (output is 1st expression, which is the 1st True expression)\n",
    "#    True or False =   False   (output is 1st expression, which is the 1st True expression)\n",
    "#    False or True =   False   (output is 2nd expression, which is the last expression)\n",
    "#    False or False =  False   (output is 2nd expression, which is the last expression)\n",
    "\n",
    "# as in the below examples there are only 2 expressions, only 1st expression needs to be checked\n",
    "# if the 1st expression is True -> o/p = 1st expression --> else o/p = 2nd expression\n",
    "\n",
    "print(10+20j or 20+30j)        # as 1st expressions is True -> Output is 1st True expression 10+20j\n",
    "print(0+0j or 20+30j)          # as 1st expressions is False -> Output is 2nd/last expression 20+30j\n",
    "print(20+30j or 0+0j)          # as 1st expressions is True -> Output is 1st True expression 20+30j\n",
    "print(0+0j or 0+0j)            # as 1st expressions is False -> Output is 2nd/last expression 0+0j\n"
   ]
  },
  {
   "cell_type": "code",
   "execution_count": 23,
   "metadata": {},
   "outputs": [
    {
     "name": "stdout",
     "output_type": "stream",
     "text": [
      "False\n",
      "True\n"
     ]
    }
   ],
   "source": [
    "# Properties of logical not operator:\n",
    "#     - The output is True if expression is False &\n",
    "#     - The output is False if expression is True\n",
    "\n",
    "# Truth table of not logical operator\n",
    "#    True = False  (output is False, if expression is True)\n",
    "#    False = True  (output is True, if expression is False)\n",
    "\n",
    "# an expression is True if:\n",
    "#     str -> 'A-Z', 'a-z', ' ', '_', 'any special character', '0-9'\n",
    "#     number -> any positive or negative number that is divisible\n",
    "#     boolean expression -> True\n",
    "\n",
    "# an expression is False if:\n",
    "#     str -> '' (Empty)\n",
    "#     number -> 0\n",
    "#     boolean expression -> False\n",
    "#     None\n",
    "    \n",
    "\n",
    "print(not 10+20j)   # 10+20j is a +ve divisible number which is a True expression -> Output of not operator is False\n",
    "print(not 0+0j)     # 0+0j is a non-divisible number which is a False expression -> Output of not operator is True"
   ]
  },
  {
   "cell_type": "markdown",
   "metadata": {},
   "source": [
    "## 5 - What is the output of expression inside print statement. \n",
    "\n",
    "    a = 10+20j\n",
    "    b = 10+20j\n",
    "    print(a is b)       #False   #True or False?\n",
    "    print(a is not b)   #True   #True or False?\n",
    "   \n",
    "    Cross check before running the program."
   ]
  },
  {
   "cell_type": "code",
   "execution_count": 12,
   "metadata": {},
   "outputs": [
    {
     "name": "stdout",
     "output_type": "stream",
     "text": [
      "Id's of a: 2201486743376 and b: 2201486743600 are False\n",
      "Id's a: 2201486743376 and b: 2201486743600 are not True \n",
      "\n"
     ]
    }
   ],
   "source": [
    "# is, is not are the Identity operator\n",
    "# an identity operator matches the id of 2 or more operands.\n",
    "#     If the Id's of all the operands matches -> O/p is True\n",
    "#     If the Id's of all the operands does not match -> O/p is False\n",
    "\n",
    "# NOTE:\n",
    "#     Object reusability - that object should be reused in case if it is already existing in the memeory\n",
    "#         (but object reusability in Python is applicable for limited values only)\n",
    "#             int -> -5 - 256\n",
    "#             str -> A - Z, a- z, 0-9, _\n",
    "#             None\n",
    "#             True, False\n",
    "\n",
    "a = 10+20j\n",
    "b = 10+20j\n",
    "print(f'Id\\'s of a: {id(a)} and b: {id(b)} are {a is b}')                 # Output is False (as object reusability is not applicable to float type)\n",
    "print(f'Id\\'s a: {id(a)} and b: {id(b)} are not {a is not b}', '\\n')      # Output is True (as id of a != id of b)"
   ]
  },
  {
   "cell_type": "markdown",
   "metadata": {},
   "source": [
    "## 6 - Membership operation\n",
    "\n",
    "    in, not in are two membership operators and it returns boolean value\n",
    "\n",
    "        print('2.7' in 'Python2.7.8')                      #True\n",
    "        print(10+20j in [10,10.20,10+20j,'Python'])        #True\n",
    "        print(10+20j in (10,10.20,10+20j,'Python'))        #True\n",
    "        print(30+40j in {1,20.30,30+40j})                  #True\n",
    "        print(30+40j in {1:100, 2.3:200, 30+40j:300})      #True\n",
    "        print(10 in range(20))                             #True"
   ]
  },
  {
   "cell_type": "code",
   "execution_count": 18,
   "metadata": {},
   "outputs": [
    {
     "name": "stdout",
     "output_type": "stream",
     "text": [
      "True\n",
      "True\n",
      "True\n",
      "True\n"
     ]
    }
   ],
   "source": [
    "# Membership operation checks whether an element is part of the sequence or not\n",
    "# in, not in are two membership operators\n",
    "# Membership operation always returns a boolean value (True False)\n",
    "# Note: membership operation is case sensitive\n",
    "\n",
    "# print('2.7' in 'Python2.7.8')            # Not a complex number (Done in float assignment)\n",
    "print(10+20j in [10,10.20,10+20j,'Python'])    # O/p is True as complex 10+20j exists in the list [10,10.20,10+20j,'Python']\n",
    "print(10+20j in (10,10.20,10+20j,'Python'))    # O/p is True as complex 10+20j exists in the tuple [10,10.20,10+20j,'Python']\n",
    "print(30+40j in {1,20.30,30+40j})              # O/p is True as complex 30+40j exists in the set {1,20.30,30+40j}\n",
    "print(30+40j in {1:100, 2.3:200, 30+40j:300})  # O/p is True as complex 30+40j exists in the dict {1:100, 2.3:200, 30+40j:300}\n",
    "# print(10 in range(20))                   # Not a float number (Done in int assignment)"
   ]
  },
  {
   "cell_type": "code",
   "execution_count": 22,
   "metadata": {},
   "outputs": [
    {
     "name": "stdout",
     "output_type": "stream",
     "text": [
      "True\n"
     ]
    }
   ],
   "source": [
    "print('2.7+32.5j' in 'Python2.7.8 complex2.7+32.5j num') # O/p is True as str '2.7+32.5j' exists in the str 'Python2.7.8 complex2.7+32.5j num' "
   ]
  },
  {
   "cell_type": "code",
   "execution_count": 21,
   "metadata": {},
   "outputs": [
    {
     "name": "stdout",
     "output_type": "stream",
     "text": [
      "False\n"
     ]
    }
   ],
   "source": [
    "# Membership in Range\n",
    "\n",
    "print(10+20j in range(20))    # A range of numbers does not contain a complex number -> o/p is False"
   ]
  },
  {
   "cell_type": "code",
   "execution_count": null,
   "metadata": {},
   "outputs": [],
   "source": []
  },
  {
   "cell_type": "code",
   "execution_count": null,
   "metadata": {},
   "outputs": [],
   "source": []
  },
  {
   "cell_type": "code",
   "execution_count": null,
   "metadata": {},
   "outputs": [],
   "source": []
  }
 ],
 "metadata": {
  "kernelspec": {
   "display_name": "Python 3",
   "language": "python",
   "name": "python3"
  },
  "language_info": {
   "codemirror_mode": {
    "name": "ipython",
    "version": 3
   },
   "file_extension": ".py",
   "mimetype": "text/x-python",
   "name": "python",
   "nbconvert_exporter": "python",
   "pygments_lexer": "ipython3",
   "version": "3.8.3"
  }
 },
 "nbformat": 4,
 "nbformat_minor": 4
}
