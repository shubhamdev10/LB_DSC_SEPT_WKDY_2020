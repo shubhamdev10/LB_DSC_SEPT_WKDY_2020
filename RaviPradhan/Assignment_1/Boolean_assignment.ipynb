{
 "cells": [
  {
   "cell_type": "markdown",
   "metadata": {},
   "source": [
    "# 1.4 Boolean Assignment"
   ]
  },
  {
   "cell_type": "markdown",
   "metadata": {},
   "source": [
    "## 1 - Declare a boolean value and store it in a variable. \n",
    "\n",
    "    Check the type and print the id of the same."
   ]
  },
  {
   "cell_type": "code",
   "execution_count": 1,
   "metadata": {},
   "outputs": [
    {
     "name": "stdout",
     "output_type": "stream",
     "text": [
      "<class 'bool'> \n",
      "\n",
      " Location Id of value True is 140707952453456\n"
     ]
    }
   ],
   "source": [
    "a = True\n",
    "print (type(a), '\\n\\n', f'Location Id of value {a} is', id(a))"
   ]
  },
  {
   "cell_type": "markdown",
   "metadata": {},
   "source": [
    "## 2 - \n",
    "\n",
    "    Take one boolean value between 0 - 256.\n",
    "    Assign it to two different variables.\n",
    "\n",
    "    Check the id of both the variables. It should come same. Check why?"
   ]
  },
  {
   "cell_type": "code",
   "execution_count": 11,
   "metadata": {},
   "outputs": [
    {
     "name": "stdout",
     "output_type": "stream",
     "text": [
      "140707952453456\n",
      "140707952453456\n"
     ]
    },
    {
     "data": {
      "text/plain": [
       "True"
      ]
     },
     "execution_count": 11,
     "metadata": {},
     "output_type": "execute_result"
    }
   ],
   "source": [
    "# There are only two boolean values - True and False\n",
    "    \n",
    "#     bool of any expression is either a True or a False\n",
    "\n",
    "# NOTE:\n",
    "#     Object reusability - that object should be reused in case if it is already existing in the memeory\n",
    "#         is applicable to boolean values\n",
    "#             True, False\n",
    "\n",
    "a = True\n",
    "b = True\n",
    "\n",
    "print (id(a))\n",
    "print (id(b))\n",
    "\n",
    "id(a) == id(b)"
   ]
  },
  {
   "cell_type": "markdown",
   "metadata": {},
   "source": [
    "## 3 - Arithmatic Operations on boolean data\n",
    "\n",
    "    - Take two different boolean values.\n",
    "    - Store them in two different variables.\n",
    "\n",
    "    - Do below operations on them:-\n",
    "        Find sum of both values\n",
    "        Find differce between them\n",
    "        Find the product of both.\n",
    "        Find value after dividing first value with second value\n",
    "        Find the remainder after dividing first value with second value\n",
    "        Find the quotient after dividing first value with second value \n",
    "        Find the result of first value to the power of second value."
   ]
  },
  {
   "cell_type": "code",
   "execution_count": 19,
   "metadata": {},
   "outputs": [
    {
     "name": "stdout",
     "output_type": "stream",
     "text": [
      "Addition of False and True is 1\n",
      "Difference of False and True is -1\n",
      "Product of False and True is 0\n",
      "Division of False from True is 0.0\n",
      "Remainder from division of False from True is 0\n",
      "Quotient from division of False from True is 0\n",
      "False to the power of True is 0\n"
     ]
    }
   ],
   "source": [
    "a = False\n",
    "b = True\n",
    "\n",
    "print (f'Addition of {a} and {b} is', a+b)\n",
    "print (f'Difference of {a} and {b} is', a-b)\n",
    "print (f'Product of {a} and {b} is', a*b)\n",
    "print (f'Division of {a} from {b} is', a/b)                 # Exception, Division of True from False is not possible (ZeroDivisionError)\n",
    "print (f'Remainder from division of {a} from {b} is', a%b)  # Exception, Modulo of True from False is not possible (ZeroDivisionError)\n",
    "print (f'Quotient from division of {a} from {b} is', a//b)  # Exception, Floor division of True from False is not possible (ZeroDivisionError)\n",
    "print (f'{a} to the power of {b} is', a**b)"
   ]
  },
  {
   "cell_type": "markdown",
   "metadata": {},
   "source": [
    "## 4 - Comparison Operators on boolean values\n",
    "\n",
    "    - Take two different boolean values.\n",
    "    - Store them in two different variables.\n",
    "\n",
    "    - Do below operations on them:-\n",
    "        Compare these two values with below operator:-\n",
    "            Greater than, '>'\n",
    "            less than, '<'\n",
    "            Greater than or equal to, '>='\n",
    "            Less than or equal to, '<='    \n",
    "\n",
    "    - Observe their output(return type should be boolean)"
   ]
  },
  {
   "cell_type": "code",
   "execution_count": 21,
   "metadata": {},
   "outputs": [
    {
     "name": "stdout",
     "output_type": "stream",
     "text": [
      "Is True greater than False ? True\n",
      "Output type = <class 'bool'> \n",
      "\n",
      "Is True less than False ? False\n",
      "Output type = <class 'bool'> \n",
      "\n",
      "Is True greater than or equal to False ? True\n",
      "Output type = <class 'bool'> \n",
      "\n",
      "Is True less than or equal to False ? False\n",
      "Output type = <class 'bool'> \n",
      "\n"
     ]
    }
   ],
   "source": [
    "a = True\n",
    "b = False\n",
    "\n",
    "p = a > b\n",
    "print (f'Is {a} greater than {b} ?', p)\n",
    "print ('Output type =', type(p), '\\n')\n",
    "\n",
    "q = a < b\n",
    "print (f'Is {a} less than {b} ?', q)\n",
    "print ('Output type =', type(q), '\\n')\n",
    "\n",
    "r = a >= b\n",
    "print (f'Is {a} greater than or equal to {b} ?', r)\n",
    "print ('Output type =', type(r), '\\n')\n",
    "\n",
    "s = a <= b\n",
    "print (f'Is {a} less than or equal to {b} ?', s)\n",
    "print ('Output type =', type(s), '\\n')"
   ]
  },
  {
   "cell_type": "markdown",
   "metadata": {},
   "source": [
    "## 5 - Equality Operator\n",
    "\n",
    "    - Take two different boolean values.\n",
    "    - Store them in two different variables.\n",
    "\n",
    "    - Equuate them using equality operator (==, !=)\n",
    "\n",
    "    - Observe the output(return type should be boolean)"
   ]
  },
  {
   "cell_type": "code",
   "execution_count": 22,
   "metadata": {},
   "outputs": [
    {
     "name": "stdout",
     "output_type": "stream",
     "text": [
      "Is True equivalent to False ? False\n",
      "Output type = <class 'bool'> \n",
      "\n",
      "Is True Not equivalent to False ? True\n",
      "Output type = <class 'bool'>\n"
     ]
    }
   ],
   "source": [
    "a = True\n",
    "b = False\n",
    "\n",
    "m = a == b\n",
    "print (f'Is {a} equivalent to {b} ?', m)\n",
    "print ('Output type =', type(m), '\\n')\n",
    "\n",
    "n = a != b\n",
    "print (f'Is {a} Not equivalent to {b} ?', n)\n",
    "print ('Output type =', type(n))"
   ]
  },
  {
   "cell_type": "markdown",
   "metadata": {},
   "source": [
    "## 6 - Logical operators\n",
    "\n",
    "    Observe the output of below code\n",
    "    Cross check the output manually\n",
    "\n",
    "        print(True and True)        #----------------------------------------->Output is True\n",
    "        print(False and True)        #----------------------------------------->Output is False\n",
    "        print(True and False)        #----------------------------------------->Output is False\n",
    "        print(False and False)       #----------------------------------------->Output is False\n",
    "\n",
    "        print(True or True)          #----------------------------------------->Output is True\n",
    "        print(False or True)         #----------------------------------------->Output is True\n",
    "        print(True or False)         #----------------------------------------->Output is True\n",
    "        print(False or False)        #----------------------------------------->Output is False\n",
    "\n",
    "        print(not True)              #----------------------------------------->Output is False\n",
    "        print(not False)             #----------------------------------------->Output is True"
   ]
  },
  {
   "cell_type": "code",
   "execution_count": 23,
   "metadata": {},
   "outputs": [
    {
     "name": "stdout",
     "output_type": "stream",
     "text": [
      "True\n",
      "False\n",
      "False\n",
      "False\n"
     ]
    }
   ],
   "source": [
    "# Properties of logical and operator:\n",
    "#     - The output is True only if all the expressions are true\n",
    "#     - The lookout is always for the 1st False operation (Ex. if there are 2 expressions in the statement)\n",
    "#         While executing the statement, if at any instance an expression is False -> output is the the 1st false expression\n",
    "#         If there are no False expression by the end of execution -> output is the last expression\n",
    "\n",
    "# Truth table of and logical operator\n",
    "#    True and True =   True    (output is 2nd expression, which is the last expression)\n",
    "#    True and False =  False   (output is 2nd expression, which is the last expression)\n",
    "#    False and True =  False   (output is 1st expression, which is the 1st False expression)\n",
    "#    False and False = False   (output is 1st expression, which is the 1st False expression)\n",
    "\n",
    "# as in the below examples there are only 2 expressions, only 1st expression needs to be checked\n",
    "# if the 1st expression is False -> o/p = 1st expression --> else o/p = 2nd expression\n",
    "\n",
    "print(True and True)     # as 1st expression is True -> Output is 2nd/last expression True\n",
    "print(False and True)    # as 1st expression is False -> Output is 1st False expression False\n",
    "print(True and False)    # as 1st expression is True -> Output is 2nd/last expression False\n",
    "print(False and False)   # as 1st expression is False -> Output is 1st False expression False"
   ]
  },
  {
   "cell_type": "code",
   "execution_count": 25,
   "metadata": {},
   "outputs": [
    {
     "name": "stdout",
     "output_type": "stream",
     "text": [
      "True\n",
      "True\n",
      "True\n",
      "False\n"
     ]
    }
   ],
   "source": [
    "# Properties of logical or operator:\n",
    "#     - The output is True if any 1 or both the expressions are true\n",
    "#     - The lookout is always for the 1st True operation\n",
    "#         While executing the statement, if at any instance an expression is True -> output is the the 1st True expression\n",
    "#         If there are no True expression by the end of execution -> output is the last expression\n",
    "\n",
    "# Truth table of or logical operator\n",
    "#    True or True =    True    (output is 1st expression, which is the 1st True expression)\n",
    "#    True or False =   False   (output is 1st expression, which is the 1st True expression)\n",
    "#    False or True =   False   (output is 2nd expression, which is the last expression)\n",
    "#    False or False =  False   (output is 2nd expression, which is the last expression)\n",
    "\n",
    "# as in the below examples there are only 2 expressions, only 1st expression needs to be checked\n",
    "# if the 1st expression is True -> o/p = 1st expression --> else o/p = 2nd expression\n",
    "\n",
    "print(True or True)      # as 1st expressions is True -> Output is 1st True expression True\n",
    "print(False or True)     # as 1st expressions is False -> Output is 2nd/last expression True\n",
    "print(True or False)     # as 1st expressions is True -> Output is 1st True expression True\n",
    "print(False or False)    # as 1st expressions is False -> Output is 2nd/last expression False"
   ]
  },
  {
   "cell_type": "code",
   "execution_count": 27,
   "metadata": {},
   "outputs": [
    {
     "name": "stdout",
     "output_type": "stream",
     "text": [
      "False\n",
      "True\n"
     ]
    }
   ],
   "source": [
    "# Properties of logical not operator:\n",
    "#     - The output is True if expression is False &\n",
    "#     - The output is False if expression is True\n",
    "\n",
    "# Truth table of not logical operator\n",
    "#    True = False  (output is False, if expression is True)\n",
    "#    False = True  (output is True, if expression is False)\n",
    "\n",
    "# an expression is True if:\n",
    "#     str -> 'A-Z', 'a-z', ' ', '_', 'any special character', '0-9'\n",
    "#     number -> any positive or negative number that is divisible\n",
    "#     boolean expression -> True\n",
    "\n",
    "# an expression is False if:\n",
    "#     str -> '' (Empty)\n",
    "#     number -> 0\n",
    "#     boolean expression -> False\n",
    "#     None\n",
    "    \n",
    "\n",
    "print(not True)  # True expression -> Output of not operator is False\n",
    "print(not False) # False expression -> Output of not operator is True"
   ]
  },
  {
   "cell_type": "markdown",
   "metadata": {},
   "source": [
    "## 7 - Bitwise Operators\n",
    "\n",
    "    Do below operations on the values provided below:-\n",
    "        \n",
    "        Bitwise and(&) -----------------------------------------> True, True    -------> Output is True\n",
    "        Bitwise or(|)  -----------------------------------------> True, False   -------> Output is True\n",
    "        Bitwise(^)     -----------------------------------------> True, False   -------> Output is True\n",
    "        Bitwise negation(~) ------------------------------------> True          -------> Output is -2\n",
    "        Bitwise left shift  ------------------------------------> True,2        -------> Output is 4\n",
    "        Bitwise right shift ------------------------------------> True,2        -------> Output is 0\n",
    "\n",
    "    Cross check the output manually"
   ]
  },
  {
   "cell_type": "code",
   "execution_count": 35,
   "metadata": {},
   "outputs": [
    {
     "name": "stdout",
     "output_type": "stream",
     "text": [
      "bit value of True is 0b1\n",
      "bit value of True is 0b1\n",
      "\n",
      "Bitwise & of True and True is 0b1\n",
      "int value of 0b0 is 1\n",
      "\n",
      "Bitwise & operation of True and True is True\n"
     ]
    }
   ],
   "source": [
    "# Bitwise and(&) -----------------------------------------> True, True\n",
    "\n",
    "# bitwise and Truth Table\n",
    "#             1 & 1 = 1\n",
    "#             1 & 0 = 0\n",
    "#             0 & 1 = 0\n",
    "#             0 & 0 = 0\n",
    "\n",
    "print ('bit value of True is', bin(True))\n",
    "print ('bit value of True is', bin(True))\n",
    "\n",
    "# True = 1 -> binary value of True\n",
    "# True = 1 -> binary value of True\n",
    "# ------------------\n",
    "# &  =    1 -> (as per bitwise and truth table)\n",
    "\n",
    "print()\n",
    "print ('Bitwise & of True and True is 0b1')\n",
    "print ('int value of 0b0 is', 0b1)\n",
    "# 0b1 = 1 -> integer value of 0b1\n",
    "\n",
    "print()\n",
    "print (f'Bitwise & operation of {True} and {True} is', True & True)"
   ]
  },
  {
   "cell_type": "code",
   "execution_count": 36,
   "metadata": {},
   "outputs": [
    {
     "name": "stdout",
     "output_type": "stream",
     "text": [
      "bit value of True is 0b1\n",
      "bit value of False is 0b0\n",
      "\n",
      "Bitwise | of True and False is 0b1\n",
      "int value of 0b0 is 1\n",
      "\n",
      "Bitwise & operation of True or False is True\n"
     ]
    }
   ],
   "source": [
    "# Bitwise or(|)  -----------------------------------------> True, False\n",
    "\n",
    "# bitwise or Truth Table\n",
    "#             1 | 1 = 1\n",
    "#             1 | 0 = 1\n",
    "#             0 | 1 = 1\n",
    "#             0 | 0 = 0\n",
    "\n",
    "print ('bit value of True is', bin(True))\n",
    "print ('bit value of False is', bin(False))\n",
    "\n",
    "# True  = 1 -> binary value of True\n",
    "# False = 0 -> binary value of False\n",
    "# ------------------\n",
    "# |  =    1 -> (as per bitwise and truth table)\n",
    "\n",
    "print()\n",
    "print ('Bitwise | of True and False is 0b1')\n",
    "print ('int value of 0b0 is', 0b1)\n",
    "# 0b1 = 1 -> integer value of 0b1\n",
    "\n",
    "print()\n",
    "print (f'Bitwise & operation of {True} or {False} is', True | False)"
   ]
  },
  {
   "cell_type": "code",
   "execution_count": 39,
   "metadata": {},
   "outputs": [
    {
     "name": "stdout",
     "output_type": "stream",
     "text": [
      "bit value of True is 0b1\n",
      "bit value of False is 0b0\n",
      "\n",
      "Bitwise ^ of True and False is 0b1\n",
      "int value of 0b0 is 1\n",
      "\n",
      "Bitwise & operation of 'True' exclusive or 'False' is True\n"
     ]
    }
   ],
   "source": [
    "# Bitwise(^)     -----------------------------------------> True, False\n",
    "\n",
    "# bitwise xor Truth Table\n",
    "#             1 ^ 1 = 0\n",
    "#             1 ^ 0 = 1\n",
    "#             0 ^ 1 = 1\n",
    "#             0 ^ 0 = 0\n",
    "\n",
    "print ('bit value of True is', bin(True))\n",
    "print ('bit value of False is', bin(False))\n",
    "\n",
    "# True  = 1 -> binary value of True\n",
    "# False = 0 -> binary value of False\n",
    "# ------------------\n",
    "# ^  =    1 -> (as per bitwise and truth table)\n",
    "\n",
    "print()\n",
    "print ('Bitwise ^ of True and False is 0b1')\n",
    "print ('int value of 0b0 is', 0b1)\n",
    "# 0b1 = 1 -> integer value of 0b1\n",
    "\n",
    "print()\n",
    "print (f\"Bitwise & operation of '{True}' exclusive or '{False}' is\", True ^ False)"
   ]
  },
  {
   "cell_type": "code",
   "execution_count": 40,
   "metadata": {},
   "outputs": [
    {
     "name": "stdout",
     "output_type": "stream",
     "text": [
      "Bitwise ~ of True is -2\n"
     ]
    }
   ],
   "source": [
    "# Bitwise negation(~) ------------------------------------> True\n",
    "\n",
    "# bitwise negation\n",
    "#             ~num = -(num+1)\n",
    "\n",
    "print (f'Bitwise ~ of {True} is', ~True)    # ~True = -(True+1) = -(1+1) = -2"
   ]
  },
  {
   "cell_type": "code",
   "execution_count": 43,
   "metadata": {},
   "outputs": [
    {
     "name": "stdout",
     "output_type": "stream",
     "text": [
      "Manually bitwise left shifting True by 2 bits \n",
      "\n",
      "Binary equivalent of True is 0b1\n",
      "Binary equivalent of True in 32 bit representation would be 00000000000000000000000000000001 \n",
      "\n",
      "To shift by 2 bits towards left\n",
      "          we remove 2 bits from LHS, that would give 000000000000000000000000000001\n",
      "          and add 2 0's at end/RHS would give 00000000000000000000000000000100\n",
      "keeping the resulting o/p in 32 bit \n",
      "\n",
      "The int resultant of binary 0b00000000000000000000000000000100 would be: 4\n",
      "\n",
      "\n",
      "____________________________________________________________________________________________\n",
      "\n",
      "Bitwise left shift of True by 2 bits is 4\n"
     ]
    }
   ],
   "source": [
    "# Bitwise left shift  ------------------------------------> True,2\n",
    "\n",
    "print ('Manually bitwise left shifting True by 2 bits \\n')\n",
    "\n",
    "# step1 - convert True into binary equivalent\n",
    "print ('Binary equivalent of True is', bin(True))\n",
    "# True = 1\n",
    "\n",
    "# Step2 - Write the binary equivalent in 32/64 bit representation\n",
    "print ('Binary equivalent of True in 32 bit representation would be 00000000000000000000000000000001', '\\n')\n",
    "\n",
    "# step3 - remove 2 bits from LHS and add 2 0's in the right hand side\n",
    "print ('''To shift by 2 bits towards left\n",
    "          we remove 2 bits from LHS, that would give 000000000000000000000000000001\n",
    "          and add 2 0's at end/RHS would give 00000000000000000000000000000100\n",
    "keeping the resulting o/p in 32 bit \\n''')\n",
    "\n",
    "# step4 - use print(0bresultant bits)\n",
    "print('The int resultant of binary 0b00000000000000000000000000000100 would be:', 0b00000000000000000000000000000100)\n",
    "\n",
    "print('\\n')\n",
    "print ('____________________________________________________________________________________________\\n')\n",
    "print('Bitwise left shift of True by 2 bits is', True << 2)"
   ]
  },
  {
   "cell_type": "code",
   "execution_count": 44,
   "metadata": {},
   "outputs": [
    {
     "name": "stdout",
     "output_type": "stream",
     "text": [
      "Manually bitwise right shifting True by 2 bits \n",
      "\n",
      "Binary equivalent of True is 0b1\n",
      "Binary equivalent of True in 32 bit representation would be 00000000000000000000000000000001 \n",
      "\n",
      "To shift by 2 bits towards left\n",
      "          we remove 2 bits from RHS, that would give 000000000000000000000000000000\n",
      "          and add 2 0's from the LHS would give 00000000000000000000000000000000\n",
      "keeping the resulting o/p in 32 bit \n",
      "\n",
      "The int resultant of binary 0b00000000000000000000000000000000 would be: 0\n",
      "\n",
      "\n",
      "____________________________________________________________________________________________\n",
      "\n",
      "Bitwise left shift of True by 2 bits is 0\n"
     ]
    }
   ],
   "source": [
    "# Bitwise right shift ------------------------------------> True,2\n",
    "\n",
    "print ('Manually bitwise right shifting True by 2 bits \\n')\n",
    "\n",
    "# step1 - convert True into binary equivalent\n",
    "print ('Binary equivalent of True is', bin(True))\n",
    "# True = 1\n",
    "\n",
    "# Step2 - Write the binary equivalent in 32/64 bit representation\n",
    "print ('Binary equivalent of True in 32 bit representation would be 00000000000000000000000000000001', '\\n')\n",
    "\n",
    "# step3 - remove 2 bits from RHS and add 2 0's in the left hand side\n",
    "print ('''To shift by 2 bits towards left\n",
    "          we remove 2 bits from RHS, that would give 000000000000000000000000000000\n",
    "          and add 2 0's from the LHS would give 00000000000000000000000000000000\n",
    "keeping the resulting o/p in 32 bit \\n''')\n",
    "\n",
    "# step4 - use print(0bresultant bits)\n",
    "print('The int resultant of binary 0b00000000000000000000000000000000 would be:', 0b00000000000000000000000000000000)\n",
    "\n",
    "print('\\n')\n",
    "print ('____________________________________________________________________________________________\\n')\n",
    "print('Bitwise left shift of True by 2 bits is', True >> 2)"
   ]
  },
  {
   "cell_type": "markdown",
   "metadata": {},
   "source": [
    "## 8 - What is the output of expression inside print statement.\n",
    "\n",
    "        a = True\n",
    "        b = True\n",
    "        print(a is b)          #True or False?   #\n",
    "        print(a is not b)      #True or False?\n",
    "\n",
    "        a = False\n",
    "        b = False\n",
    "        print(a is b)          #True or False?\n",
    "        print(a is not b)      #True or False?\n",
    "\n",
    "    Cross check before running the program."
   ]
  },
  {
   "cell_type": "code",
   "execution_count": 47,
   "metadata": {},
   "outputs": [
    {
     "name": "stdout",
     "output_type": "stream",
     "text": [
      "True\n",
      "False\n",
      "\n",
      "True\n",
      "False\n"
     ]
    }
   ],
   "source": [
    "# is, is not are the Identity operator\n",
    "# an identity operator matches the id of 2 or more operands.\n",
    "#     If the Id's of all the operands matches -> O/p is True\n",
    "#     If the Id's of all the operands does not match -> O/p is False\n",
    "\n",
    "# NOTE:\n",
    "#     Object reusability - that object should be reused in case if it is already existing in the memeory\n",
    "#         (but object reusability in Python is applicable for limited values only)\n",
    "#             int -> -5 - 256\n",
    "#             str -> A - Z, a- z, 0-9, _\n",
    "#             None\n",
    "#             True, False\n",
    "\n",
    "#     Rest all object does not follow object reusability \n",
    "\n",
    "a = True\n",
    "b = True\n",
    "print(a is b)          # True\n",
    "print(a is not b)      # False\n",
    "\n",
    "print()\n",
    "\n",
    "a = False\n",
    "b = False\n",
    "print(a is b)          # True\n",
    "print(a is not b)      # False"
   ]
  },
  {
   "cell_type": "code",
   "execution_count": null,
   "metadata": {},
   "outputs": [],
   "source": [
    "## 9 - Membership operation\n",
    "\n",
    "in, not in are two membership operators and it returns boolean value\n",
    "\n",
    "print(True in [10,10.20,10+20j,'Python', True])\n",
    "print(False in (10,10.20,10+20j,'Python', False))\n",
    "print(True in {1,2,3, True})\n",
    "print(True in {True:100, False:200, True:300})\n",
    "print(False in {True:100, False:200, True:300})"
   ]
  },
  {
   "cell_type": "code",
   "execution_count": 49,
   "metadata": {},
   "outputs": [
    {
     "name": "stdout",
     "output_type": "stream",
     "text": [
      "True\n",
      "True\n",
      "True\n",
      "True\n",
      "True\n"
     ]
    }
   ],
   "source": [
    "# Membership operation checks whether an element is part of the sequence or not\n",
    "# in, not in are two membership operators\n",
    "# Membership operation always returns a boolean value (True False)\n",
    "# Note: membership operation is case sensitive\n",
    "\n",
    "print(True in [10,10.20,10+20j,'Python', True])          # True as boolean 'True' exists in the list [10,10.20,10+20j,'Python', True]\n",
    "print(False in (10,10.20,10+20j,'Python', False))        # True as boolean 'False' exists in the tuple (10,10.20,10+20j,'Python', False)\n",
    "print(True in {1,2,3, True})                             # True as boolean 'True' exists in the set {1,2,3, True}\n",
    "print(True in {True:100, False:200, True:300})           # True as boolean 'True' exists in the dict {True:100, False:200, True:300}\n",
    "print(False in {True:100, False:200, True:300})          # True as boolean 'False' exists in the dict {True:100, False:200, True:300}"
   ]
  },
  {
   "cell_type": "code",
   "execution_count": null,
   "metadata": {},
   "outputs": [],
   "source": []
  },
  {
   "cell_type": "code",
   "execution_count": null,
   "metadata": {},
   "outputs": [],
   "source": []
  }
 ],
 "metadata": {
  "kernelspec": {
   "display_name": "Python 3",
   "language": "python",
   "name": "python3"
  },
  "language_info": {
   "codemirror_mode": {
    "name": "ipython",
    "version": 3
   },
   "file_extension": ".py",
   "mimetype": "text/x-python",
   "name": "python",
   "nbconvert_exporter": "python",
   "pygments_lexer": "ipython3",
   "version": "3.8.3"
  }
 },
 "nbformat": 4,
 "nbformat_minor": 4
}
