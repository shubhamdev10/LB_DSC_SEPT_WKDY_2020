{
 "cells": [
  {
   "cell_type": "markdown",
   "metadata": {},
   "source": [
    "# 1.1 Integer Assignment"
   ]
  },
  {
   "cell_type": "markdown",
   "metadata": {},
   "source": [
    "### 1 - Declare an int value and store it in a variable.\n",
    "    - Check the type and print the id of the same."
   ]
  },
  {
   "cell_type": "code",
   "execution_count": 14,
   "metadata": {},
   "outputs": [
    {
     "name": "stdout",
     "output_type": "stream",
     "text": [
      "<class 'int'> \n",
      "\n",
      " Location Id of value 10 is 140707761961024\n"
     ]
    }
   ],
   "source": [
    "a = 10\n",
    "print (type(a), '\\n\\n', f'Location Id of value {a} is', id(a))"
   ]
  },
  {
   "cell_type": "markdown",
   "metadata": {},
   "source": [
    "### 2.1\n",
    "\n",
    "    - Take one int value between 0 - 256.\n",
    "    - Assign it to two different variables.\n",
    "    - Check the id of both the variables. It should come same. Check why?"
   ]
  },
  {
   "cell_type": "code",
   "execution_count": 4,
   "metadata": {},
   "outputs": [
    {
     "name": "stdout",
     "output_type": "stream",
     "text": [
      "140707761961024\n",
      "140707761961024\n"
     ]
    },
    {
     "data": {
      "text/plain": [
       "True"
      ]
     },
     "execution_count": 4,
     "metadata": {},
     "output_type": "execute_result"
    }
   ],
   "source": [
    "\n",
    "a = 10\n",
    "b = 10\n",
    "print (id(a))\n",
    "print (id(b))\n",
    "\n",
    "id(a) == id(b)\n",
    "\n",
    "# Python assigns same id to all the variables/identifiers that contain equal value including numbers, strings, boolean and None\n",
    "# The activity of assigning same id to variables with equal value is performed for Memory management\n",
    "# so, if in a code there are 10 seperate variable having same value, all the variables will point to the same id location\n",
    "# the id location stores the value\n",
    "\n",
    "# So, here in our case both a and b are pointing to the same id location that contains the value 10."
   ]
  },
  {
   "cell_type": "markdown",
   "metadata": {},
   "source": [
    "### 2.2\n",
    "\n",
    "    - Take one int value either less than -5 or greater than 256.\n",
    "    - Assign it to two different variables.\n",
    "    - Check the id of both the variables. It should come different.Check why?"
   ]
  },
  {
   "cell_type": "code",
   "execution_count": 5,
   "metadata": {},
   "outputs": [
    {
     "name": "stdout",
     "output_type": "stream",
     "text": [
      "2757495141392\n",
      "2757495141456\n"
     ]
    },
    {
     "data": {
      "text/plain": [
       "False"
      ]
     },
     "execution_count": 5,
     "metadata": {},
     "output_type": "execute_result"
    }
   ],
   "source": [
    "a = 300\n",
    "b = 300\n",
    "\n",
    "print (id(a))\n",
    "print (id(b))\n",
    "\n",
    "id(a) == id(b)\n",
    "\n",
    "# Python assigns same id to all the variables/identifiers that contain equal value including numbers, strings, boolean, None\n",
    "# The activity of assigning same id to variables with equal value is performed for Memory management\n",
    "\n",
    "# However, Memory management operation is possible for all the integer values between -5 and 256 only\n",
    "# This is because of the CPython memory optimization\n",
    "#     where CPython implementation keeps an array of integer objects for all integers between -5 and 256.\n",
    "# So when we create an integer in range -5 to 256, they simply back reference to the existing object.\n"
   ]
  },
  {
   "cell_type": "markdown",
   "metadata": {},
   "source": [
    "### 3 - Arithmatic Operations on integers\n",
    "\n",
    "    - Take two different intger values.\n",
    "    - Store them in two different variables.\n",
    "    - Do below operations on them:-\n",
    "        Find sum of both numbers\n",
    "        Find differce between them\n",
    "        Find the product of both numbers.\n",
    "        Find value after dividing first num with second number\n",
    "        Find the remainder after dividing first number with second number\n",
    "        Find the quotient after dividing first number with second number\n",
    "        Find the result of first num to the power of second number."
   ]
  },
  {
   "cell_type": "code",
   "execution_count": 9,
   "metadata": {},
   "outputs": [
    {
     "name": "stdout",
     "output_type": "stream",
     "text": [
      "Addition of 10 and 20 is 30\n",
      "Difference of 10 and 20 is -10\n",
      "Product of 10 and 20 is 200\n",
      "Division of 10 from 20 is 0.5\n",
      "Remainder from division of 10 from 20 is 10\n",
      "Quotient from division of 10 from 20 is 0\n",
      "10 to the power of 20 is 100000000000000000000\n"
     ]
    }
   ],
   "source": [
    "a = 10\n",
    "b = 20\n",
    "\n",
    "print (f'Addition of {a} and {b} is', a+b)\n",
    "print (f'Difference of {a} and {b} is', a-b)\n",
    "print (f'Product of {a} and {b} is', a*b)\n",
    "print (f'Division of {a} from {b} is', a/b)\n",
    "print (f'Remainder from division of {a} from {b} is', a%b)\n",
    "print (f'Quotient from division of {a} from {b} is', a//b)\n",
    "print (f'{a} to the power of {b} is', a**b)"
   ]
  },
  {
   "cell_type": "markdown",
   "metadata": {},
   "source": [
    "### 4 - Comparison Operators on integers\n",
    "\n",
    "    - Take two different intger values.\n",
    "    - Store them in two different variables.\n",
    "    - Do below operations on them:-\n",
    "        Compare se two numbers with below operator:-\n",
    "            Greater than, '>'\n",
    "            Smaller than, '<'\n",
    "            Greater than or equal to, '>='\n",
    "            Less than or equal to, '<='\n",
    "\n",
    "    - Observe their output(return type should be boolean)"
   ]
  },
  {
   "cell_type": "code",
   "execution_count": 1,
   "metadata": {},
   "outputs": [
    {
     "name": "stdout",
     "output_type": "stream",
     "text": [
      "Is 10 greater than 20 ? False\n",
      "Output type = <class 'bool'> \n",
      "\n",
      "Is 10 smaller than 20 ? True\n",
      "Output type = <class 'bool'> \n",
      "\n",
      "Is 10 greater than or equal to 20 ? False\n",
      "Output type = <class 'bool'> \n",
      "\n",
      "Is 10 less than or equal to 20 ? True\n",
      "Output type = <class 'bool'> \n",
      "\n",
      "___________________________________________\n",
      "Is 10 greater than 20 ? False\n",
      "Output type = <class 'NoneType'>\n"
     ]
    }
   ],
   "source": [
    "a = 10\n",
    "b = 20\n",
    "\n",
    "p = a > b\n",
    "print (f'Is {a} greater than {b} ?', p)\n",
    "print ('Output type =', type(p), '\\n')\n",
    "\n",
    "q = a < b\n",
    "print (f'Is {a} smaller than {b} ?', q)\n",
    "print ('Output type =', type(q), '\\n')\n",
    "\n",
    "r = a >= b\n",
    "print (f'Is {a} greater than or equal to {b} ?', r)\n",
    "print ('Output type =', type(r), '\\n')\n",
    "\n",
    "s = a <= b\n",
    "print (f'Is {a} less than or equal to {b} ?', s)\n",
    "print ('Output type =', type(s), '\\n')\n",
    "\n",
    "# But if the execution is done in print statement, the print statement is allocated a bool output and immediately emptied.\n",
    "# Due to this the type of the output is NoneType as the id is empty\n",
    "\n",
    "print ('___________________________________________')\n",
    "\n",
    "p = print (f'Is {a} greater than {b} ?', a > b)\n",
    "print ('Output type =', type(p))"
   ]
  },
  {
   "cell_type": "markdown",
   "metadata": {},
   "source": [
    "### 5 - Equality Operator on integers\n",
    "\n",
    "    - Take two different intger values.\n",
    "    - Store them in two different variables.\n",
    "    - Equuate them using equality operator (==, !=)\n",
    "    - Observe the output(return type should be boolean)"
   ]
  },
  {
   "cell_type": "code",
   "execution_count": 3,
   "metadata": {},
   "outputs": [
    {
     "name": "stdout",
     "output_type": "stream",
     "text": [
      "Is 10 equivalent to 20 ? False\n",
      "Output type = <class 'bool'> \n",
      "\n",
      "Is 10 Not equivalent to 20 ? True\n",
      "Output type = <class 'bool'>\n"
     ]
    }
   ],
   "source": [
    "a = 10\n",
    "b = 20\n",
    "\n",
    "m = a == b\n",
    "print (f'Is {a} equivalent to {b} ?', m)\n",
    "print ('Output type =', type(m), '\\n')\n",
    "\n",
    "n = a != b\n",
    "print (f'Is {a} Not equivalent to {b} ?', n)\n",
    "print ('Output type =', type(n))"
   ]
  },
  {
   "cell_type": "markdown",
   "metadata": {},
   "source": [
    "### 6 - Logical operators on integers\n",
    "\n",
    "    - Observe the output of below code\n",
    "    - Cross check the output manually\n",
    "        print(10 and 20)       #----------------------------------------->Output is 20\n",
    "        print(0 and 20)        #----------------------------------------->Output is 0\n",
    "        print(20 and 0)        #----------------------------------------->Output is 0\n",
    "        print(0 and 0)         #----------------------------------------->Output is 0\n",
    "\n",
    "        print(10 or 20)        #----------------------------------------->Output is 10\n",
    "        print(0 or 20)         #----------------------------------------->Output is 20\n",
    "        print(20 or 0)         #----------------------------------------->Output is 20\n",
    "        print(0 or 0)          #----------------------------------------->Output is 0\n",
    "\n",
    "        print(not 10)          #----------------------------------------->Output is False\n",
    "        print(not 0)           #----------------------------------------->Output is True"
   ]
  },
  {
   "cell_type": "code",
   "execution_count": 40,
   "metadata": {},
   "outputs": [
    {
     "name": "stdout",
     "output_type": "stream",
     "text": [
      "20\n",
      "0\n",
      "0\n",
      "0\n"
     ]
    }
   ],
   "source": [
    "# Properties of logical and operator:\n",
    "#     - The output is True only if all the expressions are true\n",
    "#     - The lookout is always for the 1st False operation (Ex. if there are 2 expressions in the statement)\n",
    "#         While executing the statement, if at any instance an expression is False -> output is the the 1st false expression\n",
    "#         If there are no False expression by the end of execution -> output is the last expression\n",
    "\n",
    "# Truth table of and logical operator\n",
    "#    True and True =   True    (output is 2nd expression, which is the last expression)\n",
    "#    True and False =  False   (output is 2nd expression, which is the last expression)\n",
    "#    False and True =  False   (output is 1st expression, which is the 1st False expression)\n",
    "#    False and False = False   (output is 1st expression, which is the 1st False expression)\n",
    "\n",
    "# as in the below examples there are only 2 expressions, only 1st expression needs to be checked\n",
    "# if the 1st expression is False -> o/p = 1st expression --> else o/p = 2nd expression\n",
    "\n",
    "print(10 and 20)       # as 1st expression is True -> Output is 2nd/last expression 20\n",
    "print(0 and 20)        # as 1st expression is False -> Output is 1st False expression 0\n",
    "print(20 and 0)        # as 1st expression is True -> Output is 2nd/last expression 0\n",
    "print(0 and 0)         # as 1st expression is False -> Output is 1st False expression 0\n"
   ]
  },
  {
   "cell_type": "code",
   "execution_count": 39,
   "metadata": {},
   "outputs": [
    {
     "name": "stdout",
     "output_type": "stream",
     "text": [
      "10\n",
      "20\n",
      "20\n",
      "0\n"
     ]
    }
   ],
   "source": [
    "# Properties of logical or operator:\n",
    "#     - The output is True if any 1 or both the expressions are true\n",
    "#     - The lookout is always for the 1st True operation\n",
    "#         While executing the statement, if at any instance an expression is True -> output is the the 1st True expression\n",
    "#         If there are no True expression by the end of execution -> output is the last expression\n",
    "\n",
    "# Truth table of or logical operator\n",
    "#    True or True =    True    (output is 1st expression, which is the 1st True expression)\n",
    "#    True or False =   False   (output is 1st expression, which is the 1st True expression)\n",
    "#    False or True =   False   (output is 2nd expression, which is the last expression)\n",
    "#    False or False =  False   (output is 2nd expression, which is the last expression)\n",
    "\n",
    "# as in the below examples there are only 2 expressions, only 1st expression needs to be checked\n",
    "# if the 1st expression is True -> o/p = 1st expression --> else o/p = 2nd expression\n",
    "\n",
    "print(10 or 20)        # as 1st expressions is True -> Output is 1st True expression 10\n",
    "print(0 or 20)         # as 1st expressions is False -> Output is 2nd/last expression 20\n",
    "print(20 or 0)         # as 1st expressions is True -> Output is 1st True expression 20\n",
    "print(0 or 0)          # as 1st expressions is False -> Output is 2nd/last expression 0\n"
   ]
  },
  {
   "cell_type": "code",
   "execution_count": 54,
   "metadata": {},
   "outputs": [
    {
     "name": "stdout",
     "output_type": "stream",
     "text": [
      "False\n",
      "True\n"
     ]
    }
   ],
   "source": [
    "# Properties of logical not operator:\n",
    "#     - The output is True if expression is False &\n",
    "#     - The output is False if expression is True\n",
    "\n",
    "# Truth table of not logical operator\n",
    "#    True = False  (output is False, if expression is True)\n",
    "#    False = True  (output is True, if expression is False)\n",
    "\n",
    "# an expression is True if:\n",
    "#     str -> 'A-Z', 'a-z', ' ', '_', 'any special character', '0-9'\n",
    "#     number -> any positive or negative number that is divisible\n",
    "#     boolean expression -> True\n",
    "\n",
    "# an expression is False if:\n",
    "#     str -> '' (Empty)\n",
    "#     number -> 0\n",
    "#     boolean expression -> False\n",
    "#     None\n",
    "    \n",
    "\n",
    "print(not 10)   # 10 is a +ve divisible integer which is a True expression -> Output of not operator is False\n",
    "print(not 0)    # 0 is a non-divisible integer which is a False expression -> Output of not operator is True"
   ]
  },
  {
   "cell_type": "markdown",
   "metadata": {},
   "source": [
    "### 7 - Bitwise Operators on integers\n",
    "\n",
    "    - Do below operations on the values provided below:-\n",
    "        Bitwise and(&) -----------------------------------------> 10, 20   -------> Output is 0\n",
    "        Bitwise or(|)  -----------------------------------------> 10, 20   -------> Output is 30\n",
    "        Bitwise(^)     -----------------------------------------> 10, 20   -------> Output is 30\n",
    "        Bitwise negation(~) ------------------------------------> 10       -------> Output is -11\n",
    "        Bitwise left shift  ------------------------------------> 10,2     -------> Output is 40\n",
    "        Bitwise right shift ------------------------------------> 10,2     -------> Output is 2\n",
    "\n",
    "    - Cross check the output manually"
   ]
  },
  {
   "cell_type": "code",
   "execution_count": 68,
   "metadata": {},
   "outputs": [
    {
     "name": "stdout",
     "output_type": "stream",
     "text": [
      "bit value of 10 is 0b1010\n",
      "bit value of 20 is 0b10100\n",
      "\n",
      "Bitwise & of 10 and 20 is 0b00000\n",
      "int value of 0b00000 is 0\n",
      "\n",
      "Bitwise & operation of 10 and 20 is 0\n"
     ]
    }
   ],
   "source": [
    "# Bitwise and(&) -----------------------------------------> 10, 20\n",
    "\n",
    "# bitwise and Truth Table\n",
    "#             1 & 1 = 1\n",
    "#             1 & 0 = 0\n",
    "#             0 & 1 = 0\n",
    "#             0 & 0 = 0\n",
    "\n",
    "print ('bit value of 10 is', bin(10))\n",
    "print ('bit value of 20 is', bin(20))\n",
    "\n",
    "# 10 = 01010 -> binary value of 10\n",
    "# 20 = 10100 -> binary value of 20\n",
    "# ------------------\n",
    "# &  = 00000 -> (as per bitwise and truth table)\n",
    "\n",
    "print()\n",
    "print ('Bitwise & of 10 and 20 is 0b00000')\n",
    "print ('int value of 0b00000 is', 0b00000)\n",
    "# 0b00000 = 0 -> integer value of 0b00000\n",
    "\n",
    "print()\n",
    "print (f'Bitwise & operation of {10} and {20} is', 10 & 20)\n"
   ]
  },
  {
   "cell_type": "code",
   "execution_count": 69,
   "metadata": {},
   "outputs": [
    {
     "name": "stdout",
     "output_type": "stream",
     "text": [
      "bit value of 10 is 0b1010\n",
      "bit value of 20 is 0b10100\n",
      "\n",
      "Bitwise | of 10 and 20 is 0b11110\n",
      "int value of 0b11110 is 30\n",
      "\n",
      "Bitwise | operation of 10 and 20 is 30\n"
     ]
    }
   ],
   "source": [
    "# Bitwise or(|)  -----------------------------------------> 10, 20\n",
    "\n",
    "# bitwise or Truth Table\n",
    "#             1 | 1 = 1\n",
    "#             1 | 0 = 1\n",
    "#             0 | 1 = 1\n",
    "#             0 | 0 = 0\n",
    "\n",
    "print ('bit value of 10 is', bin(10))\n",
    "print ('bit value of 20 is', bin(20))\n",
    "\n",
    "# 10 = 01010 -> binary value of 10\n",
    "# 20 = 10100 -> binary value of 20\n",
    "# ------------------\n",
    "# |  = 11110 -> (as per bitwise or truth table)\n",
    "\n",
    "print()\n",
    "print ('Bitwise | of 10 and 20 is 0b11110')\n",
    "print ('int value of 0b11110 is', 0b11110)\n",
    "# 0b11110 = 30 -> integer value of 0b11110\n",
    "\n",
    "print()\n",
    "print (f'Bitwise | operation of {10} and {20} is', 10 | 20)\n"
   ]
  },
  {
   "cell_type": "code",
   "execution_count": 70,
   "metadata": {},
   "outputs": [
    {
     "name": "stdout",
     "output_type": "stream",
     "text": [
      "bit value of 10 is 0b1010\n",
      "bit value of 20 is 0b10100\n",
      "\n",
      "Bitwise ^ of 10 and 20 is 0b11110\n",
      "int value of 0b11110 is 30\n",
      "\n",
      "Bitwise ^ operation of 10 and 20 is 30\n"
     ]
    }
   ],
   "source": [
    "# Bitwise(^)     -----------------------------------------> 10, 20\n",
    "\n",
    "# bitwise xor Truth Table\n",
    "#             1 ^ 1 = 0\n",
    "#             1 ^ 0 = 1\n",
    "#             0 ^ 1 = 1\n",
    "#             0 ^ 0 = 0\n",
    "\n",
    "print ('bit value of 10 is', bin(10))\n",
    "print ('bit value of 20 is', bin(20))\n",
    "\n",
    "# 10 = 01010 -> binary value of 10\n",
    "# 20 = 10100 -> binary value of 20\n",
    "# ------------------\n",
    "# ^  = 11110 -> (as per bitwise xor truth table)\n",
    "\n",
    "print()\n",
    "print ('Bitwise ^ of 10 and 20 is 0b11110')\n",
    "print ('int value of 0b11110 is', 0b11110)\n",
    "# 0b11110 = 30 -> integer value of 0b11110\n",
    "\n",
    "print()\n",
    "print (f'Bitwise ^ operation of {10} and {20} is', 10 | 20)"
   ]
  },
  {
   "cell_type": "code",
   "execution_count": 74,
   "metadata": {},
   "outputs": [
    {
     "name": "stdout",
     "output_type": "stream",
     "text": [
      "Bitwise ~ of 10 is -11\n"
     ]
    }
   ],
   "source": [
    "# Bitwise negation(~) ------------------------------------> 10\n",
    "\n",
    "# bitwise negation\n",
    "#             ~num = -(num+1)\n",
    "\n",
    "print (f'Bitwise ~ of {10} is', ~10)    # ~10 = -(10+1) = -11"
   ]
  },
  {
   "cell_type": "code",
   "execution_count": 92,
   "metadata": {},
   "outputs": [
    {
     "name": "stdout",
     "output_type": "stream",
     "text": [
      "Manually bitwise left shifting 10 by 2 bits \n",
      "\n",
      "Binary equivalent of 10 is 0b1010\n",
      "Binary equivalent of 10 in 32 bit representation would be 00000000000000000000000000001010 \n",
      "\n",
      "To shift by 2 bits towards left\n",
      "          we remove 2 bits from LHS, that would give 000000000000000000000000001010\n",
      "          and add 2 0's at end/RHS would give 00000000000000000000000000101000\n",
      "keeping the resulting o/p in 32 bit \n",
      "\n",
      "The int resultant of binary 0b00000000000000000000000000101000 would be: 40\n",
      "\n",
      "\n",
      "____________________________________________________________________________________________\n",
      "\n",
      "Bitwise left shift of 10 by 2 bits is 40\n"
     ]
    }
   ],
   "source": [
    "# Bitwise left shift  ------------------------------------> 10,2\n",
    "\n",
    "print ('Manually bitwise left shifting 10 by 2 bits \\n')\n",
    "\n",
    "# step1 - convert 10 into binary equivalent\n",
    "print ('Binary equivalent of 10 is', bin(10))\n",
    "# 10 = 1010\n",
    "\n",
    "# Step2 - Write the binary equivalent in 32/64 bit representation\n",
    "print ('Binary equivalent of 10 in 32 bit representation would be 00000000000000000000000000001010', '\\n')\n",
    "\n",
    "# step3 - remove 2 bits from LHS and add 2 0's in the right hand side\n",
    "print ('''To shift by 2 bits towards left\n",
    "          we remove 2 bits from LHS, that would give 000000000000000000000000001010\n",
    "          and add 2 0's at end/RHS would give 00000000000000000000000000101000\n",
    "keeping the resulting o/p in 32 bit \\n''')\n",
    "\n",
    "# step4 - use print(0bresultant bits)\n",
    "print('The int resultant of binary 0b00000000000000000000000000101000 would be:', 0b00000000000000000000000000101000)\n",
    "\n",
    "print('\\n')\n",
    "print ('____________________________________________________________________________________________\\n')\n",
    "print('Bitwise left shift of 10 by 2 bits is', 10 << 2)"
   ]
  },
  {
   "cell_type": "code",
   "execution_count": 93,
   "metadata": {},
   "outputs": [
    {
     "name": "stdout",
     "output_type": "stream",
     "text": [
      "Manually bitwise right shifting 10 by 2 bits \n",
      "\n",
      "Binary equivalent of 10 is 0b1010\n",
      "Binary equivalent of 10 in 32 bit representation would be 00000000000000000000000000001010 \n",
      "\n",
      "To shift by 2 bits towards left\n",
      "          we remove 2 bits from RHS, that would give 000000000000000000000000000010\n",
      "          and add 2 0's from the LHS would give 00000000000000000000000000000010\n",
      "keeping the resulting o/p in 32 bit \n",
      "\n",
      "The int resultant of binary 0b00000000000000000000000000000010 would be: 2\n",
      "\n",
      "\n",
      "____________________________________________________________________________________________\n",
      "\n",
      "Bitwise left shift of 10 by 2 bits is 2\n"
     ]
    }
   ],
   "source": [
    "# Bitwise right shift ------------------------------------> 10,2\n",
    "\n",
    "print ('Manually bitwise right shifting 10 by 2 bits \\n')\n",
    "\n",
    "# step1 - convert 10 into binary equivalent\n",
    "print ('Binary equivalent of 10 is', bin(10))\n",
    "# 10 = 1010\n",
    "\n",
    "# Step2 - Write the binary equivalent in 32/64 bit representation\n",
    "print ('Binary equivalent of 10 in 32 bit representation would be 00000000000000000000000000001010', '\\n')\n",
    "\n",
    "# step3 - remove 2 bits from RHS and add 2 0's in the left hand side\n",
    "print ('''To shift by 2 bits towards left\n",
    "          we remove 2 bits from RHS, that would give 000000000000000000000000000010\n",
    "          and add 2 0's from the LHS would give 00000000000000000000000000000010\n",
    "keeping the resulting o/p in 32 bit \\n''')\n",
    "\n",
    "# step4 - use print(0bresultant bits)\n",
    "print('The int resultant of binary 0b00000000000000000000000000000010 would be:', 0b00000000000000000000000000000010)\n",
    "\n",
    "print('\\n')\n",
    "print ('____________________________________________________________________________________________\\n')\n",
    "print('Bitwise left shift of 10 by 2 bits is', 10 >> 2)"
   ]
  },
  {
   "cell_type": "markdown",
   "metadata": {},
   "source": [
    "### 8 - What is the output of expression inside print statement.\n",
    "\n",
    "            a = 10\n",
    "            b = 10\n",
    "            print(a is b)          #True or False?\n",
    "            print(a is not b)      #True or False?\n",
    "\n",
    "            a = 1000\n",
    "            b = 1000\n",
    "            print(a is b)          #True or False?\n",
    "            print(a is not b)      #True or False?\n",
    "\n",
    "Cross check before running the program."
   ]
  },
  {
   "cell_type": "code",
   "execution_count": 107,
   "metadata": {},
   "outputs": [
    {
     "name": "stdout",
     "output_type": "stream",
     "text": [
      "Id's of a: 140707761961024 and b: 140707761961024 are True\n",
      "Id's a: 140707761961024 and b: 140707761961024 are not False \n",
      "\n",
      "Id's a: 2757499022800 and b: 2757499022992 are False\n",
      "Id's a: 2757499022800 and b: 2757499022992 are not True\n"
     ]
    }
   ],
   "source": [
    "# is, is not are the Identity operator\n",
    "# an identity operator matches the id of 2 or more operands.\n",
    "#     If the Id's of all the operands matches -> O/p is True\n",
    "#     If the Id's of all the operands does not match -> O/p is False\n",
    "\n",
    "# NOTE:\n",
    "# with respect to memory management / CPython optimization\n",
    "# CPython implementation keeps an array of integer objects for all integers between -5 and 256.\n",
    "# So when we create an integer in that range, they simply back reference to the existing object.\n",
    "\n",
    "a = 10\n",
    "b = 10\n",
    "print(f'Id\\'s of a: {id(a)} and b: {id(b)} are {a is b}')                 # Output is True\n",
    "print(f'Id\\'s a: {id(a)} and b: {id(b)} are not {a is not b}', '\\n')      # Output is False (as id of a = id of b)\n",
    "\n",
    "a = 1000\n",
    "b = 1000\n",
    "print(f'Id\\'s a: {id(a)} and b: {id(b)} are {a is b}')          # Output is False (as integer value of a and b are not in range -5 to 256)\n",
    "print(f'Id\\'s a: {id(a)} and b: {id(b)} are not {a is not b}')      # Output is False (as integer value of a and b are not in range -5 to 256)"
   ]
  },
  {
   "cell_type": "markdown",
   "metadata": {},
   "source": [
    "### 9 - What is the output of expression inside print statement.\n",
    "\n",
    "    print(10+(10*32)//2**5&20+(~(-10))<<2)\n",
    "\n",
    "Cross check before running the program."
   ]
  },
  {
   "cell_type": "markdown",
   "metadata": {},
   "source": [
    "#### Python defines precedence of an operator over others.\n",
    "\n",
    "- ** (Exponent has the highest precedence of all the operators)\n",
    "- Arithmetic operator has precedence over bitwise operators [Exception ~ operator which precedes all the arithmetic operator except ** 'exponent']\n",
    "    - EXCEPTION: () precedes all the operators\n",
    "\n",
    "\n",
    "- among arithmetic operators: below is the list as per precedence\n",
    "         **\n",
    "         * / % //\n",
    "         + -\n",
    "\n",
    "- among bitwise operators: below is the list as per precedence\n",
    "         ~\n",
    "         >> <<\n",
    "         &\n",
    "         ^ |\n",
    "\n",
    "- When two operators have the same precedence, associativity helps to determine the order of operations.\n",
    "    - Associativity is the order in which an expression is evaluated that has multiple operators of the same precedence. \n",
    "    - Almost all the operators have left-to-right associativity.\n",
    "        - EXCEPTION: Exponent operator ** has right-to-left associativity in Python."
   ]
  },
  {
   "cell_type": "code",
   "execution_count": 117,
   "metadata": {},
   "outputs": [
    {
     "name": "stdout",
     "output_type": "stream",
     "text": [
      "Output of 10+(10*32)//2**5&20+(~(-10))<<2 is 20\n"
     ]
    }
   ],
   "source": [
    "#________________________________________________________________________________________________________________________\n",
    "# As per the precedence and associative rules\n",
    "\n",
    "# Brackets shall be executed 1st\n",
    "# 10*32 = 320\n",
    "# (-10) = -10\n",
    "# (~-10) = -(-10 + 1) = 9\n",
    "# (10+320//2**5&20+9<<2)\n",
    "\n",
    "# Then execute the ** operator\n",
    "# 2**5 = 32\n",
    "# (10+320//32&20+9<<2)\n",
    "\n",
    "# Then execute // operator\n",
    "# 320//32 = 10\n",
    "# (10+10&20+9<<2)\n",
    "\n",
    "# The execute + operator\n",
    "# 10+10 = 20\n",
    "# 20+9 = 29\n",
    "# (20&29<<2)\n",
    "\n",
    "# The execute << operator\n",
    "# 29<<2 = 116\n",
    "# (20&116)\n",
    "\n",
    "# The execute & operator\n",
    "# 20&116 = 20\n",
    "\n",
    "# So, (10+(10*32)//2**5&20+(~(-10))<<2) = 20\n",
    "#________________________________________________________________________________________________________________________\n",
    "\n",
    "print('Output of 10+(10*32)//2**5&20+(~(-10))<<2 is' ,10+(10*32)//2**5&20+(~(-10))<<2)\n"
   ]
  },
  {
   "cell_type": "markdown",
   "metadata": {},
   "source": [
    "### 10 - Membership operation on Integers\n",
    "\n",
    "    - in, not in are two membership operators and it returns boolean value\n",
    "\n",
    "    print('2' in 'Python2.7.8')\n",
    "    print(10 in [10,10.20,10+20j,'Python'])\n",
    "    print(10 in (10,10.20,10+20j,'Python'))\n",
    "    print(2 in {1,2,3})\n",
    "    print(3 in {1:100, 2:200, 3:300})\n",
    "    print(10 in range(20))"
   ]
  },
  {
   "cell_type": "code",
   "execution_count": 4,
   "metadata": {},
   "outputs": [
    {
     "name": "stdout",
     "output_type": "stream",
     "text": [
      "True\n",
      "True\n",
      "True\n",
      "True\n",
      "True\n",
      "True\n"
     ]
    }
   ],
   "source": [
    "# Membership operation checks whether an element is part of the sequence or not\n",
    "# in, not in are two membership operators\n",
    "# Membership operation always returns a boolean value (True False)\n",
    "# Note: membership operation is case sensitive\n",
    "\n",
    "print('2' in 'Python2.7.8')                # O/p is True as str '2' exists in the str 'Python2.7.8' \n",
    "print(10 in [10,10.20,10+20j,'Python'])    # O/p is True as int 10 exists in the list [10,10.20,10+20j,'Python']\n",
    "print(10 in (10,10.20,10+20j,'Python'))    # O/p is True as int 10 exists in the tuple (10,10.20,10+20j,'Python')\n",
    "print(2 in {1,2,3})                        # O/p is True as int 2 exists in the set {1,2,3}\n",
    "print(3 in {1:100, 2:200, 3:300})          # O/p is True as int 3 exists in the dict {1:100, 2:200, 3:300}\n",
    "print(10 in range(20))                     # O/p is True as int value 10 exists in the range between 0 to 19"
   ]
  },
  {
   "cell_type": "markdown",
   "metadata": {},
   "source": [
    "### 11 - An integer can be represented in binary, octal or hexadecimal form.\n",
    "\n",
    "- Declare one binary, one octal and one hexadecimal value and store them in three different variables.\n",
    "\n",
    "- Convert 9876 to its binary, octal and hexadecimal equivalent and print their corresponding value."
   ]
  },
  {
   "cell_type": "code",
   "execution_count": 2,
   "metadata": {},
   "outputs": [
    {
     "name": "stdout",
     "output_type": "stream",
     "text": [
      "Binary equivalent of 9876 is 0b10011010010100\n",
      "Octal equivalent of 9876 is 0o23224\n",
      "Hexadecimal equivalent of 9876 is 0x2694\n"
     ]
    }
   ],
   "source": [
    "#Declare one binary, one octal and one hexadecimal value and store them in three different variables.\n",
    "a = 0b1011\n",
    "b = 0o1237\n",
    "c = 0xfa19\n",
    "\n",
    "#Convert 9876 to its binary, octal and hexadecimal equivalent and print their corresponding value.\n",
    "print (f'Binary equivalent of 9876 is {bin(9876)}')\n",
    "print (f'Octal equivalent of 9876 is {oct(9876)}')\n",
    "print (f'Hexadecimal equivalent of 9876 is {hex(9876)}')"
   ]
  },
  {
   "cell_type": "markdown",
   "metadata": {},
   "source": [
    "### 12 - What will be the outut of following:-\n",
    "\n",
    "            a = 0b1010000\n",
    "            print(a)\n",
    "\n",
    "            b = 0o7436\n",
    "            print(b)\n",
    "\n",
    "            c = 0xfade\n",
    "            print(c)\n",
    "\n",
    "            print(bin(80))\n",
    "\n",
    "            print(oct(3870))\n",
    "\n",
    "            print(hex(64222))\n",
    "\n",
    "            print(bin(0b1010000))\n",
    "\n",
    "            print(bin(0xfade))\n",
    "\n",
    "            print(oct(0xfade))\n",
    "\n",
    "            print(oct(0o7436))\n",
    "\n",
    "            print(hex(0b1010000))\n",
    "\n",
    "            print(hex(0xfade))"
   ]
  },
  {
   "cell_type": "code",
   "execution_count": 137,
   "metadata": {},
   "outputs": [
    {
     "name": "stdout",
     "output_type": "stream",
     "text": [
      "80\n",
      "3870\n",
      "64222\n",
      "\n",
      "0b1010000\n",
      "\n",
      "0o7436\n",
      "\n",
      "0xfade\n",
      "\n",
      "0b1010000\n",
      "0b1111101011011110\n",
      "\n",
      "0o175336\n",
      "0o7436\n",
      "\n",
      "0x50\n",
      "0xfade\n"
     ]
    }
   ],
   "source": [
    "# converts binary to integer\n",
    "a = 0b1010000\n",
    "print(a)                      # binary to decimal value conversion is automatic in Python (Type int)\n",
    "\n",
    "# converts octal to integer\n",
    "b = 0o7436\n",
    "print(b)                      # octal to decimal value conversion is automatic in Python (Type int)\n",
    "\n",
    "# converts hexadecimal to integer\n",
    "c = 0xfade\n",
    "print(c)                      # octal to decimal value conversion is automatic in Python (Type int)\n",
    "\n",
    "print()\n",
    "\n",
    "# bin() converts any number to binary\n",
    "print(bin(80))\n",
    "\n",
    "print()\n",
    "\n",
    "# oct() converts any number to octal\n",
    "print(oct(3870))\n",
    "\n",
    "print()\n",
    "\n",
    "# hex() converts any number to hexadecimal\n",
    "print(hex(64222))\n",
    "\n",
    "print()\n",
    "\n",
    "# bin() converts any number to binary\n",
    "print(bin(0b1010000))\n",
    "\n",
    "# bin() converts any number to binary\n",
    "print(bin(0xfade))\n",
    "\n",
    "print()\n",
    "\n",
    "# oct() converts any number to octal\n",
    "print(oct(0xfade))\n",
    "\n",
    "# oct() converts any number to octal\n",
    "print(oct(0o7436))\n",
    "\n",
    "print()\n",
    "\n",
    "# hex() converts any number to hexadecimal\n",
    "print(hex(0b1010000))\n",
    "\n",
    "# hex() converts any number to hexadecimal\n",
    "print(hex(0xfade))"
   ]
  },
  {
   "cell_type": "code",
   "execution_count": null,
   "metadata": {},
   "outputs": [],
   "source": []
  },
  {
   "cell_type": "code",
   "execution_count": null,
   "metadata": {},
   "outputs": [],
   "source": []
  },
  {
   "cell_type": "code",
   "execution_count": null,
   "metadata": {},
   "outputs": [],
   "source": []
  },
  {
   "cell_type": "code",
   "execution_count": null,
   "metadata": {},
   "outputs": [],
   "source": []
  },
  {
   "cell_type": "code",
   "execution_count": null,
   "metadata": {},
   "outputs": [],
   "source": []
  }
 ],
 "metadata": {
  "kernelspec": {
   "display_name": "Python 3",
   "language": "python",
   "name": "python3"
  },
  "language_info": {
   "codemirror_mode": {
    "name": "ipython",
    "version": 3
   },
   "file_extension": ".py",
   "mimetype": "text/x-python",
   "name": "python",
   "nbconvert_exporter": "python",
   "pygments_lexer": "ipython3",
   "version": "3.8.3"
  }
 },
 "nbformat": 4,
 "nbformat_minor": 4
}
