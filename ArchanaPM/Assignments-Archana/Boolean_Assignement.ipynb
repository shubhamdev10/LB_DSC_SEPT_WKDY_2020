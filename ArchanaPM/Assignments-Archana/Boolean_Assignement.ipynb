{
 "cells": [
  {
   "cell_type": "code",
   "execution_count": 1,
   "metadata": {
    "colab": {},
    "colab_type": "code",
    "id": "7JIFn6BP4M0R"
   },
   "outputs": [
    {
     "name": "stdout",
     "output_type": "stream",
     "text": [
      "value :  True  type : <class 'bool'>  id :  140736621766480\n"
     ]
    }
   ],
   "source": [
    "#Declare a boolean value and store it in a variable. \n",
    "\n",
    "var = True\n",
    "\n",
    "#Check the type and print the id of the same.\n",
    "\n",
    "\n",
    "print('value : ',var, ' type :',type(var),' id : ',id(var))"
   ]
  },
  {
   "cell_type": "code",
   "execution_count": 3,
   "metadata": {
    "colab": {},
    "colab_type": "code",
    "id": "o9bjjhN64kAP"
   },
   "outputs": [
    {
     "name": "stdout",
     "output_type": "stream",
     "text": [
      "140736621766480\n",
      "140736621766480\n"
     ]
    }
   ],
   "source": [
    "#Take one boolean value between 0 - 256.\n",
    "#Assign it to two different variables.\n",
    "\n",
    "var = True\n",
    "var2 = True\n",
    "\n",
    "#Check the id of both the variables. It should come same. Check why?\n",
    "\n",
    "print(id(var))\n",
    "print(id(var2))\n",
    "\n",
    "#Ans : Object reusability"
   ]
  },
  {
   "cell_type": "code",
   "execution_count": 5,
   "metadata": {
    "colab": {},
    "colab_type": "code",
    "id": "yr4ETGSf4l5y"
   },
   "outputs": [
    {
     "name": "stdout",
     "output_type": "stream",
     "text": [
      "Values :  False True\n",
      "Sum :  1\n",
      "Difference :  -1\n",
      "Product :  0\n",
      "Division :  0.0\n",
      "Remainder :  0\n",
      "Quotient :  0\n",
      "Exponent :  0\n"
     ]
    }
   ],
   "source": [
    "#Arithmatic Operations on boolean data\n",
    "#Take two different boolean values.\n",
    "#Store them in two different variables.\n",
    "\n",
    "a = False\n",
    "b = True\n",
    "\n",
    "#Do below operations on them:-\n",
    "    #Find sum of both values\n",
    "    \n",
    "\n",
    "\n",
    "    #Find differce between them\n",
    "\n",
    "\n",
    "\n",
    "    #Find the product of both.\n",
    "\n",
    "\n",
    "\n",
    "    #Find value after dividing first value with second value\n",
    "    \n",
    "\n",
    "    \n",
    "    #Find the remainder after dividing first value with second value\n",
    "    \n",
    "\n",
    "    \n",
    "    #Find the quotient after dividing first value with second value\n",
    "    \n",
    "\n",
    "    \n",
    "    #Find the result of first value to the power of second value.\n",
    "    \n",
    "\n",
    "\n",
    "\n",
    "print('Values : ',a,b)\n",
    "print('Sum : ',a+b)\n",
    "print('Difference : ',a-b)\n",
    "print('Product : ',a*b)\n",
    "print('Division : ',a/b)\n",
    "print('Remainder : ',a%b)\n",
    "print('Quotient : ',a//b)\n",
    "print('Exponent : ',a**b)\n",
    "\n",
    "\n",
    "    "
   ]
  },
  {
   "cell_type": "code",
   "execution_count": 6,
   "metadata": {
    "colab": {},
    "colab_type": "code",
    "id": "xG4mX84E4n2O"
   },
   "outputs": [
    {
     "name": "stdout",
     "output_type": "stream",
     "text": [
      "False\n",
      "True\n",
      "False\n",
      "True\n"
     ]
    }
   ],
   "source": [
    "#Comparison Operators on boolean values\n",
    "#Take two different boolean values.\n",
    "#Store them in two different variables.\n",
    "\n",
    "\n",
    "\n",
    "#Do below operations on them:-\n",
    "    #Compare these two values with below operator:-\n",
    "        #Greater than, '>'\n",
    "    \n",
    "\n",
    "\n",
    "        #less than, '<'\n",
    "    \n",
    "\n",
    "        #Greater than or equal to, '>='\n",
    "\n",
    "\n",
    "        #Less than or equal to, '<='    \n",
    "\n",
    "\n",
    "#Observe their output(return type should be boolean)\n",
    "\n",
    "comp1 = False\n",
    "comp2 = True\n",
    "print(comp1 > comp2)\n",
    "print(comp1 < comp2)\n",
    "print(comp1 >= comp2)\n",
    "print(comp1 <= comp2)\n",
    "\n",
    "\n",
    "\n",
    "\n",
    "\n",
    "\n"
   ]
  },
  {
   "cell_type": "code",
   "execution_count": 7,
   "metadata": {
    "colab": {},
    "colab_type": "code",
    "id": "TUIo2Z9V4qBJ"
   },
   "outputs": [
    {
     "name": "stdout",
     "output_type": "stream",
     "text": [
      "False\n",
      "True\n"
     ]
    }
   ],
   "source": [
    "#Equality Operator\n",
    "#Take two different boolean values.\n",
    "#Store them in two different variables.\n",
    "\n",
    "\n",
    "\n",
    "#Equuate them using equality operator (==, !=)\n",
    "\n",
    "\n",
    "\n",
    "#Observe the output(return type should be boolean)\n",
    "\n",
    "eq1 = False\n",
    "eq2 = True\n",
    "print(eq1 == eq2)\n",
    "print(eq1 != eq2)\n",
    "\n",
    "\n",
    "\n",
    "\n"
   ]
  },
  {
   "cell_type": "code",
   "execution_count": 8,
   "metadata": {
    "colab": {},
    "colab_type": "code",
    "id": "XukEq5E44rxv"
   },
   "outputs": [
    {
     "name": "stdout",
     "output_type": "stream",
     "text": [
      "True\n",
      "False\n",
      "False\n",
      "False\n",
      "True\n",
      "True\n",
      "True\n",
      "False\n",
      "False\n",
      "True\n"
     ]
    }
   ],
   "source": [
    "#Logical operators\n",
    "#Observe the output of below code\n",
    "#Cross check the output manually\n",
    "\n",
    "print(True and True)        #----------------------------------------->Output is True\n",
    "print(False and True)        #----------------------------------------->Output is False\n",
    "print(True and False)        #----------------------------------------->Output is False\n",
    "print(False and False)       #----------------------------------------->Output is False\n",
    "\n",
    "print(True or True)          #----------------------------------------->Output is True\n",
    "print(False or True)         #----------------------------------------->Output is True\n",
    "print(True or False)         #----------------------------------------->Output is True\n",
    "print(False or False)        #----------------------------------------->Output is False\n",
    "\n",
    "print(not True)              #----------------------------------------->Output is False\n",
    "print(not False)             #----------------------------------------->Output is True"
   ]
  },
  {
   "cell_type": "code",
   "execution_count": 16,
   "metadata": {
    "colab": {},
    "colab_type": "code",
    "id": "02jPgt094vK-"
   },
   "outputs": [
    {
     "name": "stdout",
     "output_type": "stream",
     "text": [
      "True\n",
      "True\n",
      "False\n",
      "False\n",
      "True\n",
      "True\n",
      "-2\n",
      "-1\n",
      "4\n",
      "0\n",
      "0\n",
      "0\n"
     ]
    }
   ],
   "source": [
    "#Bitwise Operators\n",
    "#Do below operations on the values provided below:-\n",
    "    #Bitwise and(&) -----------------------------------------> True, True    -------> Output is True\n",
    "    \n",
    "\n",
    "\n",
    "    #Bitwise or(|)  -----------------------------------------> True, False   -------> Output is True\n",
    "\n",
    "\n",
    "\n",
    "    #Bitwise(^)     -----------------------------------------> True, False   -------> Output is True\n",
    "\n",
    "  \n",
    "\n",
    "    #Bitwise negation(~) ------------------------------------> True          -------> Output is -2\n",
    "\n",
    "   \n",
    "\n",
    "    #Bitwise left shift  ------------------------------------> True,2        -------> Output is 4\n",
    "\n",
    "\n",
    "\n",
    "    #Bitwise right shift ------------------------------------> True,2        -------> Output is 0\n",
    "\n",
    "\n",
    "\n",
    "#Cross check the output manually\n",
    "\n",
    "print(True & True)\n",
    "print(True | True)\n",
    "print(False & False)\n",
    "print(False | False)\n",
    "\n",
    "print(True | False)\n",
    "\n",
    "print(True ^ False)\n",
    "\n",
    "print(~True)\n",
    "print(~False)\n",
    "\n",
    "print(True<<2)\n",
    "print(True>>2)\n",
    "print(False<<2)\n",
    "print(False>>2)\n",
    "\n",
    "\n"
   ]
  },
  {
   "cell_type": "code",
   "execution_count": 18,
   "metadata": {
    "colab": {},
    "colab_type": "code",
    "id": "cy5i7sWz4v_c"
   },
   "outputs": [
    {
     "name": "stdout",
     "output_type": "stream",
     "text": [
      "True\n",
      "False\n",
      "True\n",
      "False\n"
     ]
    }
   ],
   "source": [
    "#What is the output of expression inside print statement. Cross check before running the program.\n",
    "a = True\n",
    "b = True\n",
    "print(a is b)          #True or False?   True\n",
    "print(a is not b)      #True or False?   False\n",
    "\n",
    "a = False\n",
    "b = False\n",
    "print(a is b)          #True or False? True\n",
    "print(a is not b)      #True or False? False\n"
   ]
  },
  {
   "cell_type": "code",
   "execution_count": 19,
   "metadata": {
    "colab": {},
    "colab_type": "code",
    "id": "AOcPQi8544M-"
   },
   "outputs": [
    {
     "name": "stdout",
     "output_type": "stream",
     "text": [
      "True\n",
      "True\n",
      "True\n",
      "True\n",
      "True\n"
     ]
    }
   ],
   "source": [
    "#Membership operation\n",
    "#in, not in are two membership operators and it returns boolean value\n",
    "\n",
    "print(True in [10,10.20,10+20j,'Python', True]) #True\n",
    "print(False in (10,10.20,10+20j,'Python', False)) #True\n",
    "print(True in {1,2,3, True}) #True\n",
    "print(True in {True:100, False:200, True:300}) #True\n",
    "print(False in {True:100, False:200, True:300}) #True"
   ]
  },
  {
   "cell_type": "code",
   "execution_count": null,
   "metadata": {
    "colab": {},
    "colab_type": "code",
    "id": "MPa1Lpco46Ja"
   },
   "outputs": [],
   "source": []
  }
 ],
 "metadata": {
  "colab": {
   "name": "Boolean_Assignement.ipynb",
   "provenance": []
  },
  "kernelspec": {
   "display_name": "Python 3",
   "language": "python",
   "name": "python3"
  },
  "language_info": {
   "codemirror_mode": {
    "name": "ipython",
    "version": 3
   },
   "file_extension": ".py",
   "mimetype": "text/x-python",
   "name": "python",
   "nbconvert_exporter": "python",
   "pygments_lexer": "ipython3",
   "version": "3.8.3"
  }
 },
 "nbformat": 4,
 "nbformat_minor": 1
}
