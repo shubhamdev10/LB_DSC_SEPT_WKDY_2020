{
 "cells": [
  {
   "cell_type": "markdown",
   "metadata": {},
   "source": [
    "# Assignment 1 - 08th September 2020 - Float"
   ]
  },
  {
   "cell_type": "code",
   "execution_count": 1,
   "metadata": {
    "colab": {},
    "colab_type": "code",
    "id": "dlrMB-Qy2taV"
   },
   "outputs": [],
   "source": [
    "#Declare a float value and store it in a variable. \n",
    "#Check the type and print the id of the same."
   ]
  },
  {
   "cell_type": "code",
   "execution_count": 2,
   "metadata": {},
   "outputs": [
    {
     "name": "stdout",
     "output_type": "stream",
     "text": [
      "Solution : \n",
      "\t Float Variable Declaration, Type Check and Id\n",
      "Value of variable 'num' :  10.5\n",
      "Type of variable 'num'  :  <class 'float'>\n",
      "ID of variable 'num'    :  2406426872784\n"
     ]
    }
   ],
   "source": [
    "#Solution:\n",
    "#Float variable declaration\n",
    "print(\"Solution : \")\n",
    "print(\"\\t Float Variable Declaration, Type Check and Id\")\n",
    "num = 10.5;\n",
    "print(\"Value of variable 'num' : \", num)\n",
    "\n",
    "#Type Check\n",
    "print(\"Type of variable 'num'  : \", type(num))\n",
    "\n",
    "#Id of declared float variable\n",
    "print(\"ID of variable 'num'    : \", id(num))"
   ]
  },
  {
   "cell_type": "code",
   "execution_count": null,
   "metadata": {
    "colab": {},
    "colab_type": "code",
    "id": "IL4fVDHg2wbI"
   },
   "outputs": [],
   "source": [
    "#Arithmatic Operations on float\n",
    "#Take two different float values.\n",
    "#Store them in two different variables.\n",
    "\n",
    "#Do below operations on them:-\n",
    "    #Find sum of both numbers\n",
    "\n",
    "    #Find differce between them\n",
    "    #Find the product of both numbers.\n",
    "\n",
    "    #Find value after dividing first num with second number\n",
    "\n",
    "    #Find the remainder after dividing first number with second number\n",
    "\n",
    "    #Find the quotient after dividing first number with second number\n",
    "\n",
    "    #Find the result of first num to the power of second number."
   ]
  },
  {
   "cell_type": "code",
   "execution_count": 4,
   "metadata": {},
   "outputs": [
    {
     "name": "stdout",
     "output_type": "stream",
     "text": [
      "Solution : \n",
      "\t Arithmetic Operations on Float\n",
      "Value of variable 'num5'                                 :  10.5\n",
      "Value of variable 'num6'                                 :  5.5\n",
      "Sum of variables 'num5' & 'num6'                         : num5 +  num6 =  16.0\n",
      "Difference of variables 'num5' & 'num6'                  : num5 -  num6 =  5.0\n",
      "Product of variables 'num5' & 'num6'                     : num5 *  num6 =  57.75\n",
      "Division of variables 'num5' & 'num6'                    : num5 /  num6 =  1.9090909090909092\n",
      "Remainder after division for variables 'num5' & 'num6'   : num5 %  num6 =  5.0\n",
      "Quotient after division for variables 'num5' & 'num6'    : num5 // num6 =  1.0\n",
      "Power function in variables 'num5' & 'num6'              : num5 ** num6 =  413562.49323606625\n"
     ]
    }
   ],
   "source": [
    "#Solution :    \n",
    "print(\"Solution : \")\n",
    "print(\"\\t Arithmetic Operations on Float\")\n",
    "\n",
    "#Float variable declaration\n",
    "num5 = 10.5\n",
    "print(\"Value of variable 'num5'                                 : \", num5)\n",
    "num6 = 5.5\n",
    "print(\"Value of variable 'num6'                                 : \", num6)\n",
    "\n",
    "#Sum of declared float variables\n",
    "print(\"Sum of variables 'num5' & 'num6'                         : num5 +  num6 = \", num5 + num6)\n",
    "\n",
    "#Difference of declared float variables\n",
    "print(\"Difference of variables 'num5' & 'num6'                  : num5 -  num6 = \", num5 - num6)\n",
    "\n",
    "#Product of declared float variables\n",
    "print(\"Product of variables 'num5' & 'num6'                     : num5 *  num6 = \", num5 * num6)\n",
    "\n",
    "#Division of declared float variables\n",
    "print(\"Division of variables 'num5' & 'num6'                    : num5 /  num6 = \", num5 / num6)\n",
    "\n",
    "#Remainder after division for declared float variables\n",
    "print(\"Remainder after division for variables 'num5' & 'num6'   : num5 %  num6 = \", num5 % num6)\n",
    "\n",
    "#Quotient after division for declared float variables\n",
    "print(\"Quotient after division for variables 'num5' & 'num6'    : num5 // num6 = \", num5 // num6)\n",
    "\n",
    "#Power function in declared float variables\n",
    "print(\"Power function in variables 'num5' & 'num6'              : num5 ** num6 = \", num5 ** num6)"
   ]
  },
  {
   "cell_type": "code",
   "execution_count": null,
   "metadata": {
    "colab": {},
    "colab_type": "code",
    "id": "atCFaH6c2492"
   },
   "outputs": [],
   "source": [
    "#Comparison Operators on float\n",
    "#Take two different float values.\n",
    "#Store them in two different variables.\n",
    "\n",
    "#Do below operations on them:-\n",
    "    #Compare these two numbers with below operator:-\n",
    "        #Greater than, '>'\n",
    "\n",
    "        #Smaller than, '<'\n",
    "\n",
    "        #Greater than or equal to, '>='\n",
    "\n",
    "        #Less than or equal to, '<='\n",
    "\n",
    "#Observe their output(return type should be boolean)"
   ]
  },
  {
   "cell_type": "code",
   "execution_count": 5,
   "metadata": {},
   "outputs": [
    {
     "name": "stdout",
     "output_type": "stream",
     "text": [
      "Solution : \n",
      "\t Comparison Operators on Float\n",
      "Value of variable 'num7'                                        : 50.56\n",
      "Value of variable 'num8'                                        : 112.87\n",
      "Greater than comparison on variables 'num7' & 'num8             : num7 >  num8 =  False\n",
      "Smaller than comparison on variables 'num7' & 'num8             : num7 <  num8 =  True\n",
      "Greater than or equal to comparison on variables 'num7' & 'num8 : num7 >= num8 =  False\n",
      "Smaller than or equal to comparison on variables 'num7' & 'num8 : num7 <= num8 =  True\n"
     ]
    }
   ],
   "source": [
    "#Solution :    \n",
    "print(\"Solution : \")\n",
    "print(\"\\t Comparison Operators on Float\")\n",
    "\n",
    "#Float variable declaration\n",
    "num7 = 50.56\n",
    "print(\"Value of variable 'num7'                                        :\", num7)\n",
    "num8 = 112.87\n",
    "print(\"Value of variable 'num8'                                        :\", num8)\n",
    "\n",
    "#Greater than comparison on declared float variables\n",
    "print(\"Greater than comparison on variables 'num7' & 'num8             : num7 >  num8 = \", num7 > num8)\n",
    "\n",
    "#Smaller than comparison on declared float variables\n",
    "print(\"Smaller than comparison on variables 'num7' & 'num8             : num7 <  num8 = \", num7 < num8)\n",
    "\n",
    "#Greater than or equal to comparison on declared float variables\n",
    "print(\"Greater than or equal to comparison on variables 'num7' & 'num8 : num7 >= num8 = \", num7 >= num8)\n",
    "\n",
    "#Smaller than or equal to comparison on declared float variables\n",
    "print(\"Smaller than or equal to comparison on variables 'num7' & 'num8 : num7 <= num8 = \", num7 <= num8)"
   ]
  },
  {
   "cell_type": "code",
   "execution_count": null,
   "metadata": {
    "colab": {},
    "colab_type": "code",
    "id": "agi3U3863A5i"
   },
   "outputs": [],
   "source": [
    "#Equality Operator\n",
    "#Take two different float values.\n",
    "#Store them in two different variables.\n",
    "\n",
    "#Equuate them using equality operator (==, !=)\n",
    "\n",
    "#Observe the output(return type should be boolean)"
   ]
  },
  {
   "cell_type": "code",
   "execution_count": 6,
   "metadata": {},
   "outputs": [
    {
     "name": "stdout",
     "output_type": "stream",
     "text": [
      "Solution : \n",
      "\t Equality Operator on Float\n",
      "Value of variable 'num9'                              :  22.54\n",
      "Value of variable 'num10'                             :  44.44\n",
      "Equal to Equal operator on variables 'num9' & 'num10  : num9 ==  num10 =  False\n",
      "Not Equal to operator on variables 'num9' & 'num10    : num9 !=  num10 =  True\n"
     ]
    }
   ],
   "source": [
    "#Solution :    \n",
    "print(\"Solution : \")\n",
    "print(\"\\t Equality Operator on Float\")\n",
    "\n",
    "#Float variable declaration\n",
    "num9 = 22.54\n",
    "print(\"Value of variable 'num9'                              : \", num9)\n",
    "num10 = 44.44\n",
    "print(\"Value of variable 'num10'                             : \", num10)\n",
    "\n",
    "#Equal to Equal operator on declared float variables\n",
    "print(\"Equal to Equal operator on variables 'num9' & 'num10  : num9 ==  num10 = \", num9 == num10)\n",
    "\n",
    "#Not Equal to operator on declared float variables\n",
    "print(\"Not Equal to operator on variables 'num9' & 'num10    : num9 !=  num10 = \", num9 != num10)"
   ]
  },
  {
   "cell_type": "code",
   "execution_count": null,
   "metadata": {
    "colab": {},
    "colab_type": "code",
    "id": "3HLlgaEt3EnJ"
   },
   "outputs": [],
   "source": [
    "#Logical operators\n",
    "#Observe the output of below code\n",
    "#Cross check the output manually\n",
    "\n",
    "print(10.20 and 20.30)       #both are true and second value taken >Output is 20.3\n",
    "print(0.0 and 20.30)         #First is false so first value taken->Output is 0.0\n",
    "print(20.30 and 0.0)         #Goes to till second and second value is false so second is taken>Output is 0.0\n",
    "print(0.0 and 0.0)           #First is false so first value is taken->Output is 0.0\n",
    "\n",
    "print(10.20 or 20.30)        #First is True so first value is taken>Output is 10.2\n",
    "print(0.0 or 20.30)          #Goes to till second and second is true second value is taken->Output is 20.3\n",
    "print(20.30 or 0.0)          #First is True so first value is taken->Output is 20.3\n",
    "print(0.0 or 0.0)            #Goes to till second and secod is also false and second value is taken>Output is 0.0\n",
    "\n",
    "print(not 10.20)             #-Not of true is false->Output is False\n",
    "print(not 0.0)               #Not of false is True>Output is True"
   ]
  },
  {
   "cell_type": "code",
   "execution_count": 8,
   "metadata": {},
   "outputs": [
    {
     "name": "stdout",
     "output_type": "stream",
     "text": [
      "Solution : \n",
      "\t Logical Operator on Float\n",
      "'and' Operator on float values\n",
      "Reason : Below operations follows the funtional definition 'A and B returns A if A is False else B'. \n",
      " \t According to this 'and' operator evaluates first condition/value, if it is False it will return False without evalauting the second condition/value. If first condition is True, then it will evaluate the second condtion/value then the returns the result.\n",
      "10.20 and 20.30 :  20.3\n",
      "0.0   and 20.30 :  0.0\n",
      "20.30 and 0.0   :  0.0\n",
      "0.0   and 0.0   :  0.0\n",
      "\n",
      "'or' Operator on float values\n",
      "Reason : Below operations follows the funtional definition 'A or B returns A if A is True else B'. \n",
      " \t According to this 'or' operator evaluates first condition/value, if it is True it will return True without evalauting the second condition/value. If first condition is False, then it will evaluate the second condtion/value then the returns the result.\n",
      "10.20 or 20.30  :  10.2\n",
      "0.0   or 20.30  :  20.3\n",
      "20.30 or 0.0    :  20.3\n",
      "0.0   or 0.0    :  0.0\n",
      "\n",
      "'not' Operator on float values\n",
      "Reason : Below operations follows the funtional definition 'not A returns False if A is True else True'. \n",
      " \t According to this 'not' operator evaluates the condition/value, if it results True it will return False and if it results False, it will return True.\n",
      "not 10.20    :  False\n",
      "not 0.0      :  True\n"
     ]
    }
   ],
   "source": [
    "#Solution :    \n",
    "print(\"Solution : \")\n",
    "print(\"\\t Logical Operator on Float\")\n",
    "\n",
    "#and Operator on float values\n",
    "print(\"'and' Operator on float values\")\n",
    "print(\"Reason : Below operations follows the funtional definition 'A and B returns A if A is False else B'. \\n \\t According to this 'and' operator evaluates first condition/value, if it is False it will return False without evalauting the second condition/value. If first condition is True, then it will evaluate the second condtion/value then the returns the result.\")\n",
    "print(\"10.20 and 20.30 : \", 10.20 and 20.30)\n",
    "print(\"0.0   and 20.30 : \", 0.0 and 20.30)\n",
    "print(\"20.30 and 0.0   : \", 20.30 and 0.0)\n",
    "print(\"0.0   and 0.0   : \", 0.0 and 0.0)\n",
    "\n",
    "print()\n",
    "#or Operator on float values\n",
    "print(\"'or' Operator on float values\")\n",
    "print(\"Reason : Below operations follows the funtional definition 'A or B returns A if A is True else B'. \\n \\t According to this 'or' operator evaluates first condition/value, if it is True it will return True without evalauting the second condition/value. If first condition is False, then it will evaluate the second condtion/value then the returns the result.\")\n",
    "print(\"10.20 or 20.30  : \", 10.20 or 20.30)\n",
    "print(\"0.0   or 20.30  : \", 0.0 or 20.30)\n",
    "print(\"20.30 or 0.0    : \", 20.30 or 0.0)\n",
    "print(\"0.0   or 0.0    : \", 0.0 or 0.0)\n",
    "\n",
    "print()\n",
    "#not Operator on float values\n",
    "print(\"'not' Operator on float values\")\n",
    "print(\"Reason : Below operations follows the funtional definition 'not A returns False if A is True else True'. \\n \\t According to this 'not' operator evaluates the condition/value, if it results True it will return False and if it results False, it will return True.\")\n",
    "print(\"not 10.20    : \", not 10.20)\n",
    "print(\"not 0.0      : \", not 0.0)"
   ]
  },
  {
   "cell_type": "code",
   "execution_count": 24,
   "metadata": {
    "colab": {},
    "colab_type": "code",
    "id": "7YdyRNtk3UZd"
   },
   "outputs": [],
   "source": [
    "#What is the output of expression inside print statement. Cross check before running the program.\n",
    "a = 10.20\n",
    "b - 10.20\n",
    "print(a is b)          #True or False? True 10.20<256\n",
    "print(a is not b)      #True or False? False\n",
    "\n",
    "\n",
    "# Why the Id of float values are different when the same value is assigned to two different variables\n",
    "# ex: a = 10.5 b=10.5. but id will be same if I assign the variable having float i.e. a=c then both a anc c's\n",
    "# Id are same"
   ]
  },
  {
   "cell_type": "code",
   "execution_count": 71,
   "metadata": {},
   "outputs": [
    {
     "name": "stdout",
     "output_type": "stream",
     "text": [
      "Solution : \n",
      "\t Identity Operator on Float\n",
      "Solution A : \n",
      "\n",
      "Value of variable 'a' :  10.2\n",
      "Value of variable 'b' :  10.2\n",
      "'a is b' will result as 'False'\n",
      "'a is not b' will result as 'True'\n",
      "Reason : Python does not creates only reference for float variables/values. it creates a new object and reference for every float varaibles though they are having same values. Reusing memory to refer the existing value will not happen for float datatype. So, Id's of a and b are different therefore 'a is b' results False and 'a is not b' results True.\n",
      "ID of variable 'a'    :  2406427840112\n",
      "ID of variable 'b'    :  2406427837232\n",
      "a is b                :  False\n",
      "a is not b            :  True\n",
      "\n",
      "Solution B : \n",
      "\n",
      "Value of variable 'a' :  10.5\n",
      "Value of variable 'b' :  10.5\n",
      "Value of variable 'c' :  10.5\n",
      "'a is c' will result as 'True'\n",
      "'a is not c' will result as 'False'\n",
      "Reason : During the assignment of a to variable c, Pyhton does not allocate separate memory for c. Instead it uses the exisiting reference/object of a and assigned it to c. So, the Id's of a and c are same therefore 'a is b' results True and 'a is not b' results False.\n",
      "ID of variable 'a'    :  2406427837104\n",
      "ID of variable 'b'    :  2406427838640\n",
      "ID of variable 'c'    :  2406427837104\n",
      "a is c                :  True\n",
      "a is not c            :  False\n"
     ]
    }
   ],
   "source": [
    "#Solution :  \n",
    "print(\"Solution : \")\n",
    "print(\"\\t Identity Operator on Float\")\n",
    "print(\"Solution A : \")\n",
    "\n",
    "#Float variable declaration\n",
    "print()\n",
    "a = 10.20\n",
    "print(\"Value of variable 'a' : \", a)\n",
    "b = 10.20\n",
    "print(\"Value of variable 'b' : \", b)\n",
    "\n",
    "print(\"'a is b' will result as 'False'\")\n",
    "print(\"'a is not b' will result as 'True'\")\n",
    "print(\"Reason : Python does not creates only reference for float variables/values. it creates a new object and reference for every float variables though they are having same values. Reusing memory to refer the existing value will not happen for float datatype. So, Id's of a and b are different therefore 'a is b' results False and 'a is not b' results True.\")\n",
    "\n",
    "#Id of declared float variables\n",
    "print(\"ID of variable 'a'    : \", id(a))\n",
    "print(\"ID of variable 'b'    : \", id(b))\n",
    "print(\"a is b                : \", a is b)\n",
    "print(\"a is not b            : \", a is not b)\n",
    "\n",
    "print()\n",
    "print(\"Solution B : \")\n",
    "\n",
    "#Float variable declaration\n",
    "print()\n",
    "a = 10.5\n",
    "print(\"Value of variable 'a' : \", a)\n",
    "b = 10.5\n",
    "print(\"Value of variable 'b' : \", b)\n",
    "\n",
    "#Assigning the value of a to c\n",
    "c=a\n",
    "print(\"Value of variable 'c' : \", c)\n",
    "\n",
    "print(\"'a is c' will result as 'True'\")\n",
    "print(\"'a is not c' will result as 'False'\")\n",
    "print(\"Reason : During the assignment of a to variable c, Pyhton does not allocate separate memory for c. Instead it uses the exisiting reference/object of a and assigned it to c. So, the Id's of a and c are same therefore 'a is b' results True and 'a is not b' results False.\")\n",
    "\n",
    "#Id of declared float variables\n",
    "print(\"ID of variable 'a'    : \", id(a))\n",
    "print(\"ID of variable 'b'    : \", id(b))\n",
    "print(\"ID of variable 'c'    : \", id(c))\n",
    "print(\"a is c                : \", a is c)\n",
    "print(\"a is not c            : \", a is not c)"
   ]
  },
  {
   "cell_type": "code",
   "execution_count": null,
   "metadata": {
    "colab": {},
    "colab_type": "code",
    "id": "iTvnIMLd3VLW"
   },
   "outputs": [],
   "source": [
    "#Bitwise operation is not applicable between instances of float.\n",
    "## Why the Id of float values are different when the same value is assigned to two different variables\n",
    "## ex: a = 10.5 b=10.5. but id will be same if I assign the variable having float i.e. a=c then both a anc c's\n",
    "## Id are same\n",
    "#Object reusability concept is not applicable on float values."
   ]
  },
  {
   "cell_type": "code",
   "execution_count": 72,
   "metadata": {},
   "outputs": [
    {
     "name": "stdout",
     "output_type": "stream",
     "text": [
      "Solution A : \n",
      "\t Bitwise operation is not applicable between instances of float\n",
      "Reason : Convertion of float value into binary format cannot be supported by Python. The execution of below line will give error as ''float' object cannot be interpreted as an integer'.\n",
      "print(bin(10.23))\n",
      "Since the binary conversion of float values can give only the approximate value in 32/64 bits, there will some minimal difference from the original decimal value. There will be error in exponent bits which are reserved in 32/64 bit system while storing the binary form of float values. So, Bitwise operations are not applicable for float instance since these operation deals with binary format and shifting of bits to give the results.\n",
      "\n",
      "Solution B : \n",
      "\t Different Id's for same float values assigned to different variables\n",
      "\n",
      "Value of variable 'a' :  10.2\n",
      "Value of variable 'b' :  10.2\n",
      "'a is b' will result as 'False'\n",
      "'a is not b' will result as 'True'\n",
      "Reason : Python does not creates only reference for float variables/values. it creates a new object and reference for every float varaibles though they are having same values. Reusing memory to refer the existing value will not happen for float datatype. So, Id's of a and b are different therefore 'a is b' results False and 'a is not b' results True.\n",
      "ID of variable 'a'    :  2406427837872\n",
      "ID of variable 'b'    :  2406427839856\n",
      "a is b                :  False\n",
      "a is not b            :  True\n",
      "\n",
      "Solution C : \n",
      "\t Same Id's if float value assigned from one varaible to another variable\n",
      "\n",
      "Value of variable 'a' :  10.5\n",
      "Value of variable 'b' :  10.5\n",
      "Value of variable 'c' :  10.5\n",
      "'a is c' will result as 'True'\n",
      "'a is not c' will result as 'False'\n",
      "Reason : During the assignment of a to variable c, Pyhton does not allocate separate memory for c. Instead it uses the exisiting reference/object of a and assigned it to c. So, the Id's of a and c are same therefore 'a is b' results True and 'a is not b' results False.\n",
      "ID of variable 'a'    :  2406427840112\n",
      "ID of variable 'b'    :  2406427838896\n",
      "ID of variable 'c'    :  2406427840112\n",
      "a is c                :  True\n",
      "a is not c            :  False\n",
      "\n",
      "Solution D : \n",
      "\t Object reusability concept is not applicable on float values\n",
      "Reason : Reason : Python does not creates only reference for float variables/values. it creates a new object and reference for every float varaibles though they are having same values. Reusing memory to refer the existing value will not happen for float datatype. So, Object reusability concept is not applicable on float values.\n"
     ]
    }
   ],
   "source": [
    "#Solution :  \n",
    "\n",
    "#Bitwise operation is not applicable between instances of float\n",
    "print(\"Solution A : \")\n",
    "print(\"\\t Bitwise operation is not applicable between instances of float\")\n",
    "print(\"Reason : Convertion of float value into binary format cannot be supported by Python. The execution of below line will give error as ''float' object cannot be interpreted as an integer'.\")\n",
    "#print(bin(10.23))\n",
    "print(\"print(bin(10.23))\")\n",
    "print(\"Since the binary conversion of float values can give only the approximate value in 32/64 bits, there will some minimal difference from the original decimal value. There will be error in exponent bits which are reserved in 32/64 bit system while storing the binary form of float values. So, Bitwise operations are not applicable for float instance since these operation deals with binary format and shifting of bits to give the results.\")\n",
    "\n",
    "#Different Id's for same float values assigned to different variables\n",
    "print()\n",
    "print(\"Solution B : \")\n",
    "print(\"\\t Different Id's for same float values assigned to different variables\")\n",
    "\n",
    "#Float variable declaration\n",
    "print()\n",
    "a = 10.20\n",
    "print(\"Value of variable 'a' : \", a)\n",
    "b = 10.20\n",
    "print(\"Value of variable 'b' : \", b)\n",
    "\n",
    "print(\"'a is b' will result as 'False'\")\n",
    "print(\"'a is not b' will result as 'True'\")\n",
    "print(\"Reason : Python does not creates only reference for float variables/values. it creates a new object and reference for every float variables though they are having same values. Reusing memory to refer the existing value will not happen for float datatype. So, Id's of a and b are different therefore 'a is b' results False and 'a is not b' results True.\")\n",
    "\n",
    "#Id of declared float variables\n",
    "print(\"ID of variable 'a'    : \", id(a))\n",
    "print(\"ID of variable 'b'    : \", id(b))\n",
    "print(\"a is b                : \", a is b)\n",
    "print(\"a is not b            : \", a is not b)\n",
    "\n",
    "#Same Id's if float value assigned from one varaible to another variable\n",
    "print()\n",
    "print(\"Solution C : \")\n",
    "print(\"\\t Same Id's if float value assigned from one varaible to another variable\")\n",
    "\n",
    "#Float variable declaration\n",
    "print()\n",
    "a = 10.5\n",
    "print(\"Value of variable 'a' : \", a)\n",
    "b = 10.5\n",
    "print(\"Value of variable 'b' : \", b)\n",
    "\n",
    "#Assigning the value of a to c\n",
    "c=a\n",
    "print(\"Value of variable 'c' : \", c)\n",
    "\n",
    "print(\"'a is c' will result as 'True'\")\n",
    "print(\"'a is not c' will result as 'False'\")\n",
    "print(\"Reason : During the assignment of a to variable c, Pyhton does not allocate separate memory for c. Instead it uses the exisiting reference/object of a and assigned it to c. So, the Id's of a and c are same therefore 'a is b' results True and 'a is not b' results False.\")\n",
    "\n",
    "#Id of declared float variables\n",
    "print(\"ID of variable 'a'    : \", id(a))\n",
    "print(\"ID of variable 'b'    : \", id(b))\n",
    "print(\"ID of variable 'c'    : \", id(c))\n",
    "print(\"a is c                : \", a is c)\n",
    "print(\"a is not c            : \", a is not c)\n",
    "\n",
    "#Object reusability concept is not applicable on float values\n",
    "print()\n",
    "print(\"Solution D : \")\n",
    "print(\"\\t Object reusability concept is not applicable on float values\")\n",
    "print(\"Reason : Reason : Python does not creates only reference for float variables/values. it creates a new object and reference for every float variables though they are having same values. Reusing memory to refer the existing value will not happen for float datatype. So, Object reusability concept is not applicable on float values.\")"
   ]
  },
  {
   "cell_type": "code",
   "execution_count": 74,
   "metadata": {
    "colab": {},
    "colab_type": "code",
    "id": "29AVJHpx3YUo"
   },
   "outputs": [],
   "source": [
    "#Membership operation\n",
    "#in, not in are two membership operators and it returns boolean value\n",
    "\n",
    "print('2.7' in 'Python2.7.8')              #True\n",
    "print(10.20 in [10,10.20,10+20j,'Python']) #True\n",
    "print(10.20 in (10,10.20,10+20j,'Python')) # True\n",
    "print(20.30 in {1,20.30,30+40j})           # True\n",
    "print(2.3 in {1:100, 2.3:200, 30+40j:300}) # True\n",
    "print(10 in range(20))                     # True"
   ]
  },
  {
   "cell_type": "code",
   "execution_count": 83,
   "metadata": {},
   "outputs": [
    {
     "name": "stdout",
     "output_type": "stream",
     "text": [
      "Solution :\n",
      "\t Membership Operator in Float values\n",
      "'2.7' in 'Python2.7.8'               - It will return True since 'Python2.7.8' contains 2.7'       -  True\n",
      "10.20 in [10,10.20,10+20j,'Python']  - It will return True since the given list contains 10.20     -  True\n",
      "10.20 in (10,10.20,10+20j,'Python')  - It will return True since the given tuple contains 10.20    -  True\n",
      "20.30 in {1,20.30,30+40j}            - It will return True since the given set contains 20.30      -  True\n",
      "2.3 in {1:100, 2.3:200, 30+40j:300}  - It will return True since the given dictionary contains 2.3 -  True\n",
      "10 in range(20)                      - It will return True since the given ranges contains 10      -  True\n"
     ]
    }
   ],
   "source": [
    "#Solution\n",
    "print(\"Solution :\")\n",
    "print(\"\\t Membership Operator in Float values\")\n",
    "\n",
    "#Results\n",
    "print(\"'2.7' in 'Python2.7.8'               - It will return True since 'Python2.7.8' contains 2.7'       - \",'2.7' in 'Python2.7.8')              \n",
    "print(\"10.20 in [10,10.20,10+20j,'Python']  - It will return True since the given list contains 10.20     - \",10.20 in [10,10.20,10+20j,'Python']) \n",
    "print(\"10.20 in (10,10.20,10+20j,'Python')  - It will return True since the given tuple contains 10.20    - \",10.20 in (10,10.20,10+20j,'Python'))\n",
    "print(\"20.30 in {1,20.30,30+40j}            - It will return True since the given set contains 20.30      - \",20.30 in {1,20.30,30+40j})           \n",
    "print(\"2.3 in {1:100, 2.3:200, 30+40j:300}  - It will return True since the given dictionary contains 2.3 - \",2.3 in {1:100, 2.3:200, 30+40j:300}) \n",
    "print(\"10 in range(20)                      - It will return True since the given ranges contains 10      - \",10 in range(20))                     "
   ]
  }
 ],
 "metadata": {
  "colab": {
   "name": "float_assignment.ipynb",
   "provenance": []
  },
  "kernelspec": {
   "display_name": "Python 3",
   "language": "python",
   "name": "python3"
  },
  "language_info": {
   "codemirror_mode": {
    "name": "ipython",
    "version": 3
   },
   "file_extension": ".py",
   "mimetype": "text/x-python",
   "name": "python",
   "nbconvert_exporter": "python",
   "pygments_lexer": "ipython3",
   "version": "3.8.3"
  }
 },
 "nbformat": 4,
 "nbformat_minor": 1
}
