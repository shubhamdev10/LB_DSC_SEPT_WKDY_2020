{
 "cells": [
  {
   "cell_type": "markdown",
   "metadata": {},
   "source": [
    "# Assignment 1 - 08th September 2020 - Boolean"
   ]
  },
  {
   "cell_type": "code",
   "execution_count": null,
   "metadata": {
    "colab": {},
    "colab_type": "code",
    "id": "7JIFn6BP4M0R"
   },
   "outputs": [],
   "source": [
    "#Declare a boolean value and store it in a variable. \n",
    "#Check the type and print the id of the same."
   ]
  },
  {
   "cell_type": "code",
   "execution_count": 1,
   "metadata": {},
   "outputs": [
    {
     "name": "stdout",
     "output_type": "stream",
     "text": [
      "Solution : \n",
      "\t Boolean Variable Declaration, Type Check and Id\n",
      "Value of variable 'value1' :  True\n",
      "Type of variable 'value1'  :  <class 'bool'>\n",
      "ID of variable 'value1'    :  140718394238800\n"
     ]
    }
   ],
   "source": [
    "#Solution:\n",
    "#Boolean variable declaration\n",
    "print(\"Solution : \")\n",
    "print(\"\\t Boolean Variable Declaration, Type Check and Id\")\n",
    "value1 = True;\n",
    "print(\"Value of variable 'value1' : \", value1)\n",
    "\n",
    "#Type Check\n",
    "print(\"Type of variable 'value1'  : \", type(value1))\n",
    "\n",
    "#Id of declared boolean variable\n",
    "print(\"ID of variable 'value1'    : \", id(value1))"
   ]
  },
  {
   "cell_type": "code",
   "execution_count": null,
   "metadata": {
    "colab": {},
    "colab_type": "code",
    "id": "o9bjjhN64kAP"
   },
   "outputs": [],
   "source": [
    "#Take one boolean value between 0 - 256.\n",
    "#Assign it to two different variables.\n",
    "#Check the id of both the variables. It should come same. Check why?"
   ]
  },
  {
   "cell_type": "code",
   "execution_count": 23,
   "metadata": {},
   "outputs": [
    {
     "name": "stdout",
     "output_type": "stream",
     "text": [
      "Solution : \n",
      "\t Identity Operator on Boolean\n",
      "Solution : \n",
      "\n",
      "Value of variable 'a' :  True\n",
      "Value of variable 'b' :  True\n",
      "'a is b' will result as 'True'\n",
      "'a is not b' will result as 'False'\n",
      "Reason : Python, only creates new reference for already exiting value/object within the range according to their variable datatype. For given boolean variables the values are True and False. Here, the Id's of a and b are same as only new references were created so 'a is b' results True and 'a is not b' results False.\n",
      "ID of variable 'a'    :  140710087485264\n",
      "ID of variable 'b'    :  140710087485264\n",
      "a is b                :  True\n",
      "a is not b            :  False\n"
     ]
    }
   ],
   "source": [
    "#Solution :  \n",
    "print(\"Solution : \")\n",
    "print(\"\\t Identity Operator on Boolean\")\n",
    "print(\"Solution : \")\n",
    "\n",
    "#Boolean variable declaration\n",
    "print()\n",
    "a = True\n",
    "print(\"Value of variable 'a' : \", a)\n",
    "b = True\n",
    "print(\"Value of variable 'b' : \", b)\n",
    "\n",
    "print(\"'a is b' will result as 'True'\")\n",
    "print(\"'a is not b' will result as 'False'\")\n",
    "print(\"Reason : Python, only creates new reference for already exiting value/object within the range according to their variable datatype. For given boolean variables the values are True and False. Here, the Id's of a and b are same as only new references were created so 'a is b' results True and 'a is not b' results False.\")\n",
    "\n",
    "#Id of declared boolean variables\n",
    "print(\"ID of variable 'a'    : \", id(a))\n",
    "print(\"ID of variable 'b'    : \", id(b))\n",
    "print(\"a is b                : \", a is b)\n",
    "print(\"a is not b            : \", a is not b)"
   ]
  },
  {
   "cell_type": "code",
   "execution_count": null,
   "metadata": {
    "colab": {},
    "colab_type": "code",
    "id": "yr4ETGSf4l5y"
   },
   "outputs": [],
   "source": [
    "#Arithmatic Operations on boolean data\n",
    "#Take two different boolean values.\n",
    "#Store them in two different variables.\n",
    "\n",
    "#Do below operations on them:-\n",
    "    #Find sum of both values \n",
    "    #Find differce between them\n",
    "    #Find the product of both.\n",
    "    #Find value after dividing first value with second value\n",
    "    #Find the remainder after dividing first value with second value\n",
    "    #Find the quotient after dividing first value with second value\n",
    "    #Find the result of first value to the power of second value.    "
   ]
  },
  {
   "cell_type": "code",
   "execution_count": 19,
   "metadata": {},
   "outputs": [
    {
     "name": "stdout",
     "output_type": "stream",
     "text": [
      "Solution : \n",
      "\t Arithmetic Operations on Boolean\n",
      "Value of variable 'value1'                                   :  False\n",
      "Value of variable 'value2'                                   :  True\n",
      "Sum of variables 'value1' & 'value2'                         : value1 +  value2 =  1\n",
      "Difference of variables 'value1' & 'value2'                  : value1 -  value2 =  -1\n",
      "Product of variables 'value1' & 'value2'                     : value1 *  value2 =  0\n",
      "Division of variables 'value1' & 'value2'                    : value1 /  value2 =  0.0\n",
      "Remainder after division for variables 'value1' & 'value2'   : value1 %  value2 =  0\n",
      "Quotient after division for variables 'value1' & 'value2'    : value1 // value2 =  0\n",
      "Power function in variables 'value1' & 'value2'              : value1 ** value2 =  0\n"
     ]
    }
   ],
   "source": [
    "#Solution :    \n",
    "print(\"Solution : \")\n",
    "print(\"\\t Arithmetic Operations on Boolean\")\n",
    "\n",
    "#Boolean variable declaration\n",
    "value1 = False\n",
    "print(\"Value of variable 'value1'                                   : \", value1)\n",
    "value2 = True\n",
    "print(\"Value of variable 'value2'                                   : \", value2)\n",
    "\n",
    "#Sum of declared boolean variables\n",
    "print(\"Sum of variables 'value1' & 'value2'                         : value1 +  value2 = \", value1 + value2)\n",
    "\n",
    "#Difference of declared boolean variables\n",
    "print(\"Difference of variables 'value1' & 'value2'                  : value1 -  value2 = \", value1 - value2)\n",
    "\n",
    "#Product of declared boolean variables\n",
    "print(\"Product of variables 'value1' & 'value2'                     : value1 *  value2 = \", value1 * value2)\n",
    "\n",
    "#Division of declared boolean variables\n",
    "print(\"Division of variables 'value1' & 'value2'                    : value1 /  value2 = \", value1 / value2)\n",
    "\n",
    "#Remainder after division for declared boolean variables\n",
    "print(\"Remainder after division for variables 'value1' & 'value2'   : value1 %  value2 = \", value1 % value2)\n",
    "\n",
    "#Quotient after division for declared boolean variables\n",
    "print(\"Quotient after division for variables 'value1' & 'value2'    : value1 // value2 = \", value1 // value2)\n",
    "\n",
    "#Power function in declared boolean variables\n",
    "print(\"Power function in variables 'value1' & 'value2'              : value1 ** value2 = \", value1 ** value2)"
   ]
  },
  {
   "cell_type": "code",
   "execution_count": null,
   "metadata": {
    "colab": {},
    "colab_type": "code",
    "id": "xG4mX84E4n2O"
   },
   "outputs": [],
   "source": [
    "#Comparison Operators on boolean values\n",
    "#Take two different boolean values.\n",
    "#Store them in two different variables.\n",
    "\n",
    "#Do below operations on them:-\n",
    "    #Compare these two values with below operator:-\n",
    "        #Greater than, '>'\n",
    "        #less than, '<'\n",
    "        #Greater than or equal to, '>='\n",
    "        #Less than or equal to, '<='    \n",
    "#Observe their output(return type should be boolean)"
   ]
  },
  {
   "cell_type": "code",
   "execution_count": 17,
   "metadata": {},
   "outputs": [
    {
     "name": "stdout",
     "output_type": "stream",
     "text": [
      "Solution : \n",
      "\t Comparison Operators on Boolean\n",
      "Value of variable 'value1'                                          :  True\n",
      "Value of variable 'value2'                                          :  False\n",
      "Greater than comparison on variables 'value1' & 'value2             : value1 >  value2 =  True\n",
      "Smaller than comparison on variables 'value1' & 'value2             : value1 <  value2 =  False\n",
      "Greater than or equal to comparison on variables 'value1' & 'value2 : value1 >= value2 =  True\n",
      "Smaller than or equal to comparison on variables 'value1' & 'value2 : value1 <= value2 =  False\n"
     ]
    }
   ],
   "source": [
    "#Solution :    \n",
    "print(\"Solution : \")\n",
    "print(\"\\t Comparison Operators on Boolean\")\n",
    "\n",
    "#Boolean variable declaration\n",
    "value1 = True\n",
    "print(\"Value of variable 'value1'                                          : \", value1)\n",
    "value2 = False\n",
    "print(\"Value of variable 'value2'                                          : \", value2)\n",
    "\n",
    "#Greater than comparison on declared boolean variables\n",
    "print(\"Greater than comparison on variables 'value1' & 'value2             : value1 >  value2 = \", value1 > value2)\n",
    "\n",
    "#Smaller than comparison on declared boolean variables\n",
    "print(\"Smaller than comparison on variables 'value1' & 'value2             : value1 <  value2 = \", value1 < value2)\n",
    "\n",
    "#Greater than or equal to comparison on declared boolean variables\n",
    "print(\"Greater than or equal to comparison on variables 'value1' & 'value2 : value1 >= value2 = \", value1 >= value2)\n",
    "\n",
    "#Smaller than or equal to comparison on declared boolean variables\n",
    "print(\"Smaller than or equal to comparison on variables 'value1' & 'value2 : value1 <= value2 = \", value1 <= value2)"
   ]
  },
  {
   "cell_type": "code",
   "execution_count": null,
   "metadata": {
    "colab": {},
    "colab_type": "code",
    "id": "TUIo2Z9V4qBJ"
   },
   "outputs": [],
   "source": [
    "#Equality Operator\n",
    "#Take two different boolean values.\n",
    "#Store them in two different variables.\n",
    "#Equuate them using equality operator (==, !=)\n",
    "#Observe the output(return type should be boolean)"
   ]
  },
  {
   "cell_type": "code",
   "execution_count": 16,
   "metadata": {},
   "outputs": [
    {
     "name": "stdout",
     "output_type": "stream",
     "text": [
      "Solution : \n",
      "\t Equality Operator on Boolean\n",
      "Value of variable 'value1'                              :  True\n",
      "Value of variable 'value2'                              :  False\n",
      "Equal to Equal operator on variables 'value1' & 'value2 : value1 ==  value2 =  False\n",
      "Not Equal to operator on variables 'value1' & 'value2   : value1 !=  value2 =  True\n"
     ]
    }
   ],
   "source": [
    "#Solution :    \n",
    "print(\"Solution : \")\n",
    "print(\"\\t Equality Operator on Boolean\")\n",
    "\n",
    "#Boolean variable declaration\n",
    "value1 = True\n",
    "print(\"Value of variable 'value1'                              : \", value1)\n",
    "value2 = False\n",
    "print(\"Value of variable 'value2'                              : \", value2)\n",
    "\n",
    "#Equal to Equal operator on declared boolean variables\n",
    "print(\"Equal to Equal operator on variables 'value1' & 'value2 : value1 ==  value2 = \", value1 == value2)\n",
    "\n",
    "#Not Equal to operator on declared boolean variables\n",
    "print(\"Not Equal to operator on variables 'value1' & 'value2   : value1 !=  value2 = \", value1 != value2)"
   ]
  },
  {
   "cell_type": "code",
   "execution_count": null,
   "metadata": {
    "colab": {},
    "colab_type": "code",
    "id": "XukEq5E44rxv"
   },
   "outputs": [],
   "source": [
    "#Logical operators\n",
    "#Observe the output of below code\n",
    "#Cross check the output manually\n",
    "\n",
    "print(True and True)        #----------------------------------------->Output is True\n",
    "print(False and True)        #----------------------------------------->Output is False\n",
    "print(True and False)        #----------------------------------------->Output is False\n",
    "print(False and False)       #----------------------------------------->Output is False\n",
    "\n",
    "print(True or True)          #----------------------------------------->Output is True\n",
    "print(False or True)         #----------------------------------------->Output is True\n",
    "print(True or False)         #----------------------------------------->Output is True\n",
    "print(False or False)        #----------------------------------------->Output is False\n",
    "\n",
    "print(not True)              #----------------------------------------->Output is False\n",
    "print(not False)             #----------------------------------------->Output is True"
   ]
  },
  {
   "cell_type": "code",
   "execution_count": 15,
   "metadata": {},
   "outputs": [
    {
     "name": "stdout",
     "output_type": "stream",
     "text": [
      "Solution : \n",
      "\t Logical Operator on Boolean\n",
      "'and' Operator on boolean values\n",
      "Reason : Below operations follows the funtional definition 'A and B returns A if A is False else B'. \n",
      " \t According to this 'and' operator evaluates first condition/value, if it is False it will return False without evalauting the second condition/value. If first condition is True, then it will evaluate the second condtion/value then the returns the result.\n",
      "True and True   :  True\n",
      "False and True  :  False\n",
      "True and False  :  False\n",
      "False and False :  False\n",
      "\n",
      "'or' Operator on boolean values\n",
      "Reason : Below operations follows the funtional definition 'A or B returns A if A is True else B'. \n",
      " \t According to this 'or' operator evaluates first condition/value, if it is True it will return True without evalauting the second condition/value. If first condition is False, then it will evaluate the second condtion/value then the returns the result.\n",
      "True or True    :  True\n",
      "False or True   :  True\n",
      "True or False   :  True\n",
      "False or False  :  False\n",
      "\n",
      "'not' Operator on boolean values\n",
      "Reason : Below operations follows the funtional definition 'not A returns False if A is True else True'. \n",
      " \t According to this 'not' operator evaluates the condition/value, if it results True it will return False and if it results False, it will return True.\n",
      "not True        :  False\n",
      "not False       :  True\n"
     ]
    }
   ],
   "source": [
    "#Solution :    \n",
    "print(\"Solution : \")\n",
    "print(\"\\t Logical Operator on Boolean\")\n",
    "\n",
    "#and Operator on boolean values\n",
    "print(\"'and' Operator on boolean values\")\n",
    "print(\"Reason : Below operations follows the funtional definition 'A and B returns A if A is False else B'. \\n \\t According to this 'and' operator evaluates first condition/value, if it is False it will return False without evalauting the second condition/value. If first condition is True, then it will evaluate the second condtion/value then the returns the result.\")\n",
    "print(\"True and True   : \", True and True)\n",
    "print(\"False and True  : \", False and True)\n",
    "print(\"True and False  : \", True and False)\n",
    "print(\"False and False : \", False and False)\n",
    "\n",
    "print()\n",
    "#or Operator on boolean values\n",
    "print(\"'or' Operator on boolean values\")\n",
    "print(\"Reason : Below operations follows the funtional definition 'A or B returns A if A is True else B'. \\n \\t According to this 'or' operator evaluates first condition/value, if it is True it will return True without evalauting the second condition/value. If first condition is False, then it will evaluate the second condtion/value then the returns the result.\")\n",
    "print(\"True or True    : \", True or True)\n",
    "print(\"False or True   : \", False or True)\n",
    "print(\"True or False   : \", True or False)\n",
    "print(\"False or False  : \", False or False)\n",
    "\n",
    "print()\n",
    "#not Operator on boolean values\n",
    "print(\"'not' Operator on boolean values\")\n",
    "print(\"Reason : Below operations follows the funtional definition 'not A returns False if A is True else True'. \\n \\t According to this 'not' operator evaluates the condition/value, if it results True it will return False and if it results False, it will return True.\")\n",
    "print(\"not True        : \", not True)\n",
    "print(\"not False       : \", not False)"
   ]
  },
  {
   "cell_type": "code",
   "execution_count": null,
   "metadata": {
    "colab": {},
    "colab_type": "code",
    "id": "02jPgt094vK-"
   },
   "outputs": [],
   "source": [
    "#Bitwise Operators\n",
    "#Do below operations on the values provided below:-\n",
    "    #Bitwise and(&) -----------------------------------------> True, True    -------> Output is True\n",
    "    #Bitwise or(|)  -----------------------------------------> True, False   -------> Output is True\n",
    "    #Bitwise(^)     -----------------------------------------> True, False   -------> Output is True\n",
    "    #Bitwise negation(~) ------------------------------------> True          -------> Output is -2\n",
    "    #Bitwise left shift  ------------------------------------> True,2        -------> Output is 4\n",
    "    #Bitwise right shift ------------------------------------> True,2        -------> Output is 0\n",
    "\n",
    "#Cross check the output manually"
   ]
  },
  {
   "cell_type": "code",
   "execution_count": 14,
   "metadata": {},
   "outputs": [
    {
     "name": "stdout",
     "output_type": "stream",
     "text": [
      "Solution : \n",
      "\t Bitwise Operator on Boolean\n",
      "Bitwise 'and' Operator\n",
      "Bitwise 'and' Operator on boolean values True & True     : True & True =  True\n",
      "Reason : Bitwise 'and' returns '1' if both input results '1', else it will return '0'\n",
      "Manual Check : \n",
      "Binary value of True                                     :  0b1\n",
      "Binary value of True                                     :  0b1\n",
      "Bitwise 'and' of True & True in Binary value             :  1\n",
      "Boolean value of '1'                                     :  True\n",
      "Hence Verified\n",
      "\n",
      "Bitwise 'or' Operator\n",
      "Bitwise 'or' Operator on boolean values True | False     : True | False =  True\n",
      "Reason : Bitwise 'or' returns '0' if both input results '0', else it will return '1'\n",
      "Manual Check : \n",
      "Binary value of True                                     :  0b1\n",
      "Binary value of False                                    :  0b0\n",
      "Bitwise 'or' of True & False in Binary value             :  1\n",
      "Boolean value of '1'                                     :  True\n",
      "Hence Verified\n",
      "\n",
      "Bitwise 'xor' Operator\n",
      "Bitwise 'or' Operator on boolean values True | False     : True ^ False =  True\n",
      "Reason : Bitwise 'xor' returns '0' if both inputs are same, else it will return '1'\n",
      "Manual Check : \n",
      "Binary value of True                                     :  0b1\n",
      "Binary value of False                                    :  0b0\n",
      "Bitwise 'xor' of True & False in Binary value            :  1\n",
      "Boolean value of '1'                                     :  True\n",
      "Hence Verified\n",
      "\n",
      "Bitwise 'negation' Operator\n",
      "Bitwise 'negation' Operator on boolean value True        : ~True =  -2\n",
      "Reason : Bitwise 'negation' follows the functional logic ~(value)=-(value+1)\n",
      "Manual Check : \n",
      "-(value + 1)                                             :  -2\n",
      "Hence Verified\n",
      "\n",
      "Bitwise 'left shift' Operator\n",
      "Bitwise 'left shift' Operator on boolean values True << 2: True << 2 =  4\n",
      "Reason : Bitwise 'left shift' converts 10 into binary value then shifts each binary digits two steps left and appends two zeros at right end \n",
      "Manual Check : \n",
      "Binary value of True                                     :  0b1\n",
      "Binary value of True in 32 bits                          :  00000000000000000000000000000001\n",
      "After shifting binary digits two steps left \n",
      "       and appending two zeros at right end              :  00000000000000000000000000000100\n",
      "Binary value of 00000000000000000000000000000100         :  4\n",
      "Hence Verified\n",
      "\n",
      "Bitwise 'right shift' Operator\n",
      "Bitwise 'right shift' Operator on boolean values True >> 2: True >> 2 =  0\n",
      "Reason : Bitwise 'right shift' converts 10 into binary value then shifts each binary digits two steps riht and appends two zeros at left end \n",
      "Manual Check : \n",
      "Binary value of True                                     :  0b1\n",
      "Binary value of True in 32 bits                          :  00000000000000000000000000000001\n",
      "After shifting binary digits two steps left \n",
      "       and appending two zeros at right end                     :  00000000000000000000000000000000\n",
      "Binary value of 00000000000000000000000000000000         :  0\n",
      "Hence Verified\n",
      "\n"
     ]
    }
   ],
   "source": [
    "#Solution :    \n",
    "print(\"Solution : \")\n",
    "print(\"\\t Bitwise Operator on Boolean\")\n",
    "\n",
    "#Bitwise and Operator on boolean values\n",
    "print(\"Bitwise 'and' Operator\")\n",
    "print(\"Bitwise 'and' Operator on boolean values True & True     : True & True = \", True & True)\n",
    "print(\"Reason : Bitwise 'and' returns '1' if both input results '1', else it will return '0'\")\n",
    "print(\"Manual Check : \")\n",
    "print(\"Binary value of True                                     : \", (bin(True)))\n",
    "print(\"Binary value of True                                     : \", (bin(True)))\n",
    "print(\"Bitwise 'and' of True & True in Binary value             :  1\")                         \n",
    "print(\"Boolean value of '1'                                     : \", bool(1))\n",
    "print(\"Hence Verified\")\n",
    "print()\n",
    "\n",
    "#Bitwise or Operator on boolean values\n",
    "print(\"Bitwise 'or' Operator\")\n",
    "print(\"Bitwise 'or' Operator on boolean values True | False     : True | False = \", True | False)\n",
    "print(\"Reason : Bitwise 'or' returns '0' if both input results '0', else it will return '1'\")\n",
    "print(\"Manual Check : \")\n",
    "print(\"Binary value of True                                     : \", (bin(True)))\n",
    "print(\"Binary value of False                                    : \", (bin(False)))\n",
    "print(\"Bitwise 'or' of True & False in Binary value             :  1\")                         \n",
    "print(\"Boolean value of '1'                                     : \", bool(1))\n",
    "print(\"Hence Verified\")\n",
    "print()\n",
    "\n",
    "#Bitwise xor Operator on boolean values\n",
    "print(\"Bitwise 'xor' Operator\")\n",
    "print(\"Bitwise 'or' Operator on boolean values True | False     : True ^ False = \", True ^ False)\n",
    "print(\"Reason : Bitwise 'xor' returns '0' if both inputs are same, else it will return '1'\")\n",
    "print(\"Manual Check : \")\n",
    "print(\"Binary value of True                                     : \", (bin(True)))\n",
    "print(\"Binary value of False                                    : \", (bin(False)))\n",
    "print(\"Bitwise 'xor' of True & False in Binary value            :  1\")                         \n",
    "print(\"Boolean value of '1'                                     : \", bool(1))\n",
    "print(\"Hence Verified\")\n",
    "print()\n",
    "\n",
    "#Bitwise negation Operator on boolean value\n",
    "print(\"Bitwise 'negation' Operator\")\n",
    "print(\"Bitwise 'negation' Operator on boolean value True        : ~True = \", ~True)\n",
    "print(\"Reason : Bitwise 'negation' follows the functional logic ~(value)=-(value+1)\")\n",
    "print(\"Manual Check : \")                    \n",
    "print(\"-(value + 1)                                             : \", -(True + 1))\n",
    "print(\"Hence Verified\")\n",
    "print()\n",
    "\n",
    "#Bitwise left shift Operator on boolean values\n",
    "print(\"Bitwise 'left shift' Operator\")\n",
    "print(\"Bitwise 'left shift' Operator on boolean values True << 2: True << 2 = \", True << 2)\n",
    "print(\"Reason : Bitwise 'left shift' converts 10 into binary value then shifts each binary digits two steps left and appends two zeros at right end \")\n",
    "print(\"Manual Check : \")\n",
    "print(\"Binary value of True                                     : \", (bin(True)))\n",
    "print(\"Binary value of True in 32 bits                          :  00000000000000000000000000000001\")\n",
    "print('''After shifting binary digits two steps left \n",
    "       and appending two zeros at right end              :  00000000000000000000000000000100''')                        \n",
    "print(\"Binary value of 00000000000000000000000000000100         : \", (0b00000000000000000000000000000100))\n",
    "print(\"Hence Verified\")\n",
    "print()\n",
    "\n",
    "#Bitwise right shift Operator on boolean values\n",
    "print(\"Bitwise 'right shift' Operator\")\n",
    "print(\"Bitwise 'right shift' Operator on boolean values True >> 2: True >> 2 = \", True >> 2)\n",
    "print(\"Reason : Bitwise 'right shift' converts 10 into binary value then shifts each binary digits two steps riht and appends two zeros at left end \")\n",
    "print(\"Manual Check : \")\n",
    "print(\"Binary value of True                                     : \", (bin(True)))\n",
    "print(\"Binary value of True in 32 bits                          :  00000000000000000000000000000001\")\n",
    "print('''After shifting binary digits two steps left \n",
    "       and appending two zeros at right end                     :  00000000000000000000000000000000''')                        \n",
    "print(\"Binary value of 00000000000000000000000000000000         : \", (0b00000000000000000000000000000000))\n",
    "print(\"Hence Verified\")\n",
    "print()"
   ]
  },
  {
   "cell_type": "code",
   "execution_count": 2,
   "metadata": {
    "colab": {},
    "colab_type": "code",
    "id": "cy5i7sWz4v_c"
   },
   "outputs": [],
   "source": [
    "#What is the output of expression inside print statement. Cross check before running the program.\n",
    "a = True\n",
    "b = True\n",
    "print(a is b)          #True or False?   #\n",
    "print(a is not b)      #True or False?\n",
    "\n",
    "a = False\n",
    "b = False\n",
    "print(a is b)          #True or False?\n",
    "print(a is not b)      #True or False?"
   ]
  },
  {
   "cell_type": "code",
   "execution_count": 3,
   "metadata": {},
   "outputs": [
    {
     "name": "stdout",
     "output_type": "stream",
     "text": [
      "Solution : \n",
      "\t Identity Operator on Boolean\n",
      "Solution A : \n",
      "\n",
      "Value of variable 'a' :  True\n",
      "Value of variable 'b' :  True\n",
      "'a is b' will result as 'True'\n",
      "'a is not b' will result as 'False'\n",
      "Reason : Python, only creates new reference for already exiting value/object within the range according to their variable datatype. For given boolean variables the values are True and False. Here, the Id's of a and b are same as only new references were created so 'a is b' results True and 'a is not b' results False.\n",
      "ID of variable 'a'    :  140710087485264\n",
      "ID of variable 'b'    :  140710087485264\n",
      "a is b                :  True\n",
      "a is not b            :  False\n",
      "\n",
      "Solution B : \n",
      "\n",
      "Value of variable 'a' :  False\n",
      "Value of variable 'b' :  False\n",
      "'a is b' will result as 'True'\n",
      "'a is not b' will result as 'False'\n",
      "Reason : Python, only creates new reference for already exiting value/object within the range according to their variable datatype. For given boolean variables the values are True and False. Here, the Id's of a and b are same as only new references were created so 'a is b' results True and 'a is not b' results False.\n",
      "ID of variable 'a'    :  140710087485296\n",
      "ID of variable 'b'    :  140710087485296\n",
      "a is b                :  True\n",
      "a is not b            :  False\n"
     ]
    }
   ],
   "source": [
    "#Solution :  \n",
    "print(\"Solution : \")\n",
    "print(\"\\t Identity Operator on Boolean\")\n",
    "print(\"Solution A : \")\n",
    "\n",
    "#Boolean variable declaration\n",
    "print()\n",
    "a = True\n",
    "print(\"Value of variable 'a' : \", a)\n",
    "b = True\n",
    "print(\"Value of variable 'b' : \", b)\n",
    "\n",
    "print(\"'a is b' will result as 'True'\")\n",
    "print(\"'a is not b' will result as 'False'\")\n",
    "print(\"Reason : Python, only creates new reference for already exiting value/object within the range according to their variable datatype. For given boolean variables the values are True and False. Here, the Id's of a and b are same as only new references were created so 'a is b' results True and 'a is not b' results False.\")\n",
    "\n",
    "#Id of declared boolean variables\n",
    "print(\"ID of variable 'a'    : \", id(a))\n",
    "print(\"ID of variable 'b'    : \", id(b))\n",
    "print(\"a is b                : \", a is b)\n",
    "print(\"a is not b            : \", a is not b)\n",
    "\n",
    "print()\n",
    "print(\"Solution B : \")\n",
    "\n",
    "#Boolean variable declaration\n",
    "print()\n",
    "a = False\n",
    "print(\"Value of variable 'a' : \", a)\n",
    "b = False\n",
    "print(\"Value of variable 'b' : \", b)\n",
    "\n",
    "print(\"'a is b' will result as 'True'\")\n",
    "print(\"'a is not b' will result as 'False'\")\n",
    "print(\"Reason : Python, only creates new reference for already exiting value/object within the range according to their variable datatype. For given boolean variables the values are True and False. Here, the Id's of a and b are same as only new references were created so 'a is b' results True and 'a is not b' results False.\")\n",
    "\n",
    "#Id of declared integer variables\n",
    "print(\"ID of variable 'a'    : \", id(a))\n",
    "print(\"ID of variable 'b'    : \", id(b))\n",
    "print(\"a is b                : \", a is b)\n",
    "print(\"a is not b            : \", a is not b)"
   ]
  },
  {
   "cell_type": "code",
   "execution_count": 3,
   "metadata": {
    "colab": {},
    "colab_type": "code",
    "id": "AOcPQi8544M-"
   },
   "outputs": [],
   "source": [
    "#Membership operation\n",
    "#in, not in are two membership operators and it returns boolean value\n",
    "\n",
    "print(True in [10,10.20,10+20j,'Python', True])\n",
    "print(False in (10,10.20,10+20j,'Python', False))\n",
    "print(True in {1,2,3, True})\n",
    "print(True in {True:100, False:200, True:300})\n",
    "print(False in {True:100, False:200, True:300})"
   ]
  },
  {
   "cell_type": "code",
   "execution_count": 4,
   "metadata": {
    "colab": {},
    "colab_type": "code",
    "id": "MPa1Lpco46Ja"
   },
   "outputs": [
    {
     "name": "stdout",
     "output_type": "stream",
     "text": [
      "Solution :\n",
      "\t Membership Operator in Boolean values\n",
      "True in [10,10.20,10+20j,'Python', True]   - It will return True since the given list contains True        -  True\n",
      "False in (10,10.20,10+20j,'Python', False) - It will return True since the given tuple contains False      -  True\n",
      "True in {1,2,3, True}                      - It will return True since the given set contains True         -  True\n",
      "True in {True:100, False:200, True:300}    - It will return True since the given dictionary contains True  -  True\n",
      "False in {True:100, False:200, True:300}   - It will return True since the given dictionary contains False -  True\n"
     ]
    }
   ],
   "source": [
    "#Solution\n",
    "print(\"Solution :\")\n",
    "print(\"\\t Membership Operator in Boolean values\")\n",
    "\n",
    "#Results\n",
    "print(\"True in [10,10.20,10+20j,'Python', True]   - It will return True since the given list contains True        - \",True in [10,10.20,10+20j,'Python', True]) \n",
    "print(\"False in (10,10.20,10+20j,'Python', False) - It will return True since the given tuple contains False      - \",False in (10,10.20,10+20j,'Python', False))\n",
    "print(\"True in {1,2,3, True}                      - It will return True since the given set contains True         - \",True in {1,2,3, True})           \n",
    "print(\"True in {True:100, False:200, True:300}    - It will return True since the given dictionary contains True  - \",True in {True:100, False:200, True:300}) \n",
    "print(\"False in {True:100, False:200, True:300}   - It will return True since the given dictionary contains False - \",False in {True:100, False:200, True:300})                     "
   ]
  }
 ],
 "metadata": {
  "colab": {
   "name": "Boolean_Assignement.ipynb",
   "provenance": []
  },
  "kernelspec": {
   "display_name": "Python 3",
   "language": "python",
   "name": "python3"
  },
  "language_info": {
   "codemirror_mode": {
    "name": "ipython",
    "version": 3
   },
   "file_extension": ".py",
   "mimetype": "text/x-python",
   "name": "python",
   "nbconvert_exporter": "python",
   "pygments_lexer": "ipython3",
   "version": "3.8.3"
  }
 },
 "nbformat": 4,
 "nbformat_minor": 1
}
