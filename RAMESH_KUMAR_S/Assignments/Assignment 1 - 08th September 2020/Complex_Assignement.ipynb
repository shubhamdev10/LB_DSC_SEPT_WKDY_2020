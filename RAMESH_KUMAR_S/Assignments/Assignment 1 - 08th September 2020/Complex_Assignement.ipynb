{
 "cells": [
  {
   "cell_type": "markdown",
   "metadata": {},
   "source": [
    "# Assignment 1 - 08th September 2020 - Complex"
   ]
  },
  {
   "cell_type": "code",
   "execution_count": null,
   "metadata": {
    "colab": {},
    "colab_type": "code",
    "id": "JoMbQLjK3uHZ"
   },
   "outputs": [],
   "source": [
    "#Declare a complex number and store it in a variable. \n",
    "#Check the type and print the id of the same."
   ]
  },
  {
   "cell_type": "code",
   "execution_count": 2,
   "metadata": {},
   "outputs": [
    {
     "name": "stdout",
     "output_type": "stream",
     "text": [
      "Solution : \n",
      "\t Complex Variable Declaration, Type Check and Id\n",
      "Value of variable 'num' :  (10+5j)\n",
      "Type of variable 'num'  :  <class 'complex'>\n",
      "ID of variable 'num'    :  1775690064432\n"
     ]
    }
   ],
   "source": [
    "#Solution:\n",
    "#Complex variable declaration\n",
    "print(\"Solution : \")\n",
    "print(\"\\t Complex Variable Declaration, Type Check and Id\")\n",
    "num = 10+5j;\n",
    "print(\"Value of variable 'num' : \", num)\n",
    "\n",
    "#Type Check\n",
    "print(\"Type of variable 'num'  : \", type(num))\n",
    "\n",
    "#Id of declared complex variable\n",
    "print(\"ID of variable 'num'    : \", id(num))"
   ]
  },
  {
   "cell_type": "code",
   "execution_count": null,
   "metadata": {
    "colab": {},
    "colab_type": "code",
    "id": "6N6Ee4BU33jk"
   },
   "outputs": [],
   "source": [
    "#Arithmatic Operations on complex number\n",
    "#Take two different complex number.\n",
    "#Store them in two different variables.\n",
    "#Do below operations on them:-\n",
    "    #Find sum of both numbers\n",
    "    #Find differce between them\n",
    "    #Find the product of both numbers.\n",
    "    #Find value after dividing first num with second number\n",
    "    #Find the result of first num to the power of second number."
   ]
  },
  {
   "cell_type": "code",
   "execution_count": 5,
   "metadata": {},
   "outputs": [
    {
     "name": "stdout",
     "output_type": "stream",
     "text": [
      "Solution : \n",
      "\t Arithmetic Operations on Complex\n",
      "Value of variable 'num5'                                 :  (10+5j)\n",
      "Value of variable 'num6'                                 :  (5+5j)\n",
      "Sum of variables 'num5' & 'num6'                         : num5 +  num6 =  (15+10j)\n",
      "Difference of variables 'num5' & 'num6'                  : num5 -  num6 =  (5+0j)\n",
      "Product of variables 'num5' & 'num6'                     : num5 *  num6 =  (25+75j)\n",
      "Division of variables 'num5' & 'num6'                    : num5 /  num6 =  (1.5-0.5j)\n",
      "Power function in variables 'num5' & 'num6'              : num5 ** num6 =  (-4285.755015917138+16655.397872629277j)\n"
     ]
    }
   ],
   "source": [
    "#Solution :    \n",
    "print(\"Solution : \")\n",
    "print(\"\\t Arithmetic Operations on Complex\")\n",
    "\n",
    "#Complex variable declaration\n",
    "num5 = 10+5j\n",
    "print(\"Value of variable 'num5'                                 : \", num5)\n",
    "num6 = 5+5j\n",
    "print(\"Value of variable 'num6'                                 : \", num6)\n",
    "\n",
    "#Sum of declared complex variables\n",
    "print(\"Sum of variables 'num5' & 'num6'                         : num5 +  num6 = \", num5 + num6)\n",
    "\n",
    "#Difference of declared complex variables\n",
    "print(\"Difference of variables 'num5' & 'num6'                  : num5 -  num6 = \", num5 - num6)\n",
    "\n",
    "#Product of declared complex variables\n",
    "print(\"Product of variables 'num5' & 'num6'                     : num5 *  num6 = \", num5 * num6)\n",
    "\n",
    "#Division of declared complex variables\n",
    "print(\"Division of variables 'num5' & 'num6'                    : num5 /  num6 = \", num5 / num6)\n",
    "\n",
    "#Power function in declared complex variables\n",
    "print(\"Power function in variables 'num5' & 'num6'              : num5 ** num6 = \", num5 ** num6)"
   ]
  },
  {
   "cell_type": "code",
   "execution_count": 7,
   "metadata": {
    "colab": {},
    "colab_type": "code",
    "id": "xhkdg7LD352y"
   },
   "outputs": [],
   "source": [
    "#Comparison Operation not applicable between instance of complex values\n",
    "#Object reusability concept is not applicable on complex numebr"
   ]
  },
  {
   "cell_type": "code",
   "execution_count": 22,
   "metadata": {},
   "outputs": [
    {
     "name": "stdout",
     "output_type": "stream",
     "text": [
      "Solution A : \n",
      "\t Comparison Operation not applicable between instance of complex values\n",
      "\n",
      "Reason : Complex values have real and imaginary part. Comparison operator need to compare the real and imaginary part independently which should be done by taking the square root of -1 in imaginary part by mathematically. Since it cannot be done by programmatically, Comparison Operation not applicable between instance of complex values.\n",
      "\n",
      "Solution B : \n",
      "\t Object reusability concept is not applicable on complex numebr\n",
      "\n",
      "Value of variable 'a' :  (10+20j)\n",
      "Value of variable 'b' :  (10+20j)\n",
      "'a is b' will result as 'False'\n",
      "'a is not b' will result as 'True'\n",
      "Reason : Python does not creates only reference for complex variables/values. it creates a new object and reference for every complex variables though they are having same values. Reusing memory to refer the existing value will not happen for complex datatype. So, Id's of a and b are different therefore 'a is b' results False and 'a is not b' results True. Thus, Object reusability concept is not applicable on complex numebr.\n",
      "ID of variable 'a'    :  1775690067408\n",
      "ID of variable 'b'    :  1775690066896\n",
      "a is b                :  False\n",
      "a is not b            :  True\n"
     ]
    }
   ],
   "source": [
    "#Solution :    \n",
    "print(\"Solution A : \")\n",
    "print(\"\\t Comparison Operation not applicable between instance of complex values\")\n",
    "print()\n",
    "print(\"Reason : Complex values have real and imaginary part. Comparison operator need to compare the real and imaginary part independently which should be done by taking the square root of -1 in imaginary part by mathematically. Since it cannot be done by programmatically, Comparison Operation not applicable between instance of complex values.\")\n",
    "\n",
    "print()\n",
    "print(\"Solution B : \")\n",
    "print(\"\\t Object reusability concept is not applicable on complex numebr\")\n",
    "print()\n",
    "\n",
    "#Complex variable declaration\n",
    "a = 10+20j\n",
    "print(\"Value of variable 'a' : \", a)\n",
    "b = 10+20j\n",
    "print(\"Value of variable 'b' : \", b)\n",
    "\n",
    "print(\"'a is b' will result as 'False'\")\n",
    "print(\"'a is not b' will result as 'True'\")\n",
    "print(\"Reason : Python does not creates only reference for complex variables/values. it creates a new object and reference for every complex variables though they are having same values. Reusing memory to refer the existing value will not happen for complex datatype. So, Id's of a and b are different therefore 'a is b' results False and 'a is not b' results True. Thus, Object reusability concept is not applicable on complex numebr.\")\n",
    "\n",
    "#Id of declared complex variables\n",
    "print(\"ID of variable 'a'    : \", id(a))\n",
    "print(\"ID of variable 'b'    : \", id(b))\n",
    "print(\"a is b                : \", a is b)\n",
    "print(\"a is not b            : \", a is not b)"
   ]
  },
  {
   "cell_type": "code",
   "execution_count": null,
   "metadata": {
    "colab": {},
    "colab_type": "code",
    "id": "4lzPH2sb38KM"
   },
   "outputs": [],
   "source": [
    "#Equality Operator\n",
    "#Take two different complex numbers.\n",
    "#Store them in two different variables.\n",
    "#Equuate them using equality operator (==, !=)\n",
    "#Observe the output(return type should be boolean)"
   ]
  },
  {
   "cell_type": "code",
   "execution_count": 16,
   "metadata": {},
   "outputs": [
    {
     "name": "stdout",
     "output_type": "stream",
     "text": [
      "Solution : \n",
      "\t Equality Operator on Complex\n",
      "Value of variable 'num9'                              :  (22+54j)\n",
      "Value of variable 'num10'                             :  (29+54j)\n",
      "Equal to Equal operator on variables 'num9' & 'num10  : num9 ==  num10 =  False\n",
      "Not Equal to operator on variables 'num9' & 'num10    : num9 !=  num10 =  True\n"
     ]
    }
   ],
   "source": [
    "#Solution :    \n",
    "print(\"Solution : \")\n",
    "print(\"\\t Equality Operator on Complex\")\n",
    "\n",
    "#Complex variable declaration\n",
    "num9 = 22+54j;\n",
    "print(\"Value of variable 'num9'                              : \", num9)\n",
    "num10 = 29+54j;\n",
    "print(\"Value of variable 'num10'                             : \", num10)\n",
    "\n",
    "#Equal to Equal operator on declared complex variables\n",
    "print(\"Equal to Equal operator on variables 'num9' & 'num10  : num9 ==  num10 = \", num9 == num10)\n",
    "\n",
    "#Not Equal to operator on declared complex variables\n",
    "print(\"Not Equal to operator on variables 'num9' & 'num10    : num9 !=  num10 = \", num9 != num10)"
   ]
  },
  {
   "cell_type": "code",
   "execution_count": null,
   "metadata": {
    "colab": {},
    "colab_type": "code",
    "id": "EDEl19UD3_tr"
   },
   "outputs": [],
   "source": [
    "#Logical operators\n",
    "#Observe the output of below code\n",
    "#Cross check the output manually\n",
    "\n",
    "print(10+20j and 20+30j)    #20+30j    #----------------------------------------->Output is 20+30j\n",
    "print(0+0j and 20+30j)      #0+0j    #----------------------------------------->Output is 0j\n",
    "print(20+30j and 0+0j)      #0+0j   #----------------------------------------->Output is 0j\n",
    "print(0+0j and 0+0j)        #0+0j   #----------------------------------------->Output is 0j\n",
    "\n",
    "print(10+20j or 20+30j)     #10+20j   #----------------------------------------->Output is 10+20j\n",
    "print(0+0j or 20+30j)       #20+30j   #----------------------------------------->Output is 20+30j\n",
    "print(20+30j or 0+0j)       #20+30j  #----------------------------------------->Output is 20+30j\n",
    "print(0+0j or 0+0j)         #0+0j   #----------------------------------------->Output is 0j\n",
    "\n",
    "print(not 10+20j)           #False   #----------------------------------------->Output is False\n",
    "print(not 0+0j)             #True   #----------------------------------------->Output is True"
   ]
  },
  {
   "cell_type": "code",
   "execution_count": 17,
   "metadata": {},
   "outputs": [
    {
     "name": "stdout",
     "output_type": "stream",
     "text": [
      "Solution : \n",
      "\t Logical Operator on Complex\n",
      "'and' Operator on complex values\n",
      "Reason : Below operations follows the funtional definition 'A and B returns A if A is False else B'. \n",
      " \t According to this 'and' operator evaluates first condition/value, if it is False it will return False without evalauting the second condition/value. If first condition is True, then it will evaluate the second condtion/value then the returns the result.\n",
      "10+20j and 20+30j :  (20+30j)\n",
      "0+0j   and 20+30j :  0j\n",
      "20+30j and 0+0j   :  0j\n",
      "0+0j   and 0+0j   :  0j\n",
      "\n",
      "'or' Operator on complex values\n",
      "Reason : Below operations follows the funtional definition 'A or B returns A if A is True else B'. \n",
      " \t According to this 'or' operator evaluates first condition/value, if it is True it will return True without evalauting the second condition/value. If first condition is False, then it will evaluate the second condtion/value then the returns the result.\n",
      "10+20j or 20+30j  :  (10+20j)\n",
      "0+0j   or 20+30j  :  (20+30j)\n",
      "20+30j or 0+0j    :  (20+30j)\n",
      "0+0j   or 0+0j    :  0j\n",
      "\n",
      "'not' Operator on complex values\n",
      "Reason : Below operations follows the funtional definition 'not A returns False if A is True else True'. \n",
      " \t According to this 'not' operator evaluates the condition/value, if it results True it will return False and if it results False, it will return True.\n",
      "not 10+20j        :  False\n",
      "not 0+0j          :  True\n"
     ]
    }
   ],
   "source": [
    "#Solution :    \n",
    "print(\"Solution : \")\n",
    "print(\"\\t Logical Operator on Complex\")\n",
    "\n",
    "#and Operator on complex values\n",
    "print(\"'and' Operator on complex values\")\n",
    "print(\"Reason : Below operations follows the funtional definition 'A and B returns A if A is False else B'. \\n \\t According to this 'and' operator evaluates first condition/value, if it is False it will return False without evalauting the second condition/value. If first condition is True, then it will evaluate the second condtion/value then the returns the result.\")\n",
    "print(\"10+20j and 20+30j : \", 10+20j and 20+30j)\n",
    "print(\"0+0j   and 20+30j : \", 0+0j and 20+30j)\n",
    "print(\"20+30j and 0+0j   : \", 20+30j and 0+0j)\n",
    "print(\"0+0j   and 0+0j   : \", 0+0j and 0+0j)\n",
    "\n",
    "print()\n",
    "#or Operator on complex values\n",
    "print(\"'or' Operator on complex values\")\n",
    "print(\"Reason : Below operations follows the funtional definition 'A or B returns A if A is True else B'. \\n \\t According to this 'or' operator evaluates first condition/value, if it is True it will return True without evalauting the second condition/value. If first condition is False, then it will evaluate the second condtion/value then the returns the result.\")\n",
    "print(\"10+20j or 20+30j  : \", 10+20j or 20+30j)\n",
    "print(\"0+0j   or 20+30j  : \", 0+0j or 20+30j)\n",
    "print(\"20+30j or 0+0j    : \", 20+30j or 0+0j)\n",
    "print(\"0+0j   or 0+0j    : \", 0+0j or 0+0j)\n",
    "\n",
    "print()\n",
    "#not Operator on complex values\n",
    "print(\"'not' Operator on complex values\")\n",
    "print(\"Reason : Below operations follows the funtional definition 'not A returns False if A is True else True'. \\n \\t According to this 'not' operator evaluates the condition/value, if it results True it will return False and if it results False, it will return True.\")\n",
    "print(\"not 10+20j        : \", not 10+20j)\n",
    "print(\"not 0+0j          : \", not 0+0j)"
   ]
  },
  {
   "cell_type": "code",
   "execution_count": 19,
   "metadata": {
    "colab": {},
    "colab_type": "code",
    "id": "4ifueKbP4Br1"
   },
   "outputs": [],
   "source": [
    "#What is the output of expression inside print statement. Cross check before running the program.\n",
    "a = 10+20j\n",
    "b = 10+20j\n",
    "print(a is b)       #False   #True or False?\n",
    "print(a is not b)   #True   #True or False?"
   ]
  },
  {
   "cell_type": "code",
   "execution_count": 21,
   "metadata": {},
   "outputs": [
    {
     "name": "stdout",
     "output_type": "stream",
     "text": [
      "Solution : \n",
      "\t Identity Operator on complex numebr\n",
      "\n",
      "Value of variable 'a' :  (10+20j)\n",
      "Value of variable 'b' :  (10+20j)\n",
      "'a is b' will result as 'False'\n",
      "'a is not b' will result as 'True'\n",
      "Reason : Python does not creates only reference for complex variables/values. it creates a new object and reference for every complex variables though they are having same values. Reusing memory to refer the existing value will not happen for complex datatype. So, Id's of a and b are different therefore 'a is b' results False and 'a is not b' results True. Thus, Object reusability concept is not applicable on complex numebr.\n",
      "ID of variable 'a'    :  1775690066640\n",
      "ID of variable 'b'    :  1775690066448\n",
      "a is b                :  False\n",
      "a is not b            :  True\n"
     ]
    }
   ],
   "source": [
    "#Solution\n",
    "print(\"Solution : \")\n",
    "print(\"\\t Identity Operator on complex numebr\")\n",
    "print()\n",
    "\n",
    "#Complex variable declaration\n",
    "a = 10+20j\n",
    "print(\"Value of variable 'a' : \", a)\n",
    "b = 10+20j\n",
    "print(\"Value of variable 'b' : \", b)\n",
    "\n",
    "print(\"'a is b' will result as 'False'\")\n",
    "print(\"'a is not b' will result as 'True'\")\n",
    "print(\"Reason : Python does not creates only reference for complex variables/values. it creates a new object and reference for every complex variables though they are having same values. Reusing memory to refer the existing value will not happen for complex datatype. So, Id's of a and b are different therefore 'a is b' results False and 'a is not b' results True. Thus, Object reusability concept is not applicable on complex numebr.\")\n",
    "\n",
    "#Id of declared complex variables\n",
    "print(\"ID of variable 'a'    : \", id(a))\n",
    "print(\"ID of variable 'b'    : \", id(b))\n",
    "print(\"a is b                : \", a is b)\n",
    "print(\"a is not b            : \", a is not b)"
   ]
  },
  {
   "cell_type": "code",
   "execution_count": null,
   "metadata": {
    "colab": {},
    "colab_type": "code",
    "id": "TxMbr5jQ4Dwl"
   },
   "outputs": [],
   "source": [
    "#Membership operation\n",
    "#in, not in are two membership operators and it returns boolean value\n",
    "\n",
    "print('2.7' in 'Python2.7.8')                      #True\n",
    "print(10+20j in [10,10.20,10+20j,'Python'])        #True\n",
    "print(10+20j in (10,10.20,10+20j,'Python'))        #True\n",
    "print(30+40j in {1,20.30,30+40j})                  #True\n",
    "print(30+40j in {1:100, 2.3:200, 30+40j:300})      #True\n",
    "print(10 in range(20))                             #True"
   ]
  },
  {
   "cell_type": "code",
   "execution_count": 23,
   "metadata": {},
   "outputs": [
    {
     "name": "stdout",
     "output_type": "stream",
     "text": [
      "Solution :\n",
      "\t Membership Operator in Complex values\n",
      "'2.7' in 'Python2.7.8'                 - It will return True since 'Python2.7.8' contains 2.7'          -  True\n",
      "10+20j in [10,10.20,10+20j,'Python']   - It will return True since the given list contains 10+20j       -  True\n",
      "10+20j in (10,10.20,10+20j,'Python')   - It will return True since the given tuple contains 10+20j      -  True\n",
      "30+40j in {1,20.30,30+40j}             - It will return True since the given set contains 30+40j        -  True\n",
      "30+40j in {1:100, 2.3:200, 30+40j:300} - It will return True since the given dictionary contains 30+40j -  True\n",
      "10 in range(20)                        - It will return True since the given ranges contains 10         -  True\n"
     ]
    }
   ],
   "source": [
    "#Solution\n",
    "print(\"Solution :\")\n",
    "print(\"\\t Membership Operator in Complex values\")\n",
    "\n",
    "#Results\n",
    "print(\"'2.7' in 'Python2.7.8'                 - It will return True since 'Python2.7.8' contains 2.7'          - \",'2.7' in 'Python2.7.8')              \n",
    "print(\"10+20j in [10,10.20,10+20j,'Python']   - It will return True since the given list contains 10+20j       - \",10+20j in [10,10.20,10+20j,'Python']) \n",
    "print(\"10+20j in (10,10.20,10+20j,'Python')   - It will return True since the given tuple contains 10+20j      - \",10+20j in (10,10.20,10+20j,'Python'))\n",
    "print(\"30+40j in {1,20.30,30+40j}             - It will return True since the given set contains 30+40j        - \",30+40j in {1,20.30,30+40j})           \n",
    "print(\"30+40j in {1:100, 2.3:200, 30+40j:300} - It will return True since the given dictionary contains 30+40j - \",30+40j in {1:100, 2.3:200, 30+40j:300}) \n",
    "print(\"10 in range(20)                        - It will return True since the given ranges contains 10         - \",10 in range(20))                     "
   ]
  }
 ],
 "metadata": {
  "colab": {
   "name": "Complex_Assignement.ipynb",
   "provenance": []
  },
  "kernelspec": {
   "display_name": "Python 3",
   "language": "python",
   "name": "python3"
  },
  "language_info": {
   "codemirror_mode": {
    "name": "ipython",
    "version": 3
   },
   "file_extension": ".py",
   "mimetype": "text/x-python",
   "name": "python",
   "nbconvert_exporter": "python",
   "pygments_lexer": "ipython3",
   "version": "3.8.3"
  }
 },
 "nbformat": 4,
 "nbformat_minor": 1
}
